{
 "cells": [
  {
   "cell_type": "markdown",
   "metadata": {},
   "source": [
    "# CS224N Assignment 1: Exploring Word Vectors (25 Points)\n",
    "### <font color='blue'> Due 4:30pm, Tue Jan 19 </font>\n",
    "\n",
    "Welcome to CS224N! \n",
    "\n",
    "Before you start, make sure you read the README.txt in the same directory as this notebook for important setup information. A lot of code is provided in this notebook, and we highly encourage you to read and understand it as part of the learning :)\n",
    "\n",
    "If you aren't super familiar with Python, Numpy, or Matplotlib, we recommend you check out the review session on Friday. The session will be recorded and the material will be made available on our [website](http://web.stanford.edu/class/cs224n/index.html#schedule). The CS231N Python/Numpy [tutorial](https://cs231n.github.io/python-numpy-tutorial/) is also a great resource.\n",
    "\n",
    "\n",
    "**Assignment Notes:** Please make sure to save the notebook as you go along. Submission Instructions are located at the bottom of the notebook."
   ]
  },
  {
   "cell_type": "code",
   "execution_count": 281,
   "metadata": {},
   "outputs": [
    {
     "name": "stderr",
     "output_type": "stream",
     "text": [
      "[nltk_data] Error loading reuters: <urlopen error [Errno 54]\n",
      "[nltk_data]     Connection reset by peer>\n"
     ]
    }
   ],
   "source": [
    "# All Import Statements Defined Here\n",
    "# Note: Do not add to this list.\n",
    "# ----------------\n",
    "\n",
    "import sys\n",
    "assert sys.version_info[0]==3\n",
    "assert sys.version_info[1] >= 5\n",
    "\n",
    "from gensim.models import KeyedVectors\n",
    "from gensim.test.utils import datapath\n",
    "import pprint\n",
    "import matplotlib.pyplot as plt\n",
    "plt.rcParams['figure.figsize'] = [10, 5]\n",
    "import nltk\n",
    "nltk.download('reuters')\n",
    "from nltk.corpus import reuters\n",
    "import numpy as np\n",
    "import random\n",
    "import scipy as sp\n",
    "from sklearn.decomposition import TruncatedSVD\n",
    "from sklearn.decomposition import PCA\n",
    "\n",
    "START_TOKEN = '<START>'\n",
    "END_TOKEN = '<END>'\n",
    "\n",
    "np.random.seed(0)\n",
    "random.seed(0)\n",
    "# ----------------"
   ]
  },
  {
   "cell_type": "markdown",
   "metadata": {},
   "source": [
    "## Word Vectors\n",
    "\n",
    "Word Vectors are often used as a fundamental component for downstream NLP tasks, e.g. question answering, text generation, translation, etc., so it is important to build some intuitions as to their strengths and weaknesses. Here, you will explore two types of word vectors: those derived from *co-occurrence matrices*, and those derived via *GloVe*. \n",
    "\n",
    "**Note on Terminology:** The terms \"word vectors\" and \"word embeddings\" are often used interchangeably. The term \"embedding\" refers to the fact that we are encoding aspects of a word's meaning in a lower dimensional space. As [Wikipedia](https://en.wikipedia.org/wiki/Word_embedding) states, \"*conceptually it involves a mathematical embedding from a space with one dimension per word to a continuous vector space with a much lower dimension*\"."
   ]
  },
  {
   "cell_type": "markdown",
   "metadata": {},
   "source": [
    "## Part 1: Count-Based Word Vectors (10 points)\n",
    "\n",
    "Most word vector models start from the following idea:\n",
    "\n",
    "*You shall know a word by the company it keeps ([Firth, J. R. 1957:11](https://en.wikipedia.org/wiki/John_Rupert_Firth))*\n",
    "\n",
    "Many word vector implementations are driven by the idea that similar words, i.e., (near) synonyms, will be used in similar contexts. As a result, similar words will often be spoken or written along with a shared subset of words, i.e., contexts. By examining these contexts, we can try to develop embeddings for our words. With this intuition in mind, many \"old school\" approaches to constructing word vectors relied on word counts. Here we elaborate upon one of those strategies, *co-occurrence matrices* (for more information, see [here](http://web.stanford.edu/class/cs124/lec/vectorsemantics.video.pdf) or [here](https://medium.com/data-science-group-iitr/word-embedding-2d05d270b285))."
   ]
  },
  {
   "cell_type": "markdown",
   "metadata": {},
   "source": [
    "### Co-Occurrence\n",
    "\n",
    "A co-occurrence matrix counts how often things co-occur in some environment. Given some word $w_i$ occurring in the document, we consider the *context window* surrounding $w_i$. Supposing our fixed window size is $n$, then this is the $n$ preceding and $n$ subsequent words in that document, i.e. words $w_{i-n} \\dots w_{i-1}$ and $w_{i+1} \\dots w_{i+n}$. We build a *co-occurrence matrix* $M$, which is a symmetric word-by-word matrix in which $M_{ij}$ is the number of times $w_j$ appears inside $w_i$'s window among all documents.\n",
    "\n",
    "**Example: Co-Occurrence with Fixed Window of n=1**:\n",
    "\n",
    "Document 1: \"all that glitters is not gold\"\n",
    "\n",
    "Document 2: \"all is well that ends well\"\n",
    "\n",
    "\n",
    "|     *    | `<START>` | all | that | glitters | is   | not  | gold  | well | ends | `<END>` |\n",
    "|----------|-------|-----|------|----------|------|------|-------|------|------|-----|\n",
    "| `<START>`    | 0     | 2   | 0    | 0        | 0    | 0    | 0     | 0    | 0    | 0   |\n",
    "| all      | 2     | 0   | 1    | 0        | 1    | 0    | 0     | 0    | 0    | 0   |\n",
    "| that     | 0     | 1   | 0    | 1        | 0    | 0    | 0     | 1    | 1    | 0   |\n",
    "| glitters | 0     | 0   | 1    | 0        | 1    | 0    | 0     | 0    | 0    | 0   |\n",
    "| is       | 0     | 1   | 0    | 1        | 0    | 1    | 0     | 1    | 0    | 0   |\n",
    "| not      | 0     | 0   | 0    | 0        | 1    | 0    | 1     | 0    | 0    | 0   |\n",
    "| gold     | 0     | 0   | 0    | 0        | 0    | 1    | 0     | 0    | 0    | 1   |\n",
    "| well     | 0     | 0   | 1    | 0        | 1    | 0    | 0     | 0    | 1    | 1   |\n",
    "| ends     | 0     | 0   | 1    | 0        | 0    | 0    | 0     | 1    | 0    | 0   |\n",
    "| `<END>`      | 0     | 0   | 0    | 0        | 0    | 0    | 1     | 1    | 0    | 0   |\n",
    "\n",
    "**Note:** In NLP, we often add `<START>` and `<END>` tokens to represent the beginning and end of sentences, paragraphs or documents. In thise case we imagine `<START>` and `<END>` tokens encapsulating each document, e.g., \"`<START>` All that glitters is not gold `<END>`\", and include these tokens in our co-occurrence counts.\n",
    "\n",
    "The rows (or columns) of this matrix provide one type of word vectors (those based on word-word co-occurrence), but the vectors will be large in general (linear in the number of distinct words in a corpus). Thus, our next step is to run *dimensionality reduction*. In particular, we will run *SVD (Singular Value Decomposition)*, which is a kind of generalized *PCA (Principal Components Analysis)* to select the top $k$ principal components. Here's a visualization of dimensionality reduction with SVD. In this picture our co-occurrence matrix is $A$ with $n$ rows corresponding to $n$ words. We obtain a full matrix decomposition, with the singular values ordered in the diagonal $S$ matrix, and our new, shorter length-$k$ word vectors in $U_k$.\n",
    "\n",
    "![Picture of an SVD](./imgs/svd.png \"SVD\")\n",
    "\n",
    "This reduced-dimensionality co-occurrence representation preserves semantic relationships between words, e.g. *doctor* and *hospital* will be closer than *doctor* and *dog*. \n",
    "\n",
    "**Notes:** If you can barely remember what an eigenvalue is, here's [a slow, friendly introduction to SVD](https://davetang.org/file/Singular_Value_Decomposition_Tutorial.pdf). If you want to learn more thoroughly about PCA or SVD, feel free to check out lectures [7](https://web.stanford.edu/class/cs168/l/l7.pdf), [8](http://theory.stanford.edu/~tim/s15/l/l8.pdf), and [9](https://web.stanford.edu/class/cs168/l/l9.pdf) of CS168. These course notes provide a great high-level treatment of these general purpose algorithms. Though, for the purpose of this class, you only need to know how to extract the k-dimensional embeddings by utilizing pre-programmed implementations of these algorithms from the numpy, scipy, or sklearn python packages. In practice, it is challenging to apply full SVD to large corpora because of the memory needed to perform PCA or SVD. However, if you only want the top $k$ vector components for relatively small $k$ — known as [Truncated SVD](https://en.wikipedia.org/wiki/Singular_value_decomposition#Truncated_SVD) — then there are reasonably scalable techniques to compute those iteratively."
   ]
  },
  {
   "cell_type": "markdown",
   "metadata": {},
   "source": [
    "### Plotting Co-Occurrence Word Embeddings\n",
    "\n",
    "Here, we will be using the Reuters (business and financial news) corpus. If you haven't run the import cell at the top of this page, please run it now (click it and press SHIFT-RETURN). The corpus consists of 10,788 news documents totaling 1.3 million words. These documents span 90 categories and are split into train and test. For more details, please see https://www.nltk.org/book/ch02.html. We provide a `read_corpus` function below that pulls out only articles from the \"crude\" (i.e. news articles about oil, gas, etc.) category. The function also adds `<START>` and `<END>` tokens to each of the documents, and lowercases words. You do **not** have to perform any other kind of pre-processing."
   ]
  },
  {
   "cell_type": "code",
   "execution_count": 282,
   "metadata": {},
   "outputs": [],
   "source": [
    "def read_corpus(category=\"crude\"):\n",
    "    \"\"\" Read files from the specified Reuter's category.\n",
    "        Params:\n",
    "            category (string): category name\n",
    "        Return:\n",
    "            list of lists, with words from each of the processed files\n",
    "    \"\"\"\n",
    "    files = reuters.fileids(category)\n",
    "    return [[START_TOKEN] + [w.lower() for w in list(reuters.words(f))] + [END_TOKEN] for f in files]\n"
   ]
  },
  {
   "cell_type": "markdown",
   "metadata": {},
   "source": [
    "Let's have a look what these documents are like…."
   ]
  },
  {
   "cell_type": "code",
   "execution_count": 283,
   "metadata": {
    "scrolled": false
   },
   "outputs": [
    {
     "name": "stdout",
     "output_type": "stream",
     "text": [
      "[['<START>', 'japan', 'to', 'revise', 'long', '-', 'term', 'energy', 'demand', 'downwards', 'the',\n",
      "  'ministry', 'of', 'international', 'trade', 'and', 'industry', '(', 'miti', ')', 'will', 'revise',\n",
      "  'its', 'long', '-', 'term', 'energy', 'supply', '/', 'demand', 'outlook', 'by', 'august', 'to',\n",
      "  'meet', 'a', 'forecast', 'downtrend', 'in', 'japanese', 'energy', 'demand', ',', 'ministry',\n",
      "  'officials', 'said', '.', 'miti', 'is', 'expected', 'to', 'lower', 'the', 'projection', 'for',\n",
      "  'primary', 'energy', 'supplies', 'in', 'the', 'year', '2000', 'to', '550', 'mln', 'kilolitres',\n",
      "  '(', 'kl', ')', 'from', '600', 'mln', ',', 'they', 'said', '.', 'the', 'decision', 'follows',\n",
      "  'the', 'emergence', 'of', 'structural', 'changes', 'in', 'japanese', 'industry', 'following',\n",
      "  'the', 'rise', 'in', 'the', 'value', 'of', 'the', 'yen', 'and', 'a', 'decline', 'in', 'domestic',\n",
      "  'electric', 'power', 'demand', '.', 'miti', 'is', 'planning', 'to', 'work', 'out', 'a', 'revised',\n",
      "  'energy', 'supply', '/', 'demand', 'outlook', 'through', 'deliberations', 'of', 'committee',\n",
      "  'meetings', 'of', 'the', 'agency', 'of', 'natural', 'resources', 'and', 'energy', ',', 'the',\n",
      "  'officials', 'said', '.', 'they', 'said', 'miti', 'will', 'also', 'review', 'the', 'breakdown',\n",
      "  'of', 'energy', 'supply', 'sources', ',', 'including', 'oil', ',', 'nuclear', ',', 'coal', 'and',\n",
      "  'natural', 'gas', '.', 'nuclear', 'energy', 'provided', 'the', 'bulk', 'of', 'japan', \"'\", 's',\n",
      "  'electric', 'power', 'in', 'the', 'fiscal', 'year', 'ended', 'march', '31', ',', 'supplying',\n",
      "  'an', 'estimated', '27', 'pct', 'on', 'a', 'kilowatt', '/', 'hour', 'basis', ',', 'followed',\n",
      "  'by', 'oil', '(', '23', 'pct', ')', 'and', 'liquefied', 'natural', 'gas', '(', '21', 'pct', '),',\n",
      "  'they', 'noted', '.', '<END>'],\n",
      " ['<START>', 'energy', '/', 'u', '.', 's', '.', 'petrochemical', 'industry', 'cheap', 'oil',\n",
      "  'feedstocks', ',', 'the', 'weakened', 'u', '.', 's', '.', 'dollar', 'and', 'a', 'plant',\n",
      "  'utilization', 'rate', 'approaching', '90', 'pct', 'will', 'propel', 'the', 'streamlined', 'u',\n",
      "  '.', 's', '.', 'petrochemical', 'industry', 'to', 'record', 'profits', 'this', 'year', ',',\n",
      "  'with', 'growth', 'expected', 'through', 'at', 'least', '1990', ',', 'major', 'company',\n",
      "  'executives', 'predicted', '.', 'this', 'bullish', 'outlook', 'for', 'chemical', 'manufacturing',\n",
      "  'and', 'an', 'industrywide', 'move', 'to', 'shed', 'unrelated', 'businesses', 'has', 'prompted',\n",
      "  'gaf', 'corp', '&', 'lt', ';', 'gaf', '>,', 'privately', '-', 'held', 'cain', 'chemical', 'inc',\n",
      "  ',', 'and', 'other', 'firms', 'to', 'aggressively', 'seek', 'acquisitions', 'of', 'petrochemical',\n",
      "  'plants', '.', 'oil', 'companies', 'such', 'as', 'ashland', 'oil', 'inc', '&', 'lt', ';', 'ash',\n",
      "  '>,', 'the', 'kentucky', '-', 'based', 'oil', 'refiner', 'and', 'marketer', ',', 'are', 'also',\n",
      "  'shopping', 'for', 'money', '-', 'making', 'petrochemical', 'businesses', 'to', 'buy', '.', '\"',\n",
      "  'i', 'see', 'us', 'poised', 'at', 'the', 'threshold', 'of', 'a', 'golden', 'period', ',\"', 'said',\n",
      "  'paul', 'oreffice', ',', 'chairman', 'of', 'giant', 'dow', 'chemical', 'co', '&', 'lt', ';',\n",
      "  'dow', '>,', 'adding', ',', '\"', 'there', \"'\", 's', 'no', 'major', 'plant', 'capacity', 'being',\n",
      "  'added', 'around', 'the', 'world', 'now', '.', 'the', 'whole', 'game', 'is', 'bringing', 'out',\n",
      "  'new', 'products', 'and', 'improving', 'the', 'old', 'ones', '.\"', 'analysts', 'say', 'the',\n",
      "  'chemical', 'industry', \"'\", 's', 'biggest', 'customers', ',', 'automobile', 'manufacturers',\n",
      "  'and', 'home', 'builders', 'that', 'use', 'a', 'lot', 'of', 'paints', 'and', 'plastics', ',',\n",
      "  'are', 'expected', 'to', 'buy', 'quantities', 'this', 'year', '.', 'u', '.', 's', '.',\n",
      "  'petrochemical', 'plants', 'are', 'currently', 'operating', 'at', 'about', '90', 'pct',\n",
      "  'capacity', ',', 'reflecting', 'tighter', 'supply', 'that', 'could', 'hike', 'product', 'prices',\n",
      "  'by', '30', 'to', '40', 'pct', 'this', 'year', ',', 'said', 'john', 'dosher', ',', 'managing',\n",
      "  'director', 'of', 'pace', 'consultants', 'inc', 'of', 'houston', '.', 'demand', 'for', 'some',\n",
      "  'products', 'such', 'as', 'styrene', 'could', 'push', 'profit', 'margins', 'up', 'by', 'as',\n",
      "  'much', 'as', '300', 'pct', ',', 'he', 'said', '.', 'oreffice', ',', 'speaking', 'at', 'a',\n",
      "  'meeting', 'of', 'chemical', 'engineers', 'in', 'houston', ',', 'said', 'dow', 'would', 'easily',\n",
      "  'top', 'the', '741', 'mln', 'dlrs', 'it', 'earned', 'last', 'year', 'and', 'predicted', 'it',\n",
      "  'would', 'have', 'the', 'best', 'year', 'in', 'its', 'history', '.', 'in', '1985', ',', 'when',\n",
      "  'oil', 'prices', 'were', 'still', 'above', '25', 'dlrs', 'a', 'barrel', 'and', 'chemical',\n",
      "  'exports', 'were', 'adversely', 'affected', 'by', 'the', 'strong', 'u', '.', 's', '.', 'dollar',\n",
      "  ',', 'dow', 'had', 'profits', 'of', '58', 'mln', 'dlrs', '.', '\"', 'i', 'believe', 'the',\n",
      "  'entire', 'chemical', 'industry', 'is', 'headed', 'for', 'a', 'record', 'year', 'or', 'close',\n",
      "  'to', 'it', ',\"', 'oreffice', 'said', '.', 'gaf', 'chairman', 'samuel', 'heyman', 'estimated',\n",
      "  'that', 'the', 'u', '.', 's', '.', 'chemical', 'industry', 'would', 'report', 'a', '20', 'pct',\n",
      "  'gain', 'in', 'profits', 'during', '1987', '.', 'last', 'year', ',', 'the', 'domestic',\n",
      "  'industry', 'earned', 'a', 'total', 'of', '13', 'billion', 'dlrs', ',', 'a', '54', 'pct', 'leap',\n",
      "  'from', '1985', '.', 'the', 'turn', 'in', 'the', 'fortunes', 'of', 'the', 'once', '-', 'sickly',\n",
      "  'chemical', 'industry', 'has', 'been', 'brought', 'about', 'by', 'a', 'combination', 'of', 'luck',\n",
      "  'and', 'planning', ',', 'said', 'pace', \"'\", 's', 'john', 'dosher', '.', 'dosher', 'said', 'last',\n",
      "  'year', \"'\", 's', 'fall', 'in', 'oil', 'prices', 'made', 'feedstocks', 'dramatically', 'cheaper',\n",
      "  'and', 'at', 'the', 'same', 'time', 'the', 'american', 'dollar', 'was', 'weakening', 'against',\n",
      "  'foreign', 'currencies', '.', 'that', 'helped', 'boost', 'u', '.', 's', '.', 'chemical',\n",
      "  'exports', '.', 'also', 'helping', 'to', 'bring', 'supply', 'and', 'demand', 'into', 'balance',\n",
      "  'has', 'been', 'the', 'gradual', 'market', 'absorption', 'of', 'the', 'extra', 'chemical',\n",
      "  'manufacturing', 'capacity', 'created', 'by', 'middle', 'eastern', 'oil', 'producers', 'in',\n",
      "  'the', 'early', '1980s', '.', 'finally', ',', 'virtually', 'all', 'major', 'u', '.', 's', '.',\n",
      "  'chemical', 'manufacturers', 'have', 'embarked', 'on', 'an', 'extensive', 'corporate',\n",
      "  'restructuring', 'program', 'to', 'mothball', 'inefficient', 'plants', ',', 'trim', 'the',\n",
      "  'payroll', 'and', 'eliminate', 'unrelated', 'businesses', '.', 'the', 'restructuring', 'touched',\n",
      "  'off', 'a', 'flurry', 'of', 'friendly', 'and', 'hostile', 'takeover', 'attempts', '.', 'gaf', ',',\n",
      "  'which', 'made', 'an', 'unsuccessful', 'attempt', 'in', '1985', 'to', 'acquire', 'union',\n",
      "  'carbide', 'corp', '&', 'lt', ';', 'uk', '>,', 'recently', 'offered', 'three', 'billion', 'dlrs',\n",
      "  'for', 'borg', 'warner', 'corp', '&', 'lt', ';', 'bor', '>,', 'a', 'chicago', 'manufacturer',\n",
      "  'of', 'plastics', 'and', 'chemicals', '.', 'another', 'industry', 'powerhouse', ',', 'w', '.',\n",
      "  'r', '.', 'grace', '&', 'lt', ';', 'gra', '>', 'has', 'divested', 'its', 'retailing', ',',\n",
      "  'restaurant', 'and', 'fertilizer', 'businesses', 'to', 'raise', 'cash', 'for', 'chemical',\n",
      "  'acquisitions', '.', 'but', 'some', 'experts', 'worry', 'that', 'the', 'chemical', 'industry',\n",
      "  'may', 'be', 'headed', 'for', 'trouble', 'if', 'companies', 'continue', 'turning', 'their',\n",
      "  'back', 'on', 'the', 'manufacturing', 'of', 'staple', 'petrochemical', 'commodities', ',', 'such',\n",
      "  'as', 'ethylene', ',', 'in', 'favor', 'of', 'more', 'profitable', 'specialty', 'chemicals',\n",
      "  'that', 'are', 'custom', '-', 'designed', 'for', 'a', 'small', 'group', 'of', 'buyers', '.', '\"',\n",
      "  'companies', 'like', 'dupont', '&', 'lt', ';', 'dd', '>', 'and', 'monsanto', 'co', '&', 'lt', ';',\n",
      "  'mtc', '>', 'spent', 'the', 'past', 'two', 'or', 'three', 'years', 'trying', 'to', 'get', 'out',\n",
      "  'of', 'the', 'commodity', 'chemical', 'business', 'in', 'reaction', 'to', 'how', 'badly', 'the',\n",
      "  'market', 'had', 'deteriorated', ',\"', 'dosher', 'said', '.', '\"', 'but', 'i', 'think', 'they',\n",
      "  'will', 'eventually', 'kill', 'the', 'margins', 'on', 'the', 'profitable', 'chemicals', 'in',\n",
      "  'the', 'niche', 'market', '.\"', 'some', 'top', 'chemical', 'executives', 'share', 'the',\n",
      "  'concern', '.', '\"', 'the', 'challenge', 'for', 'our', 'industry', 'is', 'to', 'keep', 'from',\n",
      "  'getting', 'carried', 'away', 'and', 'repeating', 'past', 'mistakes', ',\"', 'gaf', \"'\", 's',\n",
      "  'heyman', 'cautioned', '.', '\"', 'the', 'shift', 'from', 'commodity', 'chemicals', 'may', 'be',\n",
      "  'ill', '-', 'advised', '.', 'specialty', 'businesses', 'do', 'not', 'stay', 'special', 'long',\n",
      "  '.\"', 'houston', '-', 'based', 'cain', 'chemical', ',', 'created', 'this', 'month', 'by', 'the',\n",
      "  'sterling', 'investment', 'banking', 'group', ',', 'believes', 'it', 'can', 'generate', '700',\n",
      "  'mln', 'dlrs', 'in', 'annual', 'sales', 'by', 'bucking', 'the', 'industry', 'trend', '.',\n",
      "  'chairman', 'gordon', 'cain', ',', 'who', 'previously', 'led', 'a', 'leveraged', 'buyout', 'of',\n",
      "  'dupont', \"'\", 's', 'conoco', 'inc', \"'\", 's', 'chemical', 'business', ',', 'has', 'spent', '1',\n",
      "  '.', '1', 'billion', 'dlrs', 'since', 'january', 'to', 'buy', 'seven', 'petrochemical', 'plants',\n",
      "  'along', 'the', 'texas', 'gulf', 'coast', '.', 'the', 'plants', 'produce', 'only', 'basic',\n",
      "  'commodity', 'petrochemicals', 'that', 'are', 'the', 'building', 'blocks', 'of', 'specialty',\n",
      "  'products', '.', '\"', 'this', 'kind', 'of', 'commodity', 'chemical', 'business', 'will', 'never',\n",
      "  'be', 'a', 'glamorous', ',', 'high', '-', 'margin', 'business', ',\"', 'cain', 'said', ',',\n",
      "  'adding', 'that', 'demand', 'is', 'expected', 'to', 'grow', 'by', 'about', 'three', 'pct',\n",
      "  'annually', '.', 'garo', 'armen', ',', 'an', 'analyst', 'with', 'dean', 'witter', 'reynolds', ',',\n",
      "  'said', 'chemical', 'makers', 'have', 'also', 'benefitted', 'by', 'increasing', 'demand', 'for',\n",
      "  'plastics', 'as', 'prices', 'become', 'more', 'competitive', 'with', 'aluminum', ',', 'wood',\n",
      "  'and', 'steel', 'products', '.', 'armen', 'estimated', 'the', 'upturn', 'in', 'the', 'chemical',\n",
      "  'business', 'could', 'last', 'as', 'long', 'as', 'four', 'or', 'five', 'years', ',', 'provided',\n",
      "  'the', 'u', '.', 's', '.', 'economy', 'continues', 'its', 'modest', 'rate', 'of', 'growth', '.',\n",
      "  '<END>'],\n",
      " ['<START>', 'turkey', 'calls', 'for', 'dialogue', 'to', 'solve', 'dispute', 'turkey', 'said',\n",
      "  'today', 'its', 'disputes', 'with', 'greece', ',', 'including', 'rights', 'on', 'the',\n",
      "  'continental', 'shelf', 'in', 'the', 'aegean', 'sea', ',', 'should', 'be', 'solved', 'through',\n",
      "  'negotiations', '.', 'a', 'foreign', 'ministry', 'statement', 'said', 'the', 'latest', 'crisis',\n",
      "  'between', 'the', 'two', 'nato', 'members', 'stemmed', 'from', 'the', 'continental', 'shelf',\n",
      "  'dispute', 'and', 'an', 'agreement', 'on', 'this', 'issue', 'would', 'effect', 'the', 'security',\n",
      "  ',', 'economy', 'and', 'other', 'rights', 'of', 'both', 'countries', '.', '\"', 'as', 'the',\n",
      "  'issue', 'is', 'basicly', 'political', ',', 'a', 'solution', 'can', 'only', 'be', 'found', 'by',\n",
      "  'bilateral', 'negotiations', ',\"', 'the', 'statement', 'said', '.', 'greece', 'has', 'repeatedly',\n",
      "  'said', 'the', 'issue', 'was', 'legal', 'and', 'could', 'be', 'solved', 'at', 'the',\n",
      "  'international', 'court', 'of', 'justice', '.', 'the', 'two', 'countries', 'approached', 'armed',\n",
      "  'confrontation', 'last', 'month', 'after', 'greece', 'announced', 'it', 'planned', 'oil',\n",
      "  'exploration', 'work', 'in', 'the', 'aegean', 'and', 'turkey', 'said', 'it', 'would', 'also',\n",
      "  'search', 'for', 'oil', '.', 'a', 'face', '-', 'off', 'was', 'averted', 'when', 'turkey',\n",
      "  'confined', 'its', 'research', 'to', 'territorrial', 'waters', '.', '\"', 'the', 'latest',\n",
      "  'crises', 'created', 'an', 'historic', 'opportunity', 'to', 'solve', 'the', 'disputes', 'between',\n",
      "  'the', 'two', 'countries', ',\"', 'the', 'foreign', 'ministry', 'statement', 'said', '.', 'turkey',\n",
      "  \"'\", 's', 'ambassador', 'in', 'athens', ',', 'nazmi', 'akiman', ',', 'was', 'due', 'to', 'meet',\n",
      "  'prime', 'minister', 'andreas', 'papandreou', 'today', 'for', 'the', 'greek', 'reply', 'to', 'a',\n",
      "  'message', 'sent', 'last', 'week', 'by', 'turkish', 'prime', 'minister', 'turgut', 'ozal', '.',\n",
      "  'the', 'contents', 'of', 'the', 'message', 'were', 'not', 'disclosed', '.', '<END>']]\n"
     ]
    }
   ],
   "source": [
    "reuters_corpus = read_corpus()\n",
    "pprint.pprint(reuters_corpus[:3], compact=True, width=100)"
   ]
  },
  {
   "cell_type": "markdown",
   "metadata": {},
   "source": [
    "### Question 1.1: Implement `distinct_words` [code] (2 points)\n",
    "\n",
    "Write a method to work out the distinct words (word types) that occur in the corpus. You can do this with `for` loops, but it's more efficient to do it with Python list comprehensions. In particular, [this](https://coderwall.com/p/rcmaea/flatten-a-list-of-lists-in-one-line-in-python) may be useful to flatten a list of lists. If you're not familiar with Python list comprehensions in general, here's [more information](https://python-3-patterns-idioms-test.readthedocs.io/en/latest/Comprehensions.html).\n",
    "\n",
    "Your returned `corpus_words` should be sorted. You can use python's `sorted` function for this.\n",
    "\n",
    "You may find it useful to use [Python sets](https://www.w3schools.com/python/python_sets.asp) to remove duplicate words."
   ]
  },
  {
   "cell_type": "code",
   "execution_count": 284,
   "metadata": {},
   "outputs": [
    {
     "name": "stdout",
     "output_type": "stream",
     "text": [
      "Help on method_descriptor:\n",
      "\n",
      "sort(self, /, *, key=None, reverse=False)\n",
      "    Stable sort *IN PLACE*.\n",
      "\n"
     ]
    }
   ],
   "source": [
    "help(list.sort)"
   ]
  },
  {
   "cell_type": "code",
   "execution_count": 285,
   "metadata": {},
   "outputs": [
    {
     "name": "stdout",
     "output_type": "stream",
     "text": [
      "['\"', '\"(', '\",', '\"...', '$', '&', \"'\", '(', ')', ')\"', '),', '),\"', ').', ').\"', ')...', ')/', ',', ',\"', '-', '--', '.', '.\"', '.(', '.)', '.,', '.,\"', '.-', '...', '...\"', '...,\"', '....', '.....', '......', '.......', '........', '.........', '..........', '...........', '............', '................', './', '.>', '.>,', '/', '0', '00', '000', '001', '01', '011', '014', '015', '02', '020', '023', '0230', '03', '0300', '036', '04', '043', '046', '05', '06', '0600', '063', '0650', '066', '07', '0700', '08', '082', '083', '084', '087', '09', '097', '1', '10', '100', '1002', '101', '102', '103', '104', '105', '106', '108', '109', '10w2', '11', '110', '1100', '112', '115', '117', '119', '11th', '12', '120', '123', '124', '125', '1250', '126', '127', '128', '12th', '13', '130', '131', '132', '133', '134', '135', '136', '137', '138', '13th', '14', '140', '1400', '141', '142', '143', '144', '145', '146', '147', '149', '14th', '15', '150', '151', '152', '153', '154', '156', '158', '159', '15th', '16', '160', '162', '164', '165', '166', '167', '168', '17', '170', '172', '173', '174', '175', '176', '178', '18', '180', '1800', '181', '182', '183', '184', '185', '186', '187', '188', '18th', '19', '190', '1930', '195', '1955', '1960s', '1967', '1968', '1970', '1970s', '1972', '1973', '1974', '1975', '1976', '1977', '1978', '1979', '1980', '1980s', '1981', '1982', '1983', '1984', '1985', '1986', '1987', '1988', '1989', '199', '1990', '1990s', '1991', '1992', '1993', '1995', '2', '20', '200', '2000', '2001', '202', '205', '206', '208', '20s', '21', '210', '211', '212', '214', '215', '217', '219', '22', '220', '2200', '221', '222p', '224', '225', '23', '230', '231', '231p', '233', '234', '235', '237', '238', '24', '240', '245', '246', '247', '248', '25', '250', '251', '252', '255', '258', '25th', '26', '260', '265', '27', '270', '28', '280', '283', '285', '287', '28th', '29', '290', '293', '295', '298', '299', '2nd', '3', '30', '300', '303', '304', '305', '3053', '307', '308', '31', '310', '315', '316', '318', '319', '31st', '32', '320', '323', '324', '325', '326', '328', '329', '33', '330', '331', '333', '335', '337', '339', '34', '340', '341', '342', '345', '346', '35', '350', '352', '353', '357', '36', '360', '362', '366', '369', '37', '370', '371', '373', '374', '375', '38', '380', '381', '387', '388', '39', '390', '391', '395', '4', '40', '400', '401', '402', '403', '404', '405', '4065', '408', '409', '40th', '41', '410', '419', '42', '420', '422', '423', '424', '428', '43', '431', '432', '437', '439', '44', '440', '443', '446', '45', '450', '459', '46', '462', '466', '467', '47', '470', '472', '476', '48', '480', '482', '486', '49', '491', '492', '495', '5', '50', '500', '503', '507', '508', '51', '510', '511', '516', '52', '520', '521', '53', '530', '531', '539', '54', '540', '543', '546', '547', '548', '55', '550', '552', '555', '556', '56', '561', '562', '563', '564', '565', '567', '568', '57', '575', '58', '583', '59', '591', '593', '595', '596', '599', '6', '60', '600', '603', '604', '605', '609', '61', '611', '614', '615', '616', '617', '62', '621', '624', '625', '627', '628', '63', '635', '636', '64', '6406', '6407', '644', '645', '646', '648', '65', '650', '655', '658', '659', '66', '660', '663', '667', '669', '67', '670', '675', '679', '68', '680', '682', '69', '692', '694', '695', '6mm', '7', '70', '700', '707', '71', '7124', '7125', '714', '719', '72', '720', '7219', '722', '7220', '7224', '723', '726', '727', '73', '730', '74', '740', '741', '745', '747', '748', '7495', '75', '750', '7500', '751', '752', '754', '757', '758', '759', '76', '760', '761', '762', '766', '77', '770', '77th', '78', '784', '79', '8', '80', '800', '802', '81', '814', '82', '826', '827', '83', '830', '834', '837', '84', '840', '85', '850', '852', '853', '86', '862', '869', '87', '870', '872', '88', '880', '89', '897', '9', '90', '900', '902', '905', '91', '913', '915', '92', '920', '925', '929', '93', '930', '94', '940', '948', '95', '950', '953', '96', '962', '964', '97', '974', '976', '978', '98', '985', '99', '998', ':', ';', '<END>', '<START>', '>', \">'\", '>(', '>,', '>.', '>/', '?\"', 'a', 'a14', 'aam', 'ab', 'abal', 'abandon', 'abandoned', 'abandoning', 'abated', 'abatements', 'abates', 'abbas', 'abdel', 'abdelaziz', 'abdul', 'abdulaziz', 'abdulla', 'abide', 'abiding', 'ability', 'ablaze', 'able', 'abolished', 'about', 'above', 'abroad', 'abruptly', 'absolute', 'absolutely', 'absorbed', 'absorbing', 'absorption', 'abu', 'abundance', 'abundant', 'accelerate', 'accelerated', 'accelerating', 'accentuated', 'accept', 'acceptable', 'acceptance', 'accepted', 'accepting', 'access', 'accident', 'accomodate', 'accomodations', 'accompanied', 'accompanying', 'accord', 'accordance', 'according', 'accordingly', 'accords', 'account', 'accounted', 'accounting', 'accounts', 'accrued', 'accumulated', 'accumulating', 'accurate', 'accused', 'aceh', 'achieve', 'achieved', 'achieves', 'achieving', 'acid', 'acknowledge', 'acknowledged', 'acknowleged', 'acquire', 'acquired', 'acquires', 'acquiring', 'acquisition', 'acquisitions', 'acre', 'acreage', 'acres', 'across', 'act', 'acting', 'action', 'actions', 'active', 'actively', 'activities', 'activity', 'acts', 'actual', 'actually', 'adams', 'adana', 'adapingthe', 'add', 'added', 'adding', 'addition', 'additional', 'additions', 'address', 'addressed', 'addressing', 'adds', 'aden', 'adhere', 'adhered', 'adherence', 'adhering', 'adjust', 'adjusted', 'adjustment', 'adjustments', 'adkerson', 'adm', 'administer', 'administration', 'administrations', 'administrative', 'administrator', 'adminstration', 'admiral', 'admission', 'admit', 'admitted', 'adnoc', 'adopt', 'adopted', 'adopting', 'adoption', 'adopts', 'adressed', 'adrian', 'advance', 'advanced', 'advantage', 'advantageous', 'advent', 'adventure', 'adventurism', 'adventurist', 'adverse', 'adversely', 'advice', 'advised', 'adviser', 'advisers', 'advisor', 'advisory', 'advocate', 'advocated', 'advocating', 'aegean', 'aerial', 'affairs', 'affect', 'affected', 'affecting', 'affiliate', 'affiliated', 'affiliates', 'affirmation', 'afford', 'africa', 'african', 'after', 'aftermath', 'afternoon', 'afterwards', 'ag', 'aga', 'again', 'against', 'agcny', 'agencies', 'agency', 'agenda', 'aggravate', 'aggravated', 'aggregate', 'aggression', 'aggressive', 'aggressively', 'aggressor', 'aggressors', 'agip', 'ago', 'agredd', 'agree', 'agreed', 'agreeing', 'agreement', 'agreements', 'agrement', 'agression', 'agricultural', 'agriculture', 'agrio', 'aground', 'aguarico', 'ahc', 'ahead', 'ahmed', 'ahvaz', 'aid', 'ailing', 'aim', 'aimed', 'aiming', 'aims', 'air', 'aircraft', 'airliners', 'airport', 'akbar', 'aker', 'akiman', 'al', 'alabama', 'alan', 'alarmist', 'alaska', 'alaskan', 'alba', 'albeit', 'alberta', 'alberts', 'alcohol', 'alcudiai', 'ald', 'alert', 'alexandria', 'algeria', 'algerian', 'algerians', 'algiers', 'ali', 'alice', 'alick', 'alif', 'align', 'aligned', 'alive', 'all', 'alleged', 'allen', 'alliance', 'allied', 'allies', 'allocate', 'allocated', 'allocation', 'allocations', 'allotted', 'allow', 'allowable', 'allowance', 'allowances', 'allowed', 'allowing', 'allows', 'alloys', 'almir', 'almost', 'alone', 'along', 'alongside', 'already', 'also', 'altamont', 'alter', 'altered', 'altering', 'alternate', 'alternative', 'alternatives', 'although', 'altogether', 'aluminum', 'alvite', 'always', 'am', 'amadeus', 'amauligak', 'amazon', 'ambassador', 'ambassadors', 'ambitious', 'amend', 'amended', 'amending', 'amendments', 'amerada', 'america', 'american', 'americans', 'amid', 'amidst', 'amman', 'ammendments', 'ammonia', 'amoco', 'among', 'amount', 'amounts', 'ample', 'ampol', 'ams', 'amvo', 'an', 'analysis', 'analyst', 'analysts', 'anatolian', 'anba', 'anbaa', 'anchor', 'anchorage', 'and', 'andean', 'andersen', 'anderson', 'andes', 'andreas', 'andrew', 'anew', 'anger', 'angered', 'angle', 'angola', 'animals', 'ankara', 'annex', 'anniversary', 'annnounced', 'annouce', 'announce', 'announced', 'announcement', 'announcing', 'annual', 'annually', 'annum', 'another', 'ans', 'answer', 'answers', 'antagonize', 'anthony', 'anti', 'anticipate', 'anticipated', 'anticipation', 'anticompetitive', 'antonio', 'antwerp', 'anxious', 'any', 'anyone', 'anything', 'anytime', 'anywhere', 'anzali', 'apart', 'apartheid', 'apea', 'api', 'apparent', 'apparently', 'appeal', 'appealed', 'appealing', 'appeals', 'appear', 'appearance', 'appeared', 'appears', 'applaud', 'applicants', 'application', 'applications', 'applied', 'applies', 'apply', 'appoint', 'appointed', 'appointing', 'appointment', 'appraisal', 'appraoch', 'appreciation', 'approach', 'approached', 'approaches', 'approaching', 'appropriate', 'appropriately', 'appropriations', 'approval', 'approvals', 'approve', 'approved', 'approves', 'approximately', 'apr', 'april', 'aps', 'aqazadeh', 'aquitaine', 'arab', 'arabia', 'arabian', 'arabic', 'aramco', 'arap', 'arauca', 'arbroath', 'arc', 'archibold', 'archie', 'architect', 'arco', 'arctic', 'arden', 'ardeshir', 'ardmore', 'are', 'area', 'areas', 'areias', 'aren', 'argentina', 'argentine', 'argue', 'argued', 'arguello', 'arguing', 'argument', 'arifin', 'arising', 'arm', 'armed', 'armen', 'arms', 'army', 'arne', 'arnold', 'aromatic', 'aromatics', 'arose', 'around', 'arrange', 'arranged', 'arrangement', 'arrangements', 'arranging', 'arrival', 'arrive', 'arrived', 'arrives', 'arthur', 'artic', 'article', 'articulation', 'artificially', 'artillery', 'arturo', 'as', 'asadi', 'asahi', 'asamera', 'asamoah', 'asbestos', 'ascertain', 'ash', 'ashland', 'asia', 'asian', 'ask', 'asked', 'asking', 'asks', 'asm', 'aspect', 'aspects', 'aspen', 'assam', 'assault', 'assaults', 'assembled', 'assembly', 'asserts', 'assess', 'assessed', 'assesses', 'assessing', 'assests', 'asset', 'assets', 'assign', 'assigned', 'assist', 'assistance', 'assistant', 'associate', 'associated', 'associates', 'association', 'asssociation', 'assume', 'assumed', 'assuming', 'assumption', 'assumptions', 'assurance', 'assure', 'assured', 'assuring', 'astride', 'at', 'athabasca', 'athens', 'atlantic', 'atp259p', 'attached', 'attachment', 'attack', 'attacked', 'attacking', 'attacks', 'attacksf', 'attain', 'attaka', 'attempt', 'attempting', 'attempts', 'attend', 'attended', 'attending', 'attention', 'attitude', 'attorney', 'attract', 'attractive', 'attributable', 'attribute', 'attributed', 'aturo', 'audience', 'audited', 'auditor', 'augmented', 'august', 'augusta', 'austerity', 'australia', 'australian', 'author', 'authoritative', 'authorities', 'authority', 'authorized', 'autobiography', 'automobile', 'autumn', 'availabilities', 'availability', 'available', 'avaj', 'avalanche', 'avenge', 'average', 'averaged', 'averaging', 'avert', 'averted', 'aviation', 'avoid', 'avoiding', 'awaiting', 'award', 'awarded', 'awards', 'aware', 'away', 'awful', 'awsat', 'axelgard', 'ayal', 'ayala', 'aymah', 'aziz', 'azpur', 'azpurua', 'b', 'baath', 'bache', 'back', 'backdrop', 'backed', 'backer', 'background', 'backing', 'backlash', 'backs', 'bad', 'bader', 'badly', 'baes', 'baghdad', 'bags', 'bahar', 'bahrain', 'bain', 'baird', 'baker', 'bakr', 'balance', 'balanced', 'balancing', 'balao', 'ball', 'baltic', 'ban', 'banco', 'bancorporation', 'band', 'bandar', 'bank', 'banker', 'bankers', 'banking', 'bankrupcty', 'bankruptcies', 'bankruptcy', 'banks', 'banned', 'banque', 'bans', 'baong', 'barakat', 'barbara', 'barber', 'barbosa', 'barclays', 'barely', 'barents', 'bargain', 'barite', 'barney', 'barometer', 'barrage', 'barrel', 'barrels', 'barrier', 'barriers', 'barring', 'bars', 'barter', 'bartering', 'base', 'based', 'baseless', 'baseload', 'bases', 'basic', 'basically', 'basicly', 'basin', 'basins', 'basis', 'basket', 'basra', 'bass', 'batteries', 'battle', 'battlefield', 'battles', 'battleship', 'bay', 'bayou', 'baytown', 'bbc', 'bbd', 'bbl', 'bbls', 'bcf', 'bcv', 'be', 'beach', 'beacon', 'beacons', 'bearish', 'beat', 'beaubien', 'beaufort', 'became', 'because', 'become', 'becomes', 'becoming', 'bed', 'been', 'before', 'began', 'begin', 'begining', 'beginning', 'begins', 'begun', 'behalf', 'behind', 'being', 'belgian', 'belgium', 'belief', 'believe', 'believed', 'believes', 'belkacem', 'bell', 'bellies', 'belongs', 'below', 'belt', 'benbow', 'benchmark', 'beneficial', 'beneficiaries', 'benefit', 'benefited', 'benefits', 'benefitted', 'bennett', 'bentsen', 'benzene', 'bergen', 'bering', 'berkeley', 'berne', 'bernstein', 'berre', 'beshir', 'besides', 'best', 'better', 'betting', 'between', 'beutel', 'beyond', 'bhi', 'bi', 'biannual', 'bid', 'bidder', 'bidders', 'bidding', 'bids', 'big', 'bigger', 'biggest', 'bijan', 'bilateral', 'bilion', 'bill', 'billion', 'billions', 'billlion', 'billowing', 'bills', 'bin', 'binding', 'bir', 'birr', 'bit', 'bitterly', 'bjoern', 'bko', 'black', 'blame', 'blamed', 'blames', 'blasted', 'blazing', 'bleak', 'blend', 'blends', 'bloated', 'bloc', 'block', 'blockade', 'blockading', 'blocked', 'blocks', 'blood', 'blow', 'blown', 'blows', 'bluebell', 'blueprint', 'blunt', 'board', 'boarded', 'boat', 'boats', 'bob', 'bodies', 'body', 'boiler', 'boilers', 'bold', 'bolder', 'bolivar', 'bolivares', 'bolivars', 'bolster', 'bombarded', 'bombay', 'bombed', 'bombers', 'bombing', 'bombings', 'bonanza', 'bond', 'bonds', 'bonny', 'bonus', 'book', 'boom', 'boone', 'boost', 'boosted', 'boosting', 'boosts', 'bor', 'border', 'bordering', 'bore', 'borg', 'borrowers', 'borrowing', 'borrowings', 'boston', 'both', 'bottled', 'bottom', 'bottomed', 'bottoming', 'bottoms', 'bought', 'bound', 'bouy', 'boxleigh', 'boycott', 'bp', 'bpd', 'br', 'bracho', 'bradstreet', 'brake', 'branching', 'brancho', 'brasil', 'brasileiro', 'brasilia', 'brass', 'brave', 'brazil', 'brazilian', 'breach', 'breached', 'breaching', 'break', 'breakdown', 'breakfast', 'breakneck', 'breakout', 'breaks', 'brent', 'brian', 'bridge', 'bridged', 'brief', 'briefed', 'briefing', 'briefly', 'bright', 'brightest', 'bring', 'bringing', 'brings', 'brink', 'brisbane', 'britain', 'britian', 'british', 'britoil', 'brkn', 'broad', 'broadcast', 'broadened', 'broader', 'broadly', 'broke', 'broken', 'broker', 'brokerage', 'brooklyn', 'brothers', 'brought', 'broussard', 'bruce', 'brussels', 'bryan', 'btol', 'btu', 'btx', 'bu', 'bubble', 'bucci', 'buchanan', 'bucking', 'buckler', 'budget', 'budgetary', 'budgeted', 'budgeting', 'buena', 'bugdet', 'build', 'builders', 'building', 'buildings', 'builds', 'built', 'bukhoosh', 'bulk', 'bulletin', 'bullish', 'bullishly', 'bunch', 'buoy', 'burden', 'burdened', 'burdens', 'bureacracy', 'burning', 'burns', 'burst', 'bus', 'bushels', 'businesess', 'business', 'businesses', 'businessmen', 'but', 'butane', 'buy', 'buyer', 'buyers', 'buying', 'buyout', 'buys', 'by', 'byron', 'c', 'cabinet', 'caf', 'cain', 'calculated', 'calculation', 'calculations', 'calendar', 'calender', 'calgary', 'cali', 'calif', 'california', 'caljet', 'call', 'called', 'calling', 'calls', 'calm', 'calmer', 'calmness', 'caltex', 'calumet', 'cambridge', 'came', 'cameron', 'camp', 'campaign', 'campeche', 'campos', 'camps', 'can', 'canada', 'canadaina', 'canadian', 'canakkale', 'cancel', 'canceled', 'cancelled', 'cancelling', 'cancels', 'candidate', 'candidates', 'canning', 'cannot', 'cano', 'canot', 'cantarell', 'canterra', 'capabilities', 'capability', 'capable', 'capacities', 'capacity', 'capcity', 'capital', 'capitalize', 'capitol', 'capozza', 'captain', 'captains', 'captive', 'captured', 'caracas', 'carbide', 'carbone', 'carbozulia', 'card', 'cardenas', 'care', 'career', 'careful', 'carefully', 'cargo', 'cargoes', 'caribbean', 'caribou', 'carl', 'carlos', 'carlucci', 'carol', 'carpet', 'carried', 'carrier', 'carriers', 'carries', 'carrington', 'carroll', 'carry', 'carrying', 'cars', 'cartel', 'carter', 'carvalho', 'case', 'cased', 'cases', 'casey', 'cash', 'caspar', 'caspian', 'casualties', 'casualty', 'catalytic', 'catapulted', 'categories', 'category', 'catenary', 'cattle', 'caught', 'cause', 'caused', 'causing', 'caution', 'cautioned', 'cautious', 'cautiously', 'cayambe', 'cbs', 'cdi', 'cease', 'ceased', 'ceasefire', 'ceiling', 'ceilings', 'celebrating', 'celebrations', 'celeron', 'cement', 'cent', 'center', 'centers', 'centigrade', 'central', 'centrally', 'centre', 'centred', 'cents', 'century', 'cepe', 'cera', 'ceremenony', 'ceremony', 'certain', 'certainly', 'certainty', 'ceylon', 'cf', 'cfr', 'cftc', 'cgp', 'chacin', 'chairman', 'chairs', 'chalabi', 'chalaby', 'challenge', 'challenged', 'challenges', 'chambers', 'champlin', 'chance', 'chancellor', 'chances', 'change', 'changed', 'changes', 'changing', 'channel', 'chapter', 'characterized', 'charge', 'charged', 'charges', 'charging', 'charles', 'chart', 'charter', 'chartered', 'chartering', 'chartists', 'charts', 'chase', 'chased', 'cheap', 'cheaper', 'cheaply', 'cheat', 'cheating', 'check', 'checks', 'chemical', 'chemicals', 'chemie', 'chevron', 'cheyenne', 'chicago', 'chicken', 'chief', 'chiefs', 'chiles', 'china', 'chinese', 'choice', 'choices', 'choke', 'chokepoint', 'chona', 'choosing', 'chose', 'chosen', 'chris', 'christi', 'christian', 'christmas', 'christopher', 'chv', 'chyn', 'cie', 'cif', 'circumstance', 'circumstances', 'cited', 'citgo', 'cities', 'citing', 'citizens', 'city', 'civil', 'civilian', 'claim', 'claimed', 'claiming', 'claims', 'clash', 'clashes', 'class', 'classification', 'classified', 'classifying', 'clause', 'clauses', 'clear', 'clearly', 'clever', 'client', 'clients', 'climate', 'climb', 'climbed', 'climbs', 'clinton', 'close', 'closed', 'closely', 'closer', 'closes', 'closest', 'closing', 'closure', 'closures', 'clouded', 'cmb', 'cms', 'cnooc', 'cnp', 'co', 'coal', 'coast', 'coastal', 'coasts', 'code', 'coffee', 'coherent', 'coinciding', 'coking', 'colder', 'collaborating', 'collapse', 'collapsed', 'colleagues', 'collective', 'colo', 'colombia', 'colombian', 'colombo', 'colon', 'colorado', 'columbia', 'columns', 'colville', 'combat', 'combination', 'combinations', 'combine', 'combined', 'combining', 'combustion', 'come', 'comes', 'cometra', 'coming', 'command', 'commanded', 'comment', 'commentator', 'commented', 'commenting', 'comments', 'commerce', 'commercial', 'commercially', 'commission', 'commissioner', 'commissioners', 'commitment', 'commitments', 'committed', 'committee', 'committees', 'commodities', 'commodity', 'common', 'commons', 'communciation', 'communication', 'communications', 'communique', 'communist', 'community', 'compacted', 'compagnie', 'companies', 'company', 'comparable', 'compare', 'compared', 'compares', 'comparison', 'compatible', 'compensate', 'compensated', 'compensation', 'competent', 'competing', 'competition', 'competitive', 'competitively', 'competitiveness', 'complained', 'complaints', 'complete', 'completed', 'completely', 'completes', 'completion', 'completions', 'complex', 'complexity', 'compliance', 'comply', 'compounding', 'comprehension', 'comprehensive', 'comprising', 'compromise', 'compromised', 'computer', 'conable', 'concentrate', 'concern', 'concerned', 'concerning', 'concerns', 'concerted', 'concession', 'concessions', 'conclude', 'concluded', 'conclusion', 'concrete', 'concurred', 'condensate', 'condensates', 'condition', 'conditions', 'condtions', 'conduct', 'conducted', 'conducting', 'confederation', 'conference', 'conferenced', 'conferences', 'confidence', 'confident', 'confine', 'confined', 'confirm', 'confirmation', 'confirmed', 'conflict', 'confrontation', 'conglomerate', 'congress', 'congressional', 'congressman', 'congressmen', 'conjunction', 'conn', 'connect', 'connected', 'connecting', 'connection', 'connections', 'conoco', 'consensus', 'consent', 'consequences', 'conservation', 'conservative', 'conservatives', 'conserve', 'conserving', 'consider', 'considerable', 'considerably', 'consideration', 'considered', 'considering', 'considers', 'consist', 'consistent', 'consistently', 'consists', 'consolidated', 'consolidating', 'consolidation', 'consortium', 'constant', 'constantine', 'constitution', 'constrained', 'constraints', 'construct', 'constructed', 'constructing', 'construction', 'constructive', 'construed', 'consult', 'consultants', 'consultation', 'consultations', 'consulted', 'consulting', 'consumer', 'consumers', 'consumes', 'consuming', 'consumption', 'contacts', 'contain', 'contained', 'contains', 'contemplated', 'contend', 'contended', 'content', 'contents', 'context', 'continent', 'continental', 'contingent', 'continuation', 'continue', 'continued', 'continues', 'continuing', 'continuous', 'contract', 'contracted', 'contracting', 'contractors', 'contracts', 'contractual', 'contradicting', 'contrary', 'contravened', 'contravening', 'contribute', 'contributed', 'contributes', 'contribution', 'control', 'controls', 'controversial', 'convened', 'conventional', 'conversion', 'convert', 'converted', 'convertible', 'conviction', 'convince', 'convinced', 'convoy', 'convoys', 'cook', 'cool', 'cooled', 'cooper', 'cooperate', 'cooperation', 'cooperative', 'coordinate', 'coordinating', 'coordination', 'coordinator', 'copany', 'cope', 'coppernickle', 'cordero', 'cordesman', 'core', 'corn', 'corp', 'corporacion', 'corporate', 'corporation', 'corporations', 'corpoven', 'corpses', 'corpus', 'correct', 'correspond', 'correspondents', 'corresponding', 'cos', 'cosmo', 'cost', 'costing', 'costly', 'costs', 'cote', 'could', 'council', 'count', 'counted', 'counter', 'counterattack', 'countermeasures', 'counterpart', 'counterpoint', 'countertrade', 'countertrading', 'countries', 'country', 'counts', 'county', 'couple', 'coupled', 'coupon', 'course', 'court', 'courted', 'courts', 'covenants', 'covenas', 'cover', 'covered', 'covering', 'covers', 'covert', 'cower', 'cp', 'cpc', 'crack', 'cracker', 'cracking', 'crandall', 'crane', 'crash', 'cravo', 'crawl', 'create', 'created', 'creating', 'credibility', 'credit', 'creditor', 'creditors', 'credits', 'creek', 'crept', 'crew', 'crews', 'crisanti', 'crises', 'crisis', 'criteria', 'critical', 'criticised', 'criticism', 'criticized', 'critics', 'cross', 'crosses', 'crossing', 'crossroads', 'crowe', 'crown', 'crowns', 'crucial', 'crucially', 'crude', 'crudes', 'crushing', 'cruz', 'cruzado', 'cryssen', 'csis', 'csr', 'csra', 'ct', 'cts', 'cu', 'cuba', 'cuban', 'cubic', 'cuellar', 'culminating', 'culture', 'cumhuriyet', 'cumulative', 'curb', 'curbing', 'curbs', 'currencies', 'currency', 'current', 'currently', 'curtail', 'curtailed', 'curtailing', 'curtailments', 'curti', 'curve', 'cushing', 'cushion', 'custom', 'customer', 'customers', 'cut', 'cutback', 'cutbacks', 'cutoff', 'cuts', 'cutting', 'cycle', 'cyclical', 'cypriot', 'cyprus', 'cyrus', 'd', 'daewoo', 'daily', 'dakota', 'dallas', 'damage', 'damaged', 'damages', 'damaging', 'damascus', 'dampen', 'dan', 'danger', 'dangerous', 'daniel', 'dardanelles', 'darwin', 'data', 'date', 'david', 'davies', 'davis', 'day', 'days', 'dd', 'de', 'dead', 'deadweight', 'deal', 'dealers', 'dealing', 'dealings', 'deals', 'dealt', 'dean', 'death', 'debate', 'debated', 'debt', 'debtor', 'debts', 'debut', 'dec', 'decade', 'december', 'decide', 'decided', 'decides', 'deciding', 'decision', 'decisions', 'decisive', 'deck', 'declare', 'declared', 'declaring', 'decline', 'declined', 'declines', 'declining', 'decontrol', 'decrease', 'decreased', 'decree', 'dedicate', 'deductibility', 'deductible', 'deduction', 'deductions', 'deemed', 'deep', 'deeper', 'deepest', 'deeply', 'defaults', 'defence', 'defences', 'defend', 'defended', 'defending', 'defends', 'defense', 'defensive', 'deferred', 'deferring', 'defiant', 'deficit', 'deficits', 'define', 'defined', 'definitely', 'definition', 'definitive', 'definitively', 'deflating', 'deflect', 'defunct', 'defuse', 'degree', 'degrees', 'deilmann', 'delaware', 'delay', 'delayed', 'delegate', 'delegation', 'delegations', 'delhi', 'deliberately', 'deliberations', 'delicate', 'delimitation', 'delimiting', 'delineation', 'deliver', 'deliverability', 'delivered', 'deliveries', 'delivering', 'delivery', 'delta', 'demand', 'demanded', 'demanding', 'demands', 'deminex', 'democracies', 'democrat', 'democrats', 'demonstrable', 'demonstrated', 'den', 'denemours', 'denial', 'denials', 'denied', 'dennis', 'denominated', 'denounced', 'denounces', 'dent', 'denver', 'deny', 'department', 'departments', 'departmet', 'departure', 'depedent', 'depend', 'depended', 'dependence', 'dependency', 'dependent', 'depending', 'depends', 'depleted', 'depletion', 'deploy', 'deployed', 'deployment', 'deposit', 'deposits', 'depot', 'depreciation', 'depress', 'depressed', 'deprive', 'depth', 'depths', 'deputy', 'deregulate', 'deregulating', 'deregulation', 'deregulatory', 'derivatives', 'derived', 'des', 'descent', 'described', 'describing', 'desert', 'deserved', 'design', 'designated', 'designed', 'desirable', 'desire', 'desired', 'desires', 'desk', 'despatched', 'desperately', 'despite', 'destination', 'destinations', 'destocking', 'destroyed', 'destroyer', 'destroyers', 'destroying', 'destruction', 'detail', 'detailed', 'details', 'detection', 'deter', 'deteriorated', 'deterioration', 'determination', 'determine', 'determined', 'determining', 'deterred', 'deterrence', 'deterring', 'devalue', 'devalued', 'devaluing', 'devastated', 'devastating', 'develop', 'developed', 'developing', 'development', 'developments', 'deviations', 'device', 'devised', 'devon', 'devoted', 'dhabi', 'di', 'dia', 'dialogue', 'diameter', 'diamond', 'dibona', 'did', 'died', 'diesel', 'diet', 'difference', 'different', 'differential', 'differentials', 'difficult', 'difficulties', 'difficultiesand', 'difficulty', 'dignity', 'dilemma', 'dilemmas', 'dillard', 'diminish', 'diminished', 'diminishing', 'din', 'dinars', 'dinkov', 'dip', 'diplomacy', 'diplomat', 'diplomatic', 'diplomats', 'dipped', 'dipping', 'direct', 'directed', 'direction', 'directly', 'director', 'directorate', 'directors', 'dirhams', 'disagreed', 'disagreement', 'disappear', 'disappeared', 'disappointed', 'disappointing', 'disassociated', 'disaster', 'discharge', 'discharged', 'discharging', 'discipline', 'disclose', 'disclosed', 'disclosure', 'disclosures', 'discomfort', 'discontinue', 'discount', 'discounted', 'discounting', 'discounts', 'discouraged', 'discovered', 'discoveries', 'discovery', 'discreet', 'discreetly', 'discriminatory', 'discused', 'discuss', 'discussed', 'discusses', 'discussing', 'discussion', 'discussions', 'disguised', 'disincentive', 'disincentives', 'dislocation', 'dismal', 'dismantling', 'dismissed', 'dispatched', 'dispite', 'displeasure', 'disposal', 'disposals', 'dispose', 'dispute', 'disputed', 'disputes', 'disrupt', 'disruption', 'dissociated', 'distance', 'distillate', 'distillates', 'distillation', 'distinct', 'distortive', 'distorts', 'distributed', 'distribution', 'distributions', 'district', 'disution', 'dived', 'divers', 'diversifed', 'diversification', 'diversified', 'diversify', 'diversity', 'diverted', 'divested', 'divided', 'dividend', 'dividends', 'diving', 'division', 'divisions', 'dlr', 'dlrs', 'dlruntied', 'dmp', 'dnlaf', 'do', 'docemarte', 'docks', 'document', 'doe', 'does', 'doesn', 'doha', 'doing', 'dollar', 'dollars', 'dome', 'domenici', 'domestic', 'dominance', 'dominant', 'dominate', 'dominion', 'don', 'donald', 'done', 'door', 'doors', 'doorstep', 'dosher', 'dot', 'double', 'doubles', 'doubt', 'doubts', 'dounas', 'dow', 'down', 'downplayed', 'downstream', 'downtrend', 'downturn', 'downward', 'downwards', 'dozen', 'dozens', 'draft', 'drafting', 'dragged', 'drain', 'dramatic', 'dramatically', 'drastic', 'draugen', 'draw', 'drawbacks', 'drawdown', 'drawdowns', 'drawing', 'drawn', 'draws', 'dregs', 'dresser', 'drew', 'dreyer', 'drift', 'drifted', 'drill', 'drilled', 'drilling', 'drillings', 'drive', 'driver', 'drives', 'driving', 'drm', 'drop', 'dropped', 'dropping', 'drops', 'drove', 'dry', 'dsm', 'dtuch', 'du', 'dual', 'dubai', 'dublin', 'duchesne', 'due', 'dumping', 'dune', 'dunham', 'dunn', 'dupont', 'duration', 'duri', 'during', 'dust', 'dutch', 'duties', 'duty', 'dwindle', 'dwindling', 'dwt', 'dynamism', 'dynamite', 'e', 'e12c', 'e15b', 'each', 'eagle', 'earlier', 'early', 'earmarked', 'earn', 'earned', 'earnings', 'earth', 'earthquake', 'earthquakes', 'ease', 'eased', 'easier', 'easiest', 'easily', 'easing', 'east', 'easter', 'eastern', 'easy', 'ebinger', 'ec', 'ecaudor', 'economic', 'economical', 'economically', 'economicly', 'economics', 'economies', 'economist', 'economists', 'economy', 'ecopetrol', 'ecstatic', 'ecuador', 'ecuadorean', 'ecuatoriana', 'ed', 'edge', 'edgington', 'edinburgh', 'edition', 'editor', 'editorial', 'edmonton', 'edomestic', 'edson', 'edt', 'eduard', 'education', 'edward', 'effect', 'effective', 'effectively', 'effects', 'efficiency', 'efficient', 'effort', 'efforts', 'efp', 'efps', 'egil', 'egpc', 'egypt', 'egyptian', 'eia', 'eic', 'eider', 'eight', 'eighth', 'eileen', 'either', 'eiu', 'ekofisk', 'el', 'elaborate', 'elders', 'elecetric', 'elections', 'electric', 'electricity', 'electromagnetic', 'electronic', 'eleven', 'eleventh', 'elf', 'elfp', 'elicited', 'eligible', 'eliminate', 'eliminating', 'elimination', 'elizabethtown', 'elk', 'elkins', 'elmano', 'eln', 'else', 'elsewhere', 'elton', 'embargo', 'embark', 'embarked', 'embarrassment', 'embassy', 'emerge', 'emerged', 'emergence', 'emergency', 'emerging', 'emigration', 'emirate', 'emirates', 'emissions', 'emp', 'emphasis', 'emphasize', 'emphasized', 'employ', 'employed', 'employee', 'employees', 'employment', 'empresa', 'en', 'enable', 'enabling', 'enacted', 'encompassing', 'encounter', 'encourage', 'encouraged', 'encouraging', 'end', 'endanger', 'endangering', 'ended', 'ending', 'endorse', 'endorsed', 'endorsement', 'ends', 'enemy', 'energia', 'energie', 'energy', 'enforced', 'engage', 'engaged', 'engineer', 'engineered', 'engineering', 'engineers', 'england', 'english', 'enhance', 'enhanced', 'eni', 'enjoined', 'enjoy', 'enjoys', 'enormously', 'enough', 'enquiries', 'ensure', 'ensured', 'ensuring', 'entail', 'entailed', 'ente', 'enter', 'entered', 'entering', 'enterprise', 'enterprises', 'entertain', 'entex', 'enthusiasm', 'enthusiastic', 'entire', 'entirely', 'entities', 'entitled', 'entitlement', 'entitlements', 'entitling', 'entity', 'entrance', 'environment', 'environmental', 'envisaged', 'envoy', 'epicentre', 'equal', 'equally', 'equip', 'equipment', 'equities', 'equity', 'equivalent', 'eralp', 'erdem', 'erected', 'ergenc', 'ernest', 'erode', 'eromanga', 'erupt', 'erupted', 'es', 'escalate', 'escalated', 'escalating', 'escalation', 'escalatory', 'escape', 'escort', 'escorted', 'escorting', 'escorts', 'eskimo', 'eskimos', 'especially', 'espinosa', 'essential', 'essf', 'esso', 'establish', 'established', 'establishment', 'estatal', 'estate', 'estimate', 'estimated', 'estimates', 'et', 'etang', 'ethylene', 'eugene', 'euro', 'eurodollar', 'europe', 'european', 'europeans', 'evaluate', 'evaluated', 'evaluating', 'evaluation', 'evans', 'evasion', 'even', 'evening', 'event', 'events', 'eventual', 'eventualities', 'eventually', 'ever', 'every', 'everybody', 'everyone', 'everything', 'everywhere', 'evidence', 'evolution', 'evros', 'ewing', 'ex', 'exacerbate', 'exacerbating', 'exact', 'exactly', 'exaggerated', 'examine', 'examined', 'example', 'examples', 'exceed', 'exceeded', 'exceeding', 'except', 'exception', 'exceptional', 'excess', 'excesses', 'excessive', 'exchange', 'exchanges', 'exchequer', 'excise', 'excitement', 'exciting', 'exclude', 'excluded', 'excluding', 'exclusion', 'exclusive', 'exclusively', 'excpanding', 'executive', 'executives', 'exempt', 'exempted', 'exempting', 'exercise', 'exercised', 'exert', 'exerted', 'exisiting', 'exist', 'existing', 'exists', 'expand', 'expanded', 'expanding', 'expansion', 'expansionist', 'expansive', 'expatriate', 'expect', 'expectation', 'expectations', 'expected', 'expecting', 'expects', 'expenditure', 'expenditures', 'expense', 'expenses', 'expensive', 'experience', 'experienced', 'experiencing', 'expert', 'expertise', 'experts', 'expire', 'expired', 'expiring', 'explained', 'explaining', 'explanation', 'explicit', 'explicitly', 'exploit', 'exploitation', 'exploited', 'exploiting', 'exploration', 'exploratory', 'explore', 'explored', 'exploring', 'explosion', 'explosive', 'expoloration', 'export', 'exported', 'exporter', 'exporters', 'exporting', 'exports', 'expose', 'exposure', 'expressed', 'expressions', 'extend', 'extended', 'extending', 'extends', 'extension', 'extensions', 'extensive', 'extent', 'external', 'extra', 'extract', 'extraction', 'extracts', 'extraordinarily', 'extraordinary', 'extraordinrary', 'extremely', 'extricate', 'exxon', 'f', 'fabric', 'face', 'faced', 'faces', 'facilitate', 'facilities', 'facility', 'facing', 'fact', 'factor', 'factored', 'factors', 'facts', 'fadhil', 'fahd', 'fail', 'failed', 'failing', 'fails', 'failure', 'failures', 'fair', 'fairchild', 'fairly', 'faisal', 'fakkan', 'fall', 'fallen', 'falling', 'fallout', 'falls', 'false', 'faltering', 'family', 'far', 'fares', 'fargo', 'farm', 'farmers', 'fast', 'faster', 'fattah', 'fault', 'favor', 'favorable', 'favored', 'favorite', 'favors', 'favour', 'favourable', 'favourably', 'favours', 'faw', 'fbt', 'fear', 'feared', 'fears', 'feasibility', 'feasible', 'feature', 'feb', 'febres', 'february', 'fed', 'federal', 'federation', 'fee', 'feed', 'feedstock', 'feedstocks', 'feel', 'feeling', 'feelings', 'fees', 'feet', 'fell', 'fellow', 'fence', 'fereidun', 'ferguson', 'fernando', 'ferro', 'fertiliser', 'fertilizer', 'fesharaki', 'fetched', 'few', 'fewer', 'fibre', 'field', 'fields', 'fifth', 'fight', 'fighter', 'fighting', 'figure', 'figures', 'file', 'filed', 'filing', 'filings', 'fill', 'filling', 'fina', 'final', 'finalise', 'finalised', 'finalize', 'finalized', 'finalizing', 'finally', 'finance', 'financed', 'finances', 'financial', 'financially', 'financier', 'financing', 'find', 'finding', 'finds', 'fine', 'finished', 'finnish', 'fire', 'fireball', 'fired', 'firm', 'firmed', 'firmer', 'firming', 'firmly', 'firmness', 'firms', 'first', 'fiscal', 'fiscales', 'fish', 'fishing', 'fit', 'fits', 'fitzwater', 'five', 'fix', 'fixed', 'flag', 'flagged', 'flagging', 'flags', 'flank', 'flanked', 'flare', 'flat', 'flatly', 'flatten', 'flattened', 'flawed', 'fled', 'fledged', 'fledgling', 'fleet', 'flew', 'flexibility', 'flexible', 'float', 'floating', 'flood', 'flooded', 'flooding', 'floods', 'floor', 'florakis', 'florida', 'flotilla', 'flow', 'flowed', 'flowing', 'flows', 'fluctuate', 'fluctuations', 'fluidized', 'flumar', 'flurry', 'fly', 'flying', 'focus', 'foiled', 'fold', 'follow', 'followed', 'following', 'follows', 'followthrough', 'food', 'foot', 'foothold', 'for', 'foray', 'forbidding', 'force', 'forced', 'forces', 'forcing', 'ford', 'forecast', 'forecasts', 'foreign', 'foreigners', 'foremost', 'foresaw', 'foresee', 'foreseeable', 'foreseen', 'foresees', 'forestall', 'forgotten', 'form', 'formal', 'formality', 'formalize', 'formally', 'formation', 'formed', 'former', 'formerly', 'forms', 'formula', 'formulas', 'fort', 'fortunes', 'forum', 'forward', 'fos', 'foster', 'fostering', 'foulkes', 'found', 'foundation', 'founder', 'foundry', 'four', 'fourth', 'fractionation', 'framework', 'francaise', 'france', 'franchised', 'franciso', 'francois', 'frank', 'fred', 'free', 'freedman', 'freedom', 'freeing', 'freer', 'freeze', 'freight', 'french', 'frequently', 'fresh', 'friday', 'friedburg', 'friendly', 'friends', 'frigate', 'frigates', 'frion', 'froces', 'from', 'front', 'frontier', 'frontline', 'frozen', 'frugal', 'fruit', 'ft', 'ftc', 'fuel', 'fueled', 'fuels', 'fujairah', 'fulfill', 'full', 'fuller', 'fully', 'function', 'functioning', 'fund', 'fundamental', 'fundamentally', 'fundamentals', 'funded', 'funding', 'funds', 'further', 'furthermore', 'future', 'futures', 'g', 'gabes', 'gabon', 'gabonese', 'gaf', 'gain', 'gained', 'gains', 'gallon', 'galo', 'gambell', 'game', 'gannet', 'gao', 'gap', 'gaping', 'gaps', 'garcia', 'gareth', 'garo', 'garrone', 'gary', 'gas', 'gasoil', 'gasoline', 'gaspar', 'gasper', 'gather', 'gathered', 'gathering', 'gathers', 'gatt', 'gauge', 'gaughan', 'gauntlet', 'gaurantees', 'gave', 'gb', 'gcc', 'gear', 'gebang', 'general', 'generally', 'generate', 'generated', 'generating', 'generous', 'geneva', 'gennady', 'geodyne', 'geoffrey', 'geographic', 'geolog', 'geologic', 'geological', 'geophysical', 'geophysicists', 'george', 'georgia', 'gerasimov', 'german', 'germany', 'get', 'gets', 'getting', 'getty', 'ghana', 'ghanaian', 'gholamreza', 'giant', 'giants', 'gidgealpa', 'gigantic', 'gil', 'gippsland', 'giuliani', 'give', 'given', 'gives', 'giving', 'glamorous', 'glenn', 'global', 'globalization', 'glut', 'gmt', 'go', 'goal', 'goals', 'gobert', 'goc', 'god', 'goes', 'going', 'gold', 'golden', 'goldman', 'goldston', 'gomes', 'gone', 'good', 'goode', 'goods', 'goodyear', 'gop', 'gorbachev', 'gordon', 'gos', 'gosper', 'got', 'gotaas', 'gothenburg', 'gotlf', 'goverment', 'government', 'governmental', 'governments', 'governor', 'govett', 'govt', 'gra', 'grab', 'grace', 'grade', 'grades', 'gradual', 'gradually', 'graham', 'grain', 'grandmarais', 'grangemouth', 'granite', 'granted', 'granting', 'granule', 'graven', 'gravity', 'great', 'greater', 'greatest', 'greatly', 'greece', 'greek', 'greeks', 'green', 'greene', 'greenshields', 'greenwich', 'greeted', 'grievances', 'grieveson', 'grips', 'grisanti', 'gross', 'ground', 'grounds', 'group', 'groups', 'grow', 'growing', 'grows', 'growth', 'gsp', 'gsps', 'gt', 'guarantee', 'guaranteed', 'guarantees', 'guaranty', 'guard', 'guarded', 'guarding', 'guards', 'guasare', 'guayaquil', 'guerard', 'guerrilla', 'guided', 'guilermno', 'guillermo', 'guinea', 'guinean', 'gulf', 'gullfaks', 'gunboat', 'gunboats', 'gunes', 'gunships', 'guven', 'guzman', 'h', 'haber', 'had', 'hadi', 'hague', 'hailed', 'hair', 'hal', 'halefoglu', 'halefolu', 'half', 'halifax', 'hall', 'halliburton', 'halt', 'halted', 'haltenbanken', 'halting', 'halvorsen', 'hamilton', 'haml', 'hammering', 'hampered', 'hamza', 'hand', 'handle', 'handles', 'hands', 'hanke', 'hanover', 'hans', 'hansen', 'happen', 'happened', 'happens', 'happy', 'harbors', 'harbour', 'hard', 'harder', 'hardest', 'hardjoko', 'hardship', 'hardware', 'harilaos', 'harlan', 'harm', 'harmful', 'harming', 'harms', 'harold', 'harrington', 'harris', 'harrison', 'hartley', 'harvard', 'harvest', 'has', 'hashemi', 'haslam', 'hasn', 'hassan', 'hasty', 'hate', 'hatfield', 'haul', 'have', 'haven', 'having', 'havoc', 'hawaii', 'hawaiian', 'hawk', 'hawks', 'haynes', 'he', 'head', 'headed', 'heading', 'headlined', 'headlines', 'headquarters', 'heads', 'heady', 'health', 'healthy', 'hear', 'heard', 'hearing', 'heart', 'hearts', 'heat', 'heated', 'heating', 'heavier', 'heaviest', 'heavily', 'heavy', 'hector', 'hedge', 'hedged', 'heeled', 'hegemonistic', 'heidrun', 'heightened', 'held', 'helicopter', 'helicopters', 'helle', 'helmut', 'help', 'helped', 'helpful', 'helping', 'helps', 'hemisphere', 'hemminghaus', 'henceforth', 'heng', 'henley', 'henrique', 'henry', 'her', 'here', 'hereby', 'herington', 'hernandez', 'herold', 'herrington', 'hess', 'heyman', 'hfag', 'hibernia', 'high', 'higher', 'highest', 'highlighted', 'highly', 'highs', 'hike', 'hikes', 'hill', 'hills', 'him', 'himself', 'hinder', 'hinted', 'hints', 'hiring', 'his', 'hisham', 'hispanoil', 'historic', 'historical', 'history', 'hit', 'hitting', 'ho', 'hoare', 'hodel', 'hodges', 'hoechst', 'hoel', 'hoenmans', 'hoffman', 'hogs', 'hojatoleslam', 'hold', 'holders', 'holding', 'holdings', 'holds', 'holes', 'holiday', 'holidays', 'holmes', 'home', 'homeland', 'homeless', 'homes', 'hondo', 'honolulu', 'honour', 'hook', 'hope', 'hoped', 'hopes', 'hoping', 'horde', 'hormuz', 'horrific', 'hossein', 'hostage', 'hostile', 'hostilities', 'hostitilies', 'hotels', 'houlder', 'hour', 'hours', 'house', 'housed', 'houses', 'housing', 'houston', 'hover', 'hovers', 'how', 'howard', 'howe', 'however', 'hrs', 'ht', 'hua', 'huge', 'hugely', 'huges', 'hugh', 'hughes', 'huh', 'humanistic', 'hundred', 'hundreds', 'hunting', 'huntington', 'hurdles', 'hurghada', 'hurriyet', 'hurt', 'hurtado', 'hurting', 'hussein', 'huts', 'hutton', 'hydraulic', 'hydro', 'hydrocal', 'hydrocarbon', 'hydrocarbons', 'hydrocracker', 'hydrodealkylation', 'hydrotreater', 'hyman', 'hypothesis', 'i', 'ia', 'iagifu', 'ian', 'ibj', 'ibjt', 'ibn', 'ibrahim', 'icahn', 'ice', 'icebreaker', 'iceland', 'icg', 'ichan', 'idea', 'ideal', 'ideas', 'identical', 'identified', 'identify', 'idled', 'idling', 'idrocarburi', 'iea', 'if', 'ifs', 'ignore', 'ignored', 'ii', 'iia', 'iit', 'ike', 'ilacqua', 'ilaqua', 'ill', 'illegal', 'illegally', 'illinois', 'illustrating', 'image', 'imagine', 'immediate', 'immediately', 'imminent', 'imo', 'impact', 'imperative', 'imperial', 'impetus', 'implement', 'implementation', 'implemented', 'implicate', 'implication', 'implications', 'implicit', 'implied', 'imply', 'implying', 'import', 'importance', 'important', 'imported', 'importing', 'imports', 'impose', 'imposed', 'imposition', 'impossible', 'impressed', 'impression', 'improbability', 'improperly', 'improve', 'improved', 'improvement', 'improvements', 'improving', 'impunity', 'in', 'ina', 'inability', 'inaction', 'inactive', 'inadequate', 'inadquate', 'inaugurated', 'inauguration', 'inc', 'incentive', 'incentives', 'inch', 'inches', 'incident', 'inclined', 'include', 'included', 'includes', 'including', 'inclusion', 'income', 'incomes', 'incorporating', 'incorrectly', 'increase', 'increased', 'increases', 'increasing', 'increasingly', 'incremental', 'incurred', 'indeed', 'indefinite', 'indefinitely', 'indefintiely', 'indepedent', 'indepedents', 'independent', 'independents', 'indepndent', 'index', 'india', 'indian', 'indiana', 'indicate', 'indicated', 'indicates', 'indicating', 'indication', 'indications', 'indicator', 'indicators', 'indidate', 'indigenous', 'indirect', 'indirectly', 'individual', 'individuals', 'indonesia', 'indonesian', 'induced', 'industrial', 'industrialisation', 'industrialised', 'industrialized', 'industrier', 'industries', 'industry', 'industrywide', 'inefficient', 'inelectra', 'inequalities', 'inevitable', 'inevitably', 'infantry', 'infill', 'inflation', 'influence', 'influenced', 'influences', 'influential', 'informal', 'information', 'informed', 'infrastructure', 'infringed', 'ingolstadt', 'inherent', 'initial', 'initialled', 'initially', 'initiate', 'initiated', 'initiative', 'inject', 'injecting', 'injection', 'injunction', 'injured', 'injuries', 'injury', 'inland', 'inoc', 'inoperative', 'inquiries', 'insecure', 'inside', 'insignificant', 'insisted', 'insisting', 'inspected', 'inspecting', 'inspire', 'instability', 'installations', 'installed', 'installs', 'instalment', 'instances', 'instead', 'institute', 'institutional', 'institutions', 'insufficient', 'insurance', 'insure', 'int', 'integral', 'integrated', 'intelligence', 'intend', 'intended', 'intends', 'intense', 'intensification', 'intensify', 'intensive', 'intent', 'intention', 'intentions', 'inter', 'interbank', 'interest', 'interested', 'interesting', 'interests', 'interfere', 'interfered', 'interference', 'interferring', 'interfuel', 'intergroup', 'interior', 'intermediate', 'intermediates', 'internal', 'internally', 'internation', 'international', 'internationally', 'interprovincial', 'intervene', 'intervention', 'interview', 'interviewer', 'intimidation', 'into', 'introduce', 'introduced', 'invading', 'inventories', 'inventory', 'invest', 'invested', 'investigate', 'investigated', 'investigating', 'investing', 'investment', 'investments', 'investor', 'investors', 'invitation', 'invited', 'inviting', 'invoked', 'involve', 'involved', 'involvement', 'involves', 'involving', 'iran', 'iranan', 'iranian', 'iranians', 'iraq', 'iraqi', 'iraqis', 'irna', 'iron', 'irreversible', 'is', 'isab', 'isam', 'islamic', 'island', 'islands', 'isle', 'isn', 'isnlikely', 'isolated', 'isomerization', 'issam', 'issue', 'issued', 'issues', 'issuing', 'isthmus', 'it', 'italian', 'italiana', 'italy', 'items', 'itoh', 'its', 'itself', 'j', 'jaap', 'jabbar', 'jack', 'jacket', 'jackson', 'jackup', 'jail', 'jaime', 'jakarta', 'jamaica', 'jamal', 'james', 'jan', 'janeiro', 'january', 'japan', 'japanese', 'japex', 'jarl', 'java', 'javier', 'jawa', 'jawboning', 'jay', 'jeapordy', 'jeddah', 'jefferson', 'jeffrey', 'jeopardises', 'jeopardized', 'jerome', 'jersey', 'jet', 'jets', 'jetty', 'jim', 'jlit', 'joaquin', 'job', 'jobs', 'joe', 'jofree', 'john', 'johnson', 'johnston', 'join', 'joined', 'joint', 'jointly', 'jolfa', 'jonahi', 'jordan', 'jorge', 'jose', 'journal', 'jpm', 'ju', 'juan', 'jubail', 'judgement', 'judgment', 'judy', 'juha', 'jukardi', 'july', 'jumardi', 'jump', 'jumped', 'jumps', 'jun', 'june', 'jungle', 'jurisdictions', 'jury', 'just', 'justice', 'justifiable', 'justification', 'justified', 'justify', 'jute', 'k', 'kamal', 'kan', 'kandeel', 'kansas', 'kapsis', 'kaputin', 'kaya', 'keen', 'keep', 'keeping', 'keeps', 'keg', 'kelley', 'kellog', 'kellogg', 'kelvin', 'kendall', 'kenneth', 'kentucky', 'kenya', 'kenyan', 'kept', 'kerir', 'kern', 'kerr', 'kerridge', 'kevan', 'key', 'khadeir', 'khafji', 'khail', 'khalaf', 'khalifa', 'khamenei', 'kharg', 'khark', 'kharrazi', 'khatib', 'khor', 'kidd', 'kidnappings', 'kill', 'killed', 'killing', 'kilolitres', 'kilometers', 'kilometres', 'kilowatt', 'kina', 'kind', 'kinds', 'king', 'kingdom', 'kirkuk', 'kittiwake', 'kitty', 'kl', 'klaipeda', 'klein', 'kleinwort', 'klootwijk', 'kly', 'km', 'kmg', 'kms', 'knew', 'know', 'knowing', 'known', 'knows', 'knuettel', 'kohlberg', 'korea', 'korean', 'koreans', 'kotc', 'kotowski', 'krapels', 'kravis', 'kreir', 'krutikhin', 'kuna', 'kuwait', 'kuwaiti', 'kuwaitis', 'kvaerner', 'kvio', 'l', 'l63', 'la', 'labor', 'labour', 'labrador', 'lack', 'lacked', 'lacks', 'laden', 'lag', 'lagging', 'lago', 'lagos', 'laid', 'laiohe', 'lajous', 'lake', 'lambert', 'land', 'landed', 'landing', 'lands', 'landslide', 'landslides', 'lanes', 'langasco', 'langsa', 'language', 'lanka', 'lapse', 'lara', 'large', 'largely', 'larger', 'largest', 'larsen', 'lasmo', 'last', 'lasting', 'late', 'lately', 'later', 'latest', 'latin', 'latter', 'launch', 'launched', 'launchers', 'launching', 'lavan', 'lavera', 'law', 'lawmakers', 'laws', 'lawson', 'lawsuit', 'lawsuits', 'lawton', 'lay', 'layers', 'laying', 'layoffs', 'lazaro', 'lazier', 'lead', 'leader', 'leaders', 'leadership', 'leading', 'leak', 'leakage', 'leal', 'leaner', 'leap', 'lear', 'learn', 'learned', 'lease', 'leaseback', 'leased', 'leaseholds', 'leases', 'leasing', 'least', 'leave', 'leaves', 'leaving', 'lebanon', 'leblanc', 'led', 'lee', 'leeway', 'left', 'leftist', 'leftwich', 'leg', 'legal', 'legendary', 'legislated', 'legislation', 'legitimate', 'lehman', 'leiner', 'lend', 'lenders', 'lending', 'length', 'lengthy', 'lent', 'leon', 'leroux', 'less', 'lessen', 'lesser', 'lesson', 'lessons', 'let', 'letter', 'letters', 'level', 'levels', 'leveraged', 'levesque', 'levy', 'lewis', 'liabilities', 'liability', 'liberal', 'liberalise', 'liberalised', 'liberation', 'liberian', 'libya', 'libyan', 'licence', 'licences', 'license', 'licensed', 'licenses', 'licensing', 'lichtbalu', 'lichtblau', 'lie', 'liedtke', 'liens', 'lies', 'lieutenant', 'life', 'lifeline', 'lifetime', 'lift', 'lifted', 'lifters', 'lifting', 'liftings', 'lifts', 'light', 'lighter', 'lightest', 'ligigation', 'like', 'likelihood', 'likely', 'limit', 'limitation', 'limited', 'limiting', 'limits', 'limon', 'line', 'lines', 'lining', 'link', 'linked', 'linking', 'links', 'linkup', 'liquefied', 'liquid', 'liquidated', 'liquidity', 'liquids', 'liquified', 'list', 'listening', 'lit', 'literally', 'little', 'liu', 'live', 'lived', 'livestock', 'living', 'll', 'lloyd', 'lloyds', 'llx', 'load', 'loaded', 'loading', 'loan', 'loaned', 'loans', 'local', 'located', 'location', 'lock', 'lodged', 'london', 'long', 'longer', 'longest', 'longitude', 'longshot', 'look', 'looked', 'looking', 'looks', 'loophole', 'lord', 'lorries', 'lose', 'losing', 'loss', 'losses', 'lost', 'lot', 'louisiana', 'lousiana', 'louw', 'low', 'lower', 'lowered', 'lowering', 'lowers', 'lowest', 'lows', 'lpg', 'lpp', 'lt', 'ltd', 'lubricant', 'luck', 'lucky', 'lufeng', 'luis', 'lukman', 'lull', 'lunch', 'lunday', 'lured', 'lusinchi', 'luxembourg', 'lying', 'lynch', 'm', 'maanagement', 'machinegun', 'machinery', 'maciej', 'mackenzie', 'macmillan', 'mad', 'madagascar', 'made', 'madrid', 'maffei', 'magangue', 'magazine', 'magnitude', 'main', 'mainly', 'maintain', 'maintained', 'maintaining', 'maintains', 'maintenance', 'majed', 'majeure', 'major', 'majority', 'majors', 'make', 'makers', 'makes', 'making', 'makri', 'malaysia', 'malaysian', 'malmgreen', 'man', 'mana', 'manage', 'managed', 'management', 'manager', 'managers', 'managing', 'mandate', 'mandatory', 'maneuvers', 'manganese', 'manhattan', 'manipulate', 'mankind', 'manner', 'manning', 'manpower', 'manuel', 'manufacture', 'manufacturer', 'manufacturers', 'manufactures', 'manufacturing', 'many', 'map', 'mar', 'maracaibo', 'marathon', 'marcel', 'march', 'marco', 'margaret', 'margin', 'marginal', 'marginally', 'margins', 'margoshes', 'maria', 'marine', 'marines', 'marion', 'maritime', 'mark', 'marker', 'market', 'marketed', 'marketer', 'marketers', 'marketing', 'marketplace', 'markets', 'marks', 'marlin', 'marshall', 'martime', 'martin', 'masoud', 'mass', 'masse', 'massing', 'massive', 'massy', 'match', 'matched', 'matching', 'matchmaking', 'material', 'materials', 'materialy', 'materiel', 'matrix', 'matter', 'maturation', 'maurizio', 'mawson', 'maximize', 'maximum', 'may', 'maya', 'maybe', 'mccarthy', 'mccormick', 'mcdermott', 'mcentee', 'mcf', 'mcfadden', 'mcgee', 'mcginley', 'mcivor', 'mckibbin', 'mckiernan', 'mckinley', 'mcmillan', 'mcmurray', 'mdr', 'me', 'meagre', 'mean', 'meaningful', 'means', 'meant', 'meantime', 'meanwhile', 'meares', 'measure', 'measured', 'measures', 'meat', 'mechanical', 'med', 'mede', 'media', 'median', 'mediation', 'mediator', 'mediterranean', 'medium', 'mees', 'meet', 'meeting', 'meetings', 'meets', 'megalitre', 'megalitres', 'mehdi', 'mellili', 'member', 'members', 'membership', 'men', 'mena', 'mention', 'mentioned', 'mepsi', 'mer', 'mercalli', 'mercantile', 'merchant', 'merchants', 'mereenie', 'merge', 'merger', 'mergers', 'merging', 'merrill', 'mesa', 'message', 'met', 'metal', 'metals', 'meter', 'meters', 'method', 'methods', 'metre', 'metrers', 'metres', 'metric', 'metro', 'mexican', 'mexicanos', 'mexico', 'mhc', 'michael', 'michigan', 'mid', 'midday', 'middle', 'mideast', 'midland', 'midyear', 'might', 'migrations', 'mihalis', 'mike', 'mikhail', 'mild', 'mile', 'miles', 'militarily', 'military', 'miller', 'million', 'milliyet', 'mills', 'miltary', 'minas', 'minatome', 'mind', 'minds', 'mine', 'mineral', 'minerals', 'miners', 'mines', 'minesweepers', 'minimal', 'minimised', 'minimized', 'minimum', 'minimums', 'mining', 'minister', 'ministerial', 'ministers', 'ministries', 'ministry', 'minority', 'minsitry', 'minus', 'minute', 'mir', 'miraflores', 'mirror', 'mirrored', 'misleading', 'missed', 'missile', 'missiles', 'mission', 'missions', 'mississippi', 'missouri', 'mistake', 'mistakes', 'misunderstandings', 'mitchell', 'miti', 'mitigate', 'mitsotakis', 'mixed', 'mizrahi', 'mlc', 'mln', 'mlotok', 'mlp', 'mm', 'mmtc', 'mnd', 'mob', 'mobil', 'mobile', 'mock', 'moderate', 'modern', 'modest', 'modification', 'modifications', 'modified', 'modular', 'modules', 'moere', 'mohammed', 'moi', 'molding', 'moment', 'momentary', 'momentum', 'monday', 'monetary', 'money', 'mongstad', 'monitor', 'monitored', 'monitoring', 'monopolies', 'monopolistic', 'monsanto', 'montana', 'montano', 'montedison', 'month', 'monthly', 'months', 'mood', 'moomba', 'moonie', 'mooring', 'moratorium', 'more', 'moreover', 'morgan', 'morning', 'morondava', 'morris', 'morton', 'mosar', 'moscow', 'moslems', 'moss', 'mossel', 'most', 'mostly', 'mosts', 'mothball', 'motion', 'motivate', 'motorists', 'mould', 'mountains', 'mounted', 'mounting', 'moura', 'mousavi', 'moussavar', 'mouth', 'move', 'moved', 'movement', 'movements', 'moves', 'moving', 'mr', 'mt', 'mtc', 'much', 'mud', 'multi', 'multinational', 'multiple', 'munger', 'mur', 'murchison', 'murphy', 'murray', 'musa', 'muscles', 'musk', 'must', 'my', 'myself', 'n', 'na', 'nabi', 'naccowlah', 'nacional', 'naftagas', 'naftaplin', 'nahayan', 'naif', 'nakasone', 'name', 'named', 'namely', 'names', 'namibia', 'naming', 'nance', 'naphtha', 'napo', 'nar', 'narrow', 'narrower', 'narrowest', 'narvaez', 'nassau', 'nation', 'national', 'nationale', 'nationalists', 'nationalities', 'nationality', 'nationally', 'nations', 'nationwide', 'native', 'natives', 'nato', 'natural', 'naturally', 'nature', 'nauman', 'naval', 'navigating', 'navigation', 'navy', 'nazer', 'nazionale', 'nazir', 'nazmi', 'nbc', 'ne', 'nea', 'neale', 'near', 'nearby', 'nearer', 'nearing', 'nearly', 'necessarily', 'necessary', 'necessitate', 'necessity', 'need', 'needed', 'needs', 'negates', 'negative', 'negatively', 'negotiable', 'negotiate', 'negotiates', 'negotiating', 'negotiations', 'negotiators', 'neighbour', 'neighbouring', 'neighbours', 'neither', 'neka', 'nemours', 'neogtiating', 'neoy', 'ner', 'nerci', 'nerco', 'nervous', 'nervousness', 'nes', 'neste', 'net', 'netback', 'netbacks', 'netherlands', 'netted', 'network', 'networks', 'neutral', 'never', 'new', 'newfoundland', 'newhall', 'newly', 'news', 'newsletter', 'newspaper', 'newspapers', 'next', 'ngls', 'nhy', 'nibbling', 'nicaragua', 'nicaraguan', 'niche', 'nickles', 'nicol', 'nicolas', 'nicosia', 'nielsen', 'nigel', 'nigeria', 'nigerian', 'night', 'nii', 'nine', 'nioc', 'nippon', 'no', 'nobody', 'noise', 'nominal', 'nominations', 'non', 'nonbelligerent', 'none', 'nonetheless', 'nonperforming', 'nonsubsidiary', 'nonutility', 'nor', 'norbec', 'norcem', 'norcen', 'nordic', 'norge', 'normal', 'normally', 'norman', 'norsk', 'norske', 'norte', 'north', 'northeast', 'northeastern', 'northen', 'northermost', 'northern', 'northstar', 'northwest', 'northwestern', 'norway', 'norwegian', 'nosedive', 'not', 'notably', 'note', 'noted', 'noteholders', 'notes', 'nothing', 'noticeably', 'notification', 'notified', 'notify', 'noting', 'nova', 'november', 'novi', 'now', 'nowak', 'nowruz', 'nowshahr', 'np', 'npeeq', 'nra', 'nuclear', 'nueva', 'nugent', 'nui', 'nuisance', 'number', 'numbers', 'nymex', 'nynas', 'o', 'oahu', 'oak', 'oakley', 'oapec', 'obed', 'objection', 'objections', 'objective', 'objects', 'obligated', 'obligation', 'obligations', 'obliged', 'observed', 'observer', 'observers', 'obtain', 'obtained', 'obvious', 'obviously', 'occidental', 'occupants', 'occupation', 'occupied', 'occupy', 'occupying', 'occur', 'occurred', 'occurring', 'occurs', 'ocean', 'oct', 'october', 'oecd', 'oeien', 'oel', 'of', 'off', 'offensive', 'offer', 'offered', 'offering', 'offers', 'office', 'officer', 'offices', 'official', 'officially', 'officials', 'offload', 'offs', 'offset', 'offsets', 'offsetting', 'offshoot', 'offshore', 'often', 'ohio', 'oil', 'oilers', 'oilfied', 'oilfield', 'oilfields', 'oilfileds', 'oilman', 'oilmen', 'oilpatch', 'oils', 'oilsands', 'ok', 'okesman', 'okla', 'oklahoma', 'ol', 'old', 'olieselskab', 'oljeselskap', 'oman', 'omani', 'omni', 'omnis', 'on', 'once', 'one', 'ones', 'ongc', 'ongoing', 'only', 'onset', 'onshore', 'onstream', 'onto', 'onwards', 'oozing', 'ope', 'opec', 'opecna', 'open', 'opened', 'opening', 'opens', 'operable', 'operate', 'operated', 'operates', 'operating', 'operation', 'operational', 'operations', 'operator', 'operators', 'operatorship', 'operatorships', 'opertations', 'opinion', 'opinions', 'oppenheimer', 'opportunities', 'opportunity', 'oppose', 'opposed', 'opposes', 'opposing', 'opposite', 'opposition', 'oppposed', 'optimal', 'optimism', 'optimistic', 'optimistically', 'optimize', 'opting', 'option', 'options', 'or', 'orange', 'oranje', 'orbit', 'orchestrated', 'orchestrating', 'order', 'ordered', 'orderly', 'orders', 'ordinary', 'ordinate', 'ore', 'oreffice', 'oregon', 'ores', 'organiaation', 'organisation', 'organised', 'organization', 'organizations', 'organized', 'orginal', 'oriented', 'original', 'originally', 'origins', 'orkin', 'ors', 'orthoxylene', 'orval', 'osborne', 'oseberg', 'osg', 'oslo', 'osp', 'osprey', 'ostracism', 'oteiba', 'oth', 'other', 'others', 'otherwise', 'ouachita', 'ouput', 'our', 'ours', 'out', 'outbreak', 'outcome', 'outer', 'outlay', 'outlays', 'outlet', 'outlined', 'outlining', 'outlook', 'output', 'outrageous', 'outright', 'outside', 'outsized', 'outstanding', 'outweighing', 'over', 'overall', 'overcharges', 'overcome', 'overdependence', 'overdoing', 'overestimated', 'overhaul', 'overhauling', 'overlifting', 'overly', 'overpriced', 'overproducing', 'overproduction', 'overriding', 'overseas', 'oversee', 'overshoot', 'oversold', 'oversupplies', 'overvalued', 'overwhelming', 'owed', 'owen', 'owing', 'own', 'owned', 'owner', 'owners', 'ownership', 'owning', 'owns', 'oxen', 'oxy', 'ozal', 'p', 'pa', 'pablo', 'pace', 'pacific', 'pack', 'package', 'packages', 'packers', 'pact', 'pads', 'page', 'paid', 'painewebber', 'painted', 'paints', 'pakistan', 'palace', 'palestinians', 'palito', 'palm', 'pancanadian', 'panel', 'panic', 'pannzoil', 'papanderou', 'papandreou', 'paper', 'papua', 'papuan', 'par', 'parachute', 'paralysed', 'paralyzed', 'paramilitary', 'parana', 'parcels', 'pare', 'pared', 'parent', 'parex', 'paribas', 'paringa', 'paris', 'parish', 'parity', 'parliament', 'parliamentarians', 'parliamentary', 'parra', 'part', 'partially', 'partialy', 'participants', 'participate', 'participating', 'participation', 'participators', 'particular', 'particularly', 'particulartly', 'particulary', 'parties', 'partitioning', 'partly', 'partner', 'partners', 'partnership', 'partnerships', 'parts', 'party', 'pass', 'passed', 'passes', 'past', 'patch', 'path', 'paths', 'patient', 'patricio', 'patrick', 'patrol', 'patrolling', 'pattern', 'patterns', 'paul', 'paulo', 'paulsboro', 'paust', 'pave', 'paved', 'pay', 'payable', 'paying', 'payment', 'payments', 'payout', 'payroll', 'pays', 'pazzionotto', 'pbt', 'pciac', 'pct', 'pdsva', 'pdvsa', 'peace', 'peaceful', 'peak', 'peaked', 'peaks', 'pearl', 'peerless', 'pegged', 'peking', 'pemex', 'penalty', 'pending', 'penetrated', 'peninsula', 'pennsylvania', 'pennzoil', 'pentagon', 'people', 'per', 'percentage', 'perception', 'perez', 'perfidious', 'perforations', 'performance', 'performed', 'performing', 'perhaps', 'period', 'periods', 'permament', 'permanent', 'permanently', 'permian', 'permit', 'permits', 'perry', 'persian', 'persist', 'persistent', 'person', 'personal', 'personnel', 'persuade', 'persuading', 'persuasive', 'pertains', 'pertamina', 'peru', 'peruvian', 'pessimistic', 'pet', 'petb', 'pete', 'peter', 'peters', 'petition', 'petrleum', 'petro', 'petrobras', 'petrocanada', 'petrochemcial', 'petrochemical', 'petrochemicals', 'petroeleos', 'petroelum', 'petrofina', 'petrol', 'petroleo', 'petroleos', 'petrolera', 'petroles', 'petroleum', 'petroliferos', 'petroluem', 'petromin', 'petronas', 'pgrt', 'phase', 'phenomenon', 'philadelphia', 'philip', 'philips', 'phillip', 'phillips', 'phyllis', 'physical', 'physicals', 'pick', 'picked', 'pickens', 'picketed', 'picking', 'picks', 'pickup', 'picture', 'pilot', 'pioneer', 'pipe', 'pipeline', 'pipelines', 'pipelline', 'piping', 'pitched', 'pitmen', 'pitts', 'pivot', 'piw', 'place', 'placed', 'placement', 'places', 'plain', 'plains', 'plan', 'planes', 'planned', 'planners', 'planning', 'plans', 'plant', 'planting', 'plants', 'plastics', 'plateau', 'platform', 'platforms', 'platinum', 'play', 'played', 'player', 'playing', 'plays', 'plc', 'plea', 'pleas', 'pledged', 'pledges', 'pledging', 'plenty', 'plexman', 'plight', 'plns', 'ploughing', 'plugged', 'plunge', 'plunged', 'plus', 'plying', 'png', 'pockets', 'point', 'pointed', 'pointing', 'points', 'poised', 'police', 'policies', 'policy', 'policymakers', 'political', 'politically', 'poll', 'polled', 'pollution', 'polmar', 'pont', 'pool', 'pools', 'poor', 'popular', 'population', 'populous', 'pork', 'port', 'portending', 'portfolio', 'portion', 'ports', 'pose', 'posed', 'posing', 'position', 'positions', 'positive', 'positively', 'possibilities', 'possibility', 'possible', 'possibly', 'post', 'posted', 'posting', 'postings', 'postitions', 'postpone', 'postponed', 'posts', 'potential', 'potentially', 'potetnital', 'pound', 'pounds', 'powdered', 'power', 'powerful', 'powerhouse', 'powerine', 'powerplants', 'powers', 'ppc', 'practical', 'practically', 'practice', 'practices', 'praised', 'prawiro', 'pre', 'precarious', 'precaution', 'preceded', 'precedent', 'preceding', 'precipitated', 'preconditions', 'predatory', 'predecessor', 'predict', 'predicted', 'predictions', 'predicts', 'predominant', 'prefential', 'prefer', 'preference', 'preferred', 'preliminary', 'premier', 'premium', 'preparation', 'prepare', 'prepared', 'preparing', 'prepay', 'prepayment', 'prerequisite', 'prersident', 'prescott', 'prescribed', 'presence', 'present', 'presented', 'presents', 'preserve', 'preserving', 'presidency', 'president', 'presidential', 'press', 'pressed', 'pressing', 'pressure', 'pressured', 'pressures', 'pressuring', 'prestige', 'pretax', 'pretoria', 'pretty', 'preussag', 'prevails', 'prevent', 'prevented', 'preventing', 'prevents', 'previouly', 'previous', 'previously', 'pri', 'price', 'priced', 'prices', 'pricing', 'primarily', 'primary', 'prime', 'prince', 'princeton', 'principal', 'principally', 'principle', 'priolo', 'prior', 'priorities', 'priority', 'private', 'privately', 'privileged', 'pro', 'probability', 'probable', 'probably', 'probing', 'problem', 'problems', 'procedure', 'procedures', 'proceed', 'proceedings', 'proceeds', 'process', 'processed', 'processiing', 'processing', 'produce', 'produced', 'producer', 'producers', 'produces', 'producing', 'product', 'production', 'productive', 'products', 'professionally', 'profile', 'profit', 'profitability', 'profitable', 'profits', 'profound', 'profoundly', 'program', 'programme', 'programmes', 'programs', 'progress', 'progressing', 'progressive', 'prohibit', 'prohibited', 'prohibiting', 'prohibits', 'project', 'projected', 'projection', 'projections', 'projects', 'prominent', 'promise', 'promised', 'promising', 'promote', 'promoted', 'promoting', 'prompt', 'prompted', 'pronged', 'pronounced', 'propaganda', 'propane', 'propel', 'properly', 'properties', 'property', 'proportion', 'proportions', 'proposal', 'proposals', 'propose', 'proposed', 'proposes', 'proprietary', 'propuced', 'proration', 'prorationing', 'prospect', 'prospecting', 'prospective', 'prospects', 'protect', 'protected', 'protecting', 'protection', 'protectionism', 'protectionist', 'protest', 'protests', 'protocol', 'prove', 'proved', 'proven', 'provide', 'provided', 'provides', 'providing', 'province', 'provision', 'provisional', 'provisionally', 'provisions', 'provocative', 'proximity', 'prspect', 'prt', 'prudence', 'prudential', 'prudhoe', 'pruposes', 'psychological', 'pty', 'public', 'publication', 'publications', 'publicly', 'publish', 'published', 'publishing', 'puerto', 'puertollano', 'pull', 'pulled', 'pulling', 'pullout', 'pulverized', 'pump', 'pumped', 'pumping', 'pumps', 'purchase', 'purchased', 'purchasers', 'purchases', 'purchasing', 'pure', 'purely', 'purge', 'purhcase', 'purpose', 'purposes', 'pursuant', 'pursue', 'pursued', 'pursuing', 'push', 'pushed', 'pushing', 'put', 'putting', 'pyne', 'pzl', 'q', 'q4a', 'q5c', 'qabas', 'qassem', 'qatar', 'qtr', 'quake', 'qualified', 'qualifies', 'qualify', 'qualifying', 'quality', 'quantities', 'quantity', 'quaotities', 'quarter', 'quarterly', 'quarters', 'quays', 'quebec', 'queensland', 'query', 'question', 'questionable', 'questioned', 'questioning', 'questions', 'quevedo', 'quick', 'quickly', 'quiet', 'quietly', 'quirico', 'quit', 'quite', 'quito', 'quo', 'quota', 'quotas', 'quoted', 'quotes', 'quoting', 'r', 'rachman', 'radar', 'radio', 'radius', 'rafael', 'raffinage', 'rafsanjani', 'ragged', 'rahim', 'rahmani', 'rai', 'raid', 'raided', 'raiders', 'raids', 'railroad', 'rails', 'railway', 'rain', 'rainbow', 'rains', 'raise', 'raised', 'raises', 'raising', 'rakhsh', 'rallied', 'rallies', 'rally', 'ramly', 'ramnath', 'ran', 'randol', 'random', 'range', 'ranged', 'ranger', 'ranging', 'ranking', 'ranks', 'rapid', 'rapidly', 'ras', 'rash', 'rashadat', 'rastam', 'rate', 'rated', 'rates', 'rather', 'ratification', 'ratifies', 'ratio', 'rationalisation', 'rationalise', 'ratsimandresy', 'raw', 'ray', 'raymond', 'rd', 're', 'reach', 'reached', 'reaches', 'reaching', 'react', 'reacted', 'reacting', 'reaction', 'reactivate', 'reacts', 'readdress', 'readily', 'readiness', 'ready', 'reaffirm', 'reaffirmation', 'reaffirmed', 'reaffirming', 'reaffirms', 'reagan', 'real', 'realise', 'realism', 'realistic', 'realities', 'reality', 'realize', 'realized', 'reallocation', 'really', 'rearranged', 'reason', 'reasonable', 'reasonably', 'reasons', 'reassess', 'reassessment', 'rebel', 'rebels', 'rebound', 'rebounded', 'rebuild', 'recapture', 'recapturing', 'recede', 'recedes', 'receding', 'receipts', 'receivables', 'receive', 'received', 'recent', 'recently', 'reception', 'recession', 'recipient', 'recklessness', 'reclaim', 'recognise', 'recognised', 'recognises', 'recognition', 'recognize', 'recommend', 'recommendation', 'recommendations', 'recommended', 'recommending', 'recommends', 'reconciled', 'reconfirm', 'reconstruction', 'record', 'recorded', 'recording', 'recourse', 'recover', 'recoverable', 'recovered', 'recovering', 'recovers', 'recovery', 'recur', 'recurrent', 'red', 'redec', 'redeemable', 'redeployed', 'redman', 'reduce', 'reduced', 'reduces', 'reducing', 'reduction', 'reductions', 'reed', 'reeserves', 'reestablish', 'reestablished', 'reevaluate', 'reference', 'referring', 'refine', 'refined', 'refiner', 'refineries', 'refiners', 'refinery', 'refining', 'reflag', 'reflagging', 'reflect', 'reflected', 'reflecting', 'reflection', 'reflects', 'refloat', 'reform', 'reformer', 'reforms', 'refrain', 'refuge', 'refunds', 'refurbished', 'refusal', 'refused', 'refusing', 'regain', 'regard', 'regarding', 'regards', 'regime', 'region', 'regional', 'regions', 'register', 'registered', 'registration', 'registries', 'regrettable', 'regular', 'regulated', 'regulates', 'regulating', 'regulation', 'regulations', 'regulator', 'regulators', 'regulatory', 'rehearing', 'reid', 'reigning', 'reimpell', 'reinforce', 'reinforcement', 'reinosa', 'reinstate', 'reintroduce', 'reintroduced', 'reinvest', 'reinvestment', 'reiterate', 'reiterated', 'reiterates', 'reiterating', 'rejected', 'rejection', 'rejects', 'relate', 'related', 'relates', 'relating', 'relation', 'relations', 'relationship', 'relative', 'relatively', 'relaxation', 'release', 'released', 'relected', 'relevant', 'reliance', 'relief', 'reliefs', 'relies', 'relieve', 'relieved', 'relieving', 'reluctance', 'reluctant', 'rely', 'relying', 'remain', 'remainder', 'remained', 'remaining', 'remains', 'remark', 'remarkably', 'remarked', 'remarks', 'remit', 'remote', 'removal', 'remove', 'removed', 'removing', 'renegotiation', 'renegotiations', 'renew', 'renewal', 'renewed', 'renewing', 'rent', 'rental', 'reopen', 'reopening', 'reopens', 'reorganization', 'rep', 'repaid', 'repair', 'repaired', 'repairing', 'repairs', 'repay', 'repaying', 'repayment', 'repayments', 'repeal', 'repeals', 'repeat', 'repeated', 'repeatedly', 'repeating', 'repeats', 'repetition', 'replace', 'replaced', 'replacement', 'replacements', 'replaces', 'replacing', 'replenish', 'replied', 'reply', 'replying', 'report', 'reported', 'reportedly', 'reporter', 'reporters', 'reporting', 'reports', 'represent', 'representative', 'representatives', 'represented', 'representing', 'represents', 'reprisal', 'reprisals', 'republic', 'republican', 'republicans', 'repurchase', 'repurchasing', 'request', 'requested', 'require', 'required', 'requirement', 'requirements', 'requires', 'requries', 'resalat', 'rescheduling', 'rescue', 'research', 'reserve', 'reserved', 'reserves', 'reservoir', 'resevoir', 'reshadat', 'reshapes', 'reshuffle', 'residential', 'residents', 'residual', 'resigned', 'resist', 'resistance', 'resisted', 'resisting', 'resold', 'resolute', 'resolve', 'resolved', 'resolves', 'resort', 'resource', 'resources', 'respect', 'respectively', 'respond', 'responded', 'respondents', 'responding', 'response', 'responses', 'responsibilites', 'responsibility', 'responsible', 'responsibly', 'ressearch', 'rest', 'restart', 'restarting', 'restated', 'restaurant', 'restocking', 'restore', 'restored', 'restoring', 'restrain', 'restrained', 'restraining', 'restraint', 'restraints', 'restrict', 'restricted', 'restricting', 'restrictions', 'restrictive', 'restructure', 'restructured', 'restructuring', 'result', 'resulted', 'resulting', 'results', 'resume', 'resumed', 'resuming', 'resurgence', 'retail', 'retailing', 'retain', 'retained', 'retains', 'retaliate', 'retaliated', 'retaliation', 'retaliatory', 'retire', 'retired', 'retreat', 'retreated', 'retroactive', 'retroactively', 'return', 'returned', 'returns', 'reuter', 'reuters', 'revamp', 'revealed', 'reveals', 'revelations', 'revenge', 'reventador', 'revenue', 'revenues', 'reversal', 'reverse', 'reversed', 'revert', 'review', 'reviewed', 'reviewing', 'reviews', 'revise', 'revised', 'revision', 'revisions', 'revitalise', 'revitalize', 'revived', 'revolution', 'revolutionary', 'revolving', 'rexi', 'reynolds', 'rgo', 'rhetoric', 'riased', 'rich', 'richard', 'riches', 'richfield', 'rico', 'ridicule', 'ridiculed', 'rig', 'right', 'rights', 'rigs', 'rijeka', 'rilwanu', 'ring', 'rio', 'rip', 'ripped', 'rise', 'risen', 'rises', 'rising', 'risk', 'riskier', 'risking', 'risks', 'risky', 'rival', 'river', 'rivers', 'riyadh', 'riyal', 'riyals', 'road', 'roadblocks', 'robert', 'roberts', 'robust', 'rocks', 'roderick', 'rodney', 'roger', 'rogers', 'roland', 'role', 'romo', 'romoleroux', 'ronald', 'room', 'rosario', 'rose', 'rosemary', 'rosenberg', 'rostam', 'rotary', 'rothschild', 'rotterdam', 'roubatis', 'roughly', 'round', 'rounds', 'roustabouts', 'route', 'routes', 'routine', 'routinely', 'row', 'rowland', 'roxy', 'roy', 'royal', 'royalties', 'royalty', 'royce', 'rrt', 'rtz', 'rtzl', 'rubaishi', 'rubber', 'rubble', 'rubio', 'rucias', 'rule', 'ruled', 'rulers', 'rules', 'ruling', 'rumors', 'rumour', 'rumours', 'run', 'running', 'runs', 'runup', 'rupees', 'rupiah', 'ruptured', 'ruputured', 'rushing', 's', 'sa', 'sab', 'sabah', 'sabine', 'sabotage', 'sachs', 'sacrifices', 'sad', 'saddam', 'saf', 'safe', 'safeguards', 'safely', 'safer', 'safety', 'saga', 'sago', 'sagp', 'said', 'sail', 'sailed', 'sailing', 'salado', 'salaries', 'sale', 'sales', 'salim', 'salina', 'salman', 'salomon', 'salvino', 'same', 'sample', 'samudio', 'samuel', 'san', 'sanchez', 'sanctions', 'sand', 'sandi', 'sands', 'sandstone', 'sanford', 'sank', 'santa', 'santana', 'santos', 'sao', 'sarney', 'saskatchewan', 'sassan', 'satisfaction', 'satisfactorily', 'satisfactory', 'satisfied', 'satisfying', 'saturday', 'saudi', 'saudia', 'saudis', 'save', 'saved', 'saving', 'savings', 'saw', 'say', 'saying', 'says', 'sc', 'scale', 'scandal', 'scant', 'scarce', 'scared', 'scenario', 'scenerio', 'schaefer', 'schedualed', 'schedule', 'scheduled', 'schedules', 'scheme', 'schleede', 'schlumberger', 'schuler', 'scientific', 'scope', 'scotia', 'scotian', 'scotland', 'scottish', 'scrape', 'scraps', 'scrutiny', 'scurry', 'sea', 'seabed', 'seafarers', 'seaman', 'seamen', 'seapride', 'search', 'searching', 'seas', 'season', 'seasonal', 'seat', 'second', 'secondary', 'secret', 'secretariat', 'secretary', 'section', 'sector', 'sectors', 'secure', 'secured', 'securites', 'securities', 'security', 'sedi', 'sedimentary', 'see', 'seeing', 'seek', 'seeking', 'seeks', 'seemed', 'seems', 'seen', 'sees', 'segment', 'seismic', 'seismologists', 'seized', 'seizes', 'selected', 'selective', 'self', 'sell', 'seller', 'sellers', 'selling', 'sells', 'selm', 'semi', 'semiconductor', 'seminar', 'semisubmersible', 'sen', 'senate', 'senator', 'senators', 'send', 'sending', 'senior', 'sense', 'sensible', 'sent', 'sentiment', 'seoul', 'separate', 'separately', 'sept', 'september', 'seputro', 'series', 'serious', 'seriously', 'serve', 'serves', 'service', 'services', 'servicing', 'serving', 'session', 'sessions', 'set', 'setback', 'sets', 'setting', 'settle', 'settled', 'settlement', 'settlements', 'settles', 'seven', 'several', 'severance', 'severe', 'severely', 'severity', 'shabwa', 'shaheen', 'shake', 'shaken', 'shakeup', 'shale', 'shall', 'shallow', 'shambles', 'shamrock', 'share', 'shared', 'shareholder', 'shareholders', 'shares', 'sharing', 'sharp', 'sharper', 'sharpest', 'sharply', 'sharq', 'shc', 'she', 'shearson', 'shed', 'sheikh', 'shelbourne', 'shelf', 'shell', 'shelled', 'shelling', 'shells', 'shelve', 'shenzhen', 'shevardnadze', 'shield', 'shift', 'shifting', 'shilling', 'shimbun', 'shinawi', 'shines', 'ship', 'shipbroker', 'shipbuilding', 'shipholding', 'shipment', 'shipments', 'shipowners', 'shipped', 'shipping', 'ships', 'shiviyacu', 'shock', 'shook', 'shoot', 'shopping', 'shopuld', 'shore', 'shoreline', 'shores', 'short', 'shortage', 'shortages', 'shortfall', 'shortfull', 'shot', 'should', 'shoulder', 'shoup', 'show', 'showed', 'showing', 'shown', 'shows', 'shrank', 'shrinking', 'shuffle', 'shuffling', 'shut', 'shutdown', 'shutdowns', 'shuts', 'shutting', 'sick', 'sickly', 'side', 'sidelined', 'sider', 'sides', 'sidetrack', 'sidi', 'sienna', 'sight', 'sightseers', 'sign', 'signal', 'signalled', 'signals', 'signed', 'significant', 'significantly', 'signing', 'signs', 'silas', 'silent', 'silkworm', 'silkworms', 'silver', 'similar', 'similarly', 'simmons', 'simon', 'simple', 'simplifying', 'simply', 'since', 'singapore', 'singer', 'single', 'singled', 'sink', 'sir', 'siracusa', 'siregar', 'sisak', 'sismik', 'sit', 'site', 'sited', 'sites', 'sits', 'sitting', 'situated', 'situation', 'situations', 'six', 'sixth', 'sizable', 'size', 'sized', 'sjt', 'skeptical', 'skepticism', 'skeptics', 'skittish', 'skyrocket', 'slack', 'slackens', 'slashed', 'slb', 'slc', 'sleeping', 'slide', 'slight', 'slightly', 'slipped', 'slope', 'slow', 'slowdown', 'slowed', 'slower', 'slowest', 'slowing', 'slowly', 'sluggish', 'slump', 'slumped', 'small', 'smaller', 'smith', 'smoerbukk', 'smoke', 'smolinski', 'snap', 'snare', 'snith', 'so', 'soar', 'soared', 'social', 'socialist', 'societa', 'societe', 'society', 'soekor', 'soft', 'soften', 'softer', 'sohio', 'soil', 'sold', 'solidarity', 'solids', 'solution', 'solv', 'solve', 'solved', 'some', 'someone', 'something', 'sometime', 'someway', 'somewhat', 'sonatrach', 'soon', 'sooner', 'sorely', 'sorry', 'sort', 'sorties', 'sought', 'sound', 'soundly', 'sounds', 'sour', 'source', 'sources', 'sours', 'south', 'southeast', 'southern', 'southland', 'southward', 'southwards', 'southwest', 'southwestern', 'sovereign', 'sovereignty', 'soviet', 'soviets', 'soybean', 'spa', 'spacing', 'spadine', 'spain', 'spanish', 'spare', 'spared', 'spark', 'sparked', 'sparking', 'speaker', 'speaking', 'special', 'specialised', 'specialist', 'specialists', 'specialty', 'specific', 'specifically', 'specifics', 'specify', 'specter', 'speculate', 'speculated', 'speculation', 'speculative', 'speculators', 'spedding', 'speech', 'speeches', 'speed', 'speedboat', 'speedier', 'speeding', 'spell', 'spend', 'spending', 'spent', 'spill', 'spilled', 'spin', 'spinning', 'spiral', 'spiralled', 'spiralling', 'spirit', 'spite', 'split', 'spoke', 'spoken', 'spokesman', 'spokesmen', 'spokeswoman', 'sponsor', 'sponsored', 'sponsorship', 'spot', 'spotlight', 'spots', 'spr', 'spread', 'spriggs', 'spring', 'springs', 'spudded', 'spur', 'spurring', 'spurs', 'sq', 'squares', 'squeeze', 'squeezed', 'srb', 'srd', 'sri', 'st', 'stabilise', 'stabilised', 'stabilising', 'stability', 'stabilization', 'stabilize', 'stabilizing', 'stable', 'stablise', 'stablize', 'stacy', 'staff', 'stage', 'stages', 'staggering', 'stagnation', 'stake', 'stakes', 'stalling', 'stamped', 'stance', 'stand', 'standard', 'standing', 'standoff', 'stands', 'stanley', 'stanlow', 'staple', 'staples', 'staqrted', 'stark', 'start', 'started', 'starting', 'starts', 'stat', 'state', 'stated', 'statement', 'statements', 'states', 'statfjord', 'station', 'stationing', 'stations', 'statistical', 'statistics', 'statoil', 'statpipe', 'stats', 'status', 'stavanger', 'stay', 'stayed', 'stays', 'stc', 'ste', 'steadied', 'steadier', 'steadily', 'steady', 'steam', 'stebbins', 'steel', 'steep', 'steeper', 'steepest', 'steering', 'stem', 'stemmed', 'stems', 'step', 'stephen', 'steps', 'sterling', 'stern', 'stevens', 'stewart', 'stg', 'stick', 'sticking', 'stiff', 'still', 'stimulant', 'stimulate', 'stimulating', 'stimulation', 'stimulus', 'stock', 'stockbroker', 'stockbrokers', 'stockbuild', 'stockbuilding', 'stockdraw', 'stockdraws', 'stockholder', 'stockholders', 'stockpile', 'stockpiling', 'stocks', 'stoltenberg', 'stood', 'stop', 'stopover', 'stoppage', 'stoppages', 'stopped', 'storage', 'stormed', 'story', 'stos', 'straight', 'strain', 'strains', 'strait', 'straits', 'stranded', 'strategic', 'strategy', 'strathcona', 'stream', 'streamlined', 'streamlining', 'street', 'strength', 'strengthen', 'strengthened', 'strengths', 'stress', 'stressed', 'stretch', 'stretching', 'strevig', 'stricken', 'strict', 'stricter', 'strictly', 'strides', 'strike', 'strikers', 'strikes', 'striking', 'stripper', 'strong', 'stronger', 'strongly', 'struck', 'structural', 'structure', 'structures', 'struggle', 'struggling', 'stuart', 'stuck', 'studied', 'studies', 'study', 'studying', 'sture', 'style', 'styrene', 'subcommittee', 'subdue', 'subhi', 'subject', 'subjects', 'submachineguns', 'submissions', 'submit', 'submitted', 'submitting', 'subroto', 'subsea', 'subsequent', 'subsequently', 'subsidence', 'subsidiaries', 'subsidiary', 'subsidies', 'subsidising', 'subsidized', 'subsidy', 'subsistence', 'subsoil', 'substantial', 'substantially', 'substitution', 'substructure', 'subversion', 'succeed', 'succeeded', 'succeeding', 'succeeds', 'success', 'successful', 'successfully', 'such', 'sucked', 'sued', 'suez', 'suffer', 'suffered', 'suffering', 'suffers', 'sufficency', 'sufficiency', 'sufficient', 'sufficiently', 'sugar', 'suggest', 'suggested', 'suggestion', 'suggestions', 'suharto', 'suitable', 'suleiman', 'suliman', 'sulphur', 'sulphurisation', 'sultan', 'sum', 'sumatra', 'sumed', 'summer', 'summit', 'summoned', 'sums', 'sun', 'sunday', 'sungari', 'sunk', 'super', 'superfund', 'superior', 'superpower', 'superpowers', 'supertanker', 'suplies', 'suport', 'supplant', 'supplement', 'supplied', 'supplier', 'suppliers', 'supplies', 'supply', 'supplying', 'support', 'supported', 'supporting', 'supportive', 'supports', 'suppose', 'supposedly', 'supreme', 'sur', 'surat', 'surcharge', 'surcharges', 'sure', 'surface', 'surfacing', 'surge', 'surged', 'surgery', 'surging', 'surpassed', 'surpasssing', 'surplus', 'surpluses', 'surprise', 'surprises', 'surrounding', 'surveillance', 'survey', 'surveyed', 'surveys', 'survive', 'survived', 'surviving', 'suspect', 'suspend', 'suspended', 'suspending', 'suspends', 'suspension', 'sustain', 'sustainable', 'sustained', 'sustaining', 'svenska', 'swamp', 'swann', 'swap', 'swaps', 'swarup', 'sweden', 'swedish', 'sweeney', 'sweep', 'sweeping', 'sweet', 'sweetened', 'swelling', 'swift', 'swing', 'swinging', 'swirl', 'switch', 'switched', 'switching', 'switzerland', 'sydney', 'symbolic', 'sympathetic', 'synar', 'syndicate', 'synfuels', 'synthetic', 'synthetics', 'syrian', 'system', 'systems', 't', 'tab', 'table', 'tableland', 'tacit', 'tackle', 'tackled', 'tactics', 'taher', 'tailor', 'tailored', 'take', 'taken', 'takeover', 'takes', 'taking', 'tales', 'talk', 'talked', 'talking', 'talks', 'tanjug', 'tank', 'tanker', 'tankers', 'tanks', 'tannurah', 'tanurah', 'tap', 'taper', 'tapers', 'tapis', 'tapped', 'tappmeyer', 'taps', 'taqi', 'tar', 'target', 'targeted', 'targeting', 'targets', 'targetted', 'tariff', 'tariffs', 'tarrif', 'task', 'tasks', 'tass', 'tat', 'tax', 'taxation', 'taxes', 'taxpayer', 'taxpayers', 'taxwriter', 'tea', 'teach', 'team', 'teams', 'teapa', 'technical', 'technically', 'techniques', 'technoexport', 'technological', 'technology', 'tehran', 'teicc', 'telecommunications', 'telephone', 'televised', 'television', 'telex', 'telexed', 'tell', 'telling', 'tells', 'tempered', 'tempers', 'tempo', 'temporarily', 'temporary', 'temptation', 'temuco', 'ten', 'tend', 'tendencies', 'tendency', 'tender', 'tenders', 'tending', 'tenneco', 'tense', 'tension', 'tensions', 'tentatively', 'tenth', 'teran', 'term', 'terminal', 'terminals', 'terminated', 'terms', 'tern', 'terra', 'territorial', 'territorrial', 'territory', 'terrorism', 'tertiary', 'test', 'tested', 'testified', 'testimony', 'testing', 'tests', 'tet', 'texaco', 'texas', 'texoma', 'texstar', 'textile', 'textiles', 'tgt', 'thagard', 'than', 'thani', 'thanks', 'thasos', 'thassos', 'that', 'thatcher', 'the', 'their', 'them', 'themselves', 'then', 'there', 'thereby', 'therefore', 'thermal', 'these', 'they', 'thick', 'thin', 'thing', 'things', 'think', 'thinking', 'thinks', 'third', 'thirds', 'thirty', 'this', 'thomas', 'thorough', 'thorvald', 'those', 'though', 'thought', 'thousand', 'thousands', 'thousandth', 'thrashing', 'threat', 'threaten', 'threatened', 'threatening', 'threats', 'three', 'threshold', 'throat', 'through', 'throughout', 'throughput', 'thrust', 'thu', 'thursday', 'thus', 'thwart', 'tide', 'tidier', 'tier', 'ties', 'tight', 'tighten', 'tightening', 'tighter', 'tihamah', 'timber', 'time', 'times', 'timing', 'tin', 'tinto', 'tip', 'tire', 'tit', 'tito', 'tmoc', 'tns', 'to', 'tobacco', 'tobago', 'today', 'together', 'tokyo', 'told', 'toll', 'toluene', 'tommorrow', 'tomorrow', 'ton', 'tone', 'tonight', 'tonnage', 'tonne', 'tonnes', 'tons', 'too', 'took', 'tool', 'top', 'topped', 'topping', 'toronto', 'total', 'totaled', 'totaling', 'totalled', 'totalling', 'totally', 'totals', 'touched', 'tough', 'tougher', 'tour', 'touring', 'toward', 'towards', 'towe', 'towed', 'tower', 'town', 'towns', 'tpn', 'trace', 'track', 'tracking', 'tracks', 'tract', 'tracts', 'trade', 'traded', 'trader', 'traders', 'trades', 'trading', 'traditional', 'traditionally', 'trafalgar', 'traffic', 'tragedy', 'tragic', 'training', 'transacted', 'transaction', 'transactions', 'transfer', 'transferable', 'transfered', 'transferred', 'transfers', 'transition', 'translated', 'transmission', 'transmits', 'transport', 'transportation', 'transported', 'transporting', 'transports', 'traub', 'trauma', 'travel', 'treacherous', 'treasurer', 'treasury', 'treating', 'treatment', 'trees', 'tremendous', 'tremendously', 'tremor', 'trend', 'trends', 'tretvoll', 'trial', 'tricentrol', 'trico', 'tried', 'trigger', 'triggered', 'trigon', 'trillion', 'trillium', 'trim', 'trinidad', 'trip', 'triple', 'tripoli', 'triton', 'tro', 'troll', 'troops', 'trouble', 'troubled', 'troubles', 'trout', 'truck', 'true', 'trust', 'trustee', 'try', 'trying', 'tucker', 'tuesday', 'tugs', 'tumaco', 'tumbling', 'tuned', 'tunisia', 'tunisian', 'turben', 'turbulence', 'turgut', 'turkey', 'turkish', 'turks', 'turmoil', 'turn', 'turnaround', 'turned', 'turning', 'tuscarawas', 'tweedel', 'twelfth', 'twice', 'twin', 'two', 'tx', 'txc', 'type', 'typical', 'typically', 'u', 'ua', 'uae', 'ucl', 'uk', 'ula', 'ullman', 'ultimate', 'ultimately', 'unable', 'unacceptable', 'unaffected', 'unanimity', 'unanimous', 'unanimously', 'unanswered', 'unattractive', 'unaudited', 'unavailable', 'unaware', 'unbalanced', 'uncertain', 'uncertainty', 'unchanged', 'uncompetitive', 'uncompetitively', 'undamaged', 'under', 'underestimated', 'undergo', 'underground', 'underlift', 'underlines', 'underlying', 'underproduced', 'undersecretary', 'understand', 'understands', 'understood', 'undertake', 'undertaken', 'undertook', 'underway', 'undesirable', 'undetermined', 'undeveloped', 'undisclosed', 'undiscovered', 'unduly', 'uneconomic', 'uneconomical', 'unequivocally', 'uneventfully', 'unexpected', 'unexpectedly', 'unexplored', 'unfairly', 'unfavorable', 'unfounded', 'unhappy', 'unidentified', 'unified', 'unilateral', 'union', 'unions', 'unique', 'unit', 'united', 'unitholders', 'units', 'unity', 'university', 'unjustified', 'unkonwn', 'unleaded', 'unleashing', 'unless', 'unlike', 'unlikely', 'unlikey', 'unload', 'unnamed', 'unnecessary', 'unocal', 'unofficially', 'unp', 'unprepared', 'unprotected', 'unpunished', 'unreasonable', 'unrelated', 'unresolved', 'unrest', 'unsecured', 'unsettled', 'unsightly', 'unsolved', 'unspecified', 'unsuccessful', 'unsuitable', 'unsure', 'untested', 'untied', 'until', 'unusual', 'unusually', 'unveils', 'unviable', 'unwilling', 'unwillingness', 'up', 'upcoming', 'updated', 'upgrade', 'upgraded', 'upgrades', 'upgrading', 'upham', 'upheld', 'uphill', 'uphold', 'uplift', 'upon', 'upper', 'upset', 'upstream', 'upsurge', 'upturn', 'upward', 'upwardly', 'urals', 'uranium', 'urge', 'urged', 'urgent', 'urges', 'urging', 'uruc', 'us', 'usa', 'usage', 'usda', 'use', 'used', 'useful', 'users', 'ushered', 'using', 'uss', 'ussr', 'usual', 'usually', 'usx', 'utah', 'utilisation', 'utilities', 'utility', 'utilization', 'utilized', 'utilizing', 'v', 'vahit', 'valdivieso', 'valhall', 'valid', 'valley', 'value', 'valued', 'values', 'valuing', 'van', 'variable', 'variety', 'various', 'vary', 'varzi', 'vasily', 'vast', 'vat', 've', 'veba', 'vehicle', 'vehicles', 'velasco', 'velayati', 'venezuela', 'venezuelan', 'venezuelans', 'venezulean', 'vengeance', 'venice', 'ventspils', 'venture', 'ventures', 'venturesome', 'verbal', 'verdal', 'verft', 'verge', 'verified', 'vermillion', 'vernon', 'version', 'versus', 'very', 'veslefrikk', 'vessel', 'vessels', 'veto', 'via', 'viability', 'viable', 'vibrancy', 'vice', 'vicinity', 'victory', 'vienna', 'view', 'views', 'vigorous', 'villages', 'villespedue', 'violating', 'violation', 'violations', 'violence', 'violent', 'virtual', 'virtually', 'virulent', 'visbreaker', 'vishnu', 'visibility', 'vision', 'visit', 'visited', 'visiting', 'visits', 'visnews', 'vista', 'visted', 'vital', 'vlccs', 'voiced', 'voiding', 'volatile', 'volatility', 'volcano', 'volume', 'volumes', 'voluntarily', 'voluntary', 'vote', 'voted', 'vowed', 'vows', 'voyage', 'vulnerability', 'w', 'w5m', 'wage', 'wages', 'wainco', 'wait', 'waited', 'waiting', 'waiver', 'wake', 'walker', 'wall', 'walter', 'walters', 'wam', 'wananchi', 'want', 'wanted', 'wanting', 'wants', 'war', 'warfront', 'warlike', 'warm', 'warmer', 'warn', 'warned', 'warner', 'warning', 'warns', 'warplanes', 'warplnes', 'warrants', 'warship', 'warships', 'was', 'washed', 'washington', 'wasn', 'wastage', 'waste', 'watch', 'watched', 'watching', 'watchword', 'water', 'waterflooding', 'waters', 'waterway', 'wattari', 'wave', 'wax', 'way', 'ways', 'we', 'weak', 'weakened', 'weakening', 'weaker', 'weakest', 'weakness', 'wealth', 'wealthy', 'weather', 'wedd', 'wednesday', 'week', 'weekdays', 'weekend', 'weekends', 'weekly', 'weeks', 'weigh', 'weighed', 'weighing', 'weight', 'weighted', 'weinberger', 'weinburger', 'welcome', 'welcomed', 'weld', 'well', 'wellemeyer', 'wellhead', 'wellheads', 'wells', 'went', 'wer', 'were', 'west', 'westcoast', 'western', 'wet', 'whale', 'what', 'whatever', 'wheat', 'when', 'whenever', 'where', 'whether', 'which', 'while', 'whilst', 'whispers', 'white', 'whitehall', 'whitehead', 'who', 'whole', 'wholesale', 'wholly', 'whom', 'whose', 'why', 'wide', 'widen', 'widening', 'wider', 'widespread', 'wild', 'wildcat', 'wilderness', 'wildlife', 'wilf', 'will', 'william', 'williams', 'willing', 'willingess', 'willingness', 'wilmington', 'wilson', 'win', 'windfall', 'winds', 'winkle', 'winter', 'wisdom', 'wise', 'wisenbaker', 'wish', 'wishes', 'witchita', 'with', 'withdraw', 'withdrawal', 'withdrawing', 'withdrawn', 'withdraws', 'withdrew', 'withheld', 'within', 'without', 'witness', 'witter', 'wmb', 'wol', 'won', 'wondered', 'wood', 'woods', 'word', 'words', 'work', 'worked', 'worker', 'workers', 'workforce', 'working', 'world', 'worldwide', 'worlkd', 'worried', 'worry', 'worrying', 'worse', 'worsen', 'worsening', 'worst', 'worth', 'would', 'wounded', 'wrangling', 'wright', 'write', 'writers', 'writing', 'written', 'wrong', 'wrote', 'wrought', 'wtc', 'wti', 'wts', 'wynnewood', 'wyoming', 'x', 'xijang', 'xon', 'xylene', 'yacimientos', 'yalim', 'yamani', 'yanbu', 'yannis', 'yards', 'yassin', 'yasuhiro', 'yates', 'year', 'yearend', 'years', 'yellow', 'yemen', 'yen', 'yergin', 'yesterday', 'yet', 'yeterray', 'yield', 'yielded', 'yielding', 'yong', 'york', 'you', 'young', 'ypf', 'yugoslav', 'yugoslavia', 'yugoslavian', 'yukon', 'yumurtalik', 'zaid', 'zaki', 'zakum', 'zama', 'zero', 'zimbabwe', 'zinc', 'zoete', 'zollinger', 'zone', 'zones', 'zubedei', 'zubeidi', 'zuheir', 'zulia', 'zverev']\n"
     ]
    }
   ],
   "source": [
    "corpus_words = []\n",
    "num_corpus_words = -1\n",
    "    \n",
    "    # ------------------\n",
    "    # Write your implementation here.\n",
    "corpus_words = [word for doc in reuters_corpus for word in doc]\n",
    "corpus_words = set(corpus_words)    # 转换为集合后不能排序，需要重新转为list进行排序\n",
    "corpus_words = list(corpus_words)\n",
    "corpus_words.sort()\n",
    "print(corpus_words)"
   ]
  },
  {
   "cell_type": "code",
   "execution_count": 286,
   "metadata": {},
   "outputs": [],
   "source": [
    "def distinct_words(corpus):\n",
    "    \"\"\" Determine a list of distinct words for the corpus.\n",
    "        Params:\n",
    "            corpus (list of list of strings): corpus of documents\n",
    "        Return:\n",
    "            corpus_words (list of strings): sorted list of distinct words across the corpus\n",
    "            num_corpus_words (integer): number of distinct words across the corpus\n",
    "    \"\"\"\n",
    "    corpus_words = []\n",
    "    num_corpus_words = -1\n",
    "    \n",
    "    # ------------------\n",
    "    # Write your implementation here.\n",
    "    corpus_words = [word for doc in corpus for word in doc]\n",
    "    corpus_words = set(corpus_words)    # 转换为集合后不能排序，需要重新转为list进行排序\n",
    "    corpus_words = list(corpus_words)\n",
    "    corpus_words.sort()\n",
    "    num_corpus_words = len(corpus_words)\n",
    "\n",
    "    return corpus_words, num_corpus_words"
   ]
  },
  {
   "cell_type": "code",
   "execution_count": 287,
   "metadata": {},
   "outputs": [
    {
     "name": "stdout",
     "output_type": "stream",
     "text": [
      "--------------------------------------------------------------------------------\n",
      "Passed All Tests!\n",
      "--------------------------------------------------------------------------------\n"
     ]
    }
   ],
   "source": [
    "# ---------------------\n",
    "# Run this sanity check\n",
    "# Note that this not an exhaustive check for correctness.\n",
    "# ---------------------\n",
    "\n",
    "# Define toy corpus\n",
    "test_corpus = [\"{} All that glitters isn't gold {}\".format(START_TOKEN, END_TOKEN).split(\" \"), \"{} All's well that ends well {}\".format(START_TOKEN, END_TOKEN).split(\" \")]\n",
    "test_corpus_words, num_corpus_words = distinct_words(test_corpus)\n",
    "\n",
    "# Correct answers\n",
    "ans_test_corpus_words = sorted([START_TOKEN, \"All\", \"ends\", \"that\", \"gold\", \"All's\", \"glitters\", \"isn't\", \"well\", END_TOKEN])\n",
    "ans_num_corpus_words = len(ans_test_corpus_words)\n",
    "\n",
    "# Test correct number of words\n",
    "assert(num_corpus_words == ans_num_corpus_words), \"Incorrect number of distinct words. Correct: {}. Yours: {}\".format(ans_num_corpus_words, num_corpus_words)\n",
    "\n",
    "# Test correct words\n",
    "assert (test_corpus_words == ans_test_corpus_words), \"Incorrect corpus_words.\\nCorrect: {}\\nYours:   {}\".format(str(ans_test_corpus_words), str(test_corpus_words))\n",
    "\n",
    "# Print Success\n",
    "print (\"-\" * 80)\n",
    "print(\"Passed All Tests!\")\n",
    "print (\"-\" * 80)"
   ]
  },
  {
   "cell_type": "markdown",
   "metadata": {},
   "source": [
    "### Question 1.2: Implement `compute_co_occurrence_matrix` [code] (3 points)\n",
    "\n",
    "Write a method that constructs a co-occurrence matrix for a certain window-size $n$ (with a default of 4), considering words $n$ before and $n$ after the word in the center of the window. Here, we start to use `numpy (np)` to represent vectors, matrices, and tensors. If you're not familiar with NumPy, there's a NumPy tutorial in the second half of this cs231n [Python NumPy tutorial](http://cs231n.github.io/python-numpy-tutorial/).\n"
   ]
  },
  {
   "cell_type": "code",
   "execution_count": 288,
   "metadata": {},
   "outputs": [
    {
     "name": "stdout",
     "output_type": "stream",
     "text": [
      "Help on class range in module builtins:\n",
      "\n",
      "class range(object)\n",
      " |  range(stop) -> range object\n",
      " |  range(start, stop[, step]) -> range object\n",
      " |  \n",
      " |  Return an object that produces a sequence of integers from start (inclusive)\n",
      " |  to stop (exclusive) by step.  range(i, j) produces i, i+1, i+2, ..., j-1.\n",
      " |  start defaults to 0, and stop is omitted!  range(4) produces 0, 1, 2, 3.\n",
      " |  These are exactly the valid indices for a list of 4 elements.\n",
      " |  When step is given, it specifies the increment (or decrement).\n",
      " |  \n",
      " |  Methods defined here:\n",
      " |  \n",
      " |  __bool__(self, /)\n",
      " |      self != 0\n",
      " |  \n",
      " |  __contains__(self, key, /)\n",
      " |      Return key in self.\n",
      " |  \n",
      " |  __eq__(self, value, /)\n",
      " |      Return self==value.\n",
      " |  \n",
      " |  __ge__(self, value, /)\n",
      " |      Return self>=value.\n",
      " |  \n",
      " |  __getattribute__(self, name, /)\n",
      " |      Return getattr(self, name).\n",
      " |  \n",
      " |  __getitem__(self, key, /)\n",
      " |      Return self[key].\n",
      " |  \n",
      " |  __gt__(self, value, /)\n",
      " |      Return self>value.\n",
      " |  \n",
      " |  __hash__(self, /)\n",
      " |      Return hash(self).\n",
      " |  \n",
      " |  __iter__(self, /)\n",
      " |      Implement iter(self).\n",
      " |  \n",
      " |  __le__(self, value, /)\n",
      " |      Return self<=value.\n",
      " |  \n",
      " |  __len__(self, /)\n",
      " |      Return len(self).\n",
      " |  \n",
      " |  __lt__(self, value, /)\n",
      " |      Return self<value.\n",
      " |  \n",
      " |  __ne__(self, value, /)\n",
      " |      Return self!=value.\n",
      " |  \n",
      " |  __reduce__(...)\n",
      " |      Helper for pickle.\n",
      " |  \n",
      " |  __repr__(self, /)\n",
      " |      Return repr(self).\n",
      " |  \n",
      " |  __reversed__(...)\n",
      " |      Return a reverse iterator.\n",
      " |  \n",
      " |  count(...)\n",
      " |      rangeobject.count(value) -> integer -- return number of occurrences of value\n",
      " |  \n",
      " |  index(...)\n",
      " |      rangeobject.index(value) -> integer -- return index of value.\n",
      " |      Raise ValueError if the value is not present.\n",
      " |  \n",
      " |  ----------------------------------------------------------------------\n",
      " |  Static methods defined here:\n",
      " |  \n",
      " |  __new__(*args, **kwargs) from builtins.type\n",
      " |      Create and return a new object.  See help(type) for accurate signature.\n",
      " |  \n",
      " |  ----------------------------------------------------------------------\n",
      " |  Data descriptors defined here:\n",
      " |  \n",
      " |  start\n",
      " |  \n",
      " |  step\n",
      " |  \n",
      " |  stop\n",
      "\n"
     ]
    }
   ],
   "source": [
    "help(range)"
   ]
  },
  {
   "cell_type": "code",
   "execution_count": 289,
   "metadata": {},
   "outputs": [],
   "source": [
    "def compute_co_occurrence_matrix(corpus, window_size=4):\n",
    "    \"\"\" Compute co-occurrence matrix for the given corpus and window_size (default of 4).\n",
    "    \n",
    "        Note: Each word in a document should be at the center of a window. Words near edges will have a smaller\n",
    "              number of co-occurring words.\n",
    "              \n",
    "              For example, if we take the document \"<START> All that glitters is not gold <END>\" with window size of 4,\n",
    "              \"All\" will co-occur with \"<START>\", \"that\", \"glitters\", \"is\", and \"not\".\n",
    "    \n",
    "        Params:\n",
    "            corpus (list of list of strings): corpus of documents\n",
    "            window_size (int): size of context window\n",
    "        Return:\n",
    "            M (a symmetric numpy matrix of shape (number of unique words in the corpus , number of unique words in the corpus)): \n",
    "                Co-occurence matrix of word counts. \n",
    "                The ordering of the words in the rows/columns should be the same as the ordering of the words given by the distinct_words function.\n",
    "            word2ind (dict): dictionary that maps word to index (i.e. row/column number) for matrix M.\n",
    "    \"\"\"\n",
    "    words, num_words = distinct_words(corpus)\n",
    "    M = None\n",
    "    word2ind = {}\n",
    "    \n",
    "    # ------------------\n",
    "    # Write your implementation here.\n",
    "    M = np.zeros((num_words,num_words))      # 定义M矩阵的大小并将数值初始化为0\n",
    "    cur = 0             # 记录当前字典中最大序号\n",
    "    for word in words:   # 对句子中的每个单词构造词典,保证与words的顺序一致\n",
    "        word2ind[word] = cur\n",
    "        cur += 1\n",
    "    docs = len(corpus)\n",
    "    for i in range(docs):\n",
    "        doc = corpus[i]\n",
    "        for j in range(len(doc)):\n",
    "            idx1 = word2ind[doc[j]]\n",
    "            for k in range(max(0,j-window_size),min(j+window_size+1,len(doc))):     # 窗口为4\n",
    "                if k != j:     # 排除本身\n",
    "                    idx2 = word2ind[doc[k]]\n",
    "                    M[idx1][idx2] += 1     # 为了保证不重复计算，只计算中心词到周边词方向\n",
    "\n",
    "    # ------------------\n",
    "\n",
    "    return M, word2ind"
   ]
  },
  {
   "cell_type": "code",
   "execution_count": 290,
   "metadata": {},
   "outputs": [
    {
     "name": "stdout",
     "output_type": "stream",
     "text": [
      "--------------------------------------------------------------------------------\n",
      "Passed All Tests!\n",
      "--------------------------------------------------------------------------------\n"
     ]
    }
   ],
   "source": [
    "# ---------------------\n",
    "# Run this sanity check\n",
    "# Note that this is not an exhaustive check for correctness.\n",
    "# ---------------------\n",
    "\n",
    "# Define toy corpus and get student's co-occurrence matrix\n",
    "test_corpus = [\"{} All that glitters isn't gold {}\".format(START_TOKEN, END_TOKEN).split(\" \"), \"{} All's well that ends well {}\".format(START_TOKEN, END_TOKEN).split(\" \")]\n",
    "M_test, word2ind_test = compute_co_occurrence_matrix(test_corpus, window_size=1)\n",
    "\n",
    "# Correct M and word2ind\n",
    "M_test_ans = np.array( \n",
    "    [[0., 0., 0., 0., 0., 0., 1., 0., 0., 1.,],\n",
    "     [0., 0., 1., 1., 0., 0., 0., 0., 0., 0.,],\n",
    "     [0., 1., 0., 0., 0., 0., 0., 0., 1., 0.,],\n",
    "     [0., 1., 0., 0., 0., 0., 0., 0., 0., 1.,],\n",
    "     [0., 0., 0., 0., 0., 0., 0., 0., 1., 1.,],\n",
    "     [0., 0., 0., 0., 0., 0., 0., 1., 1., 0.,],\n",
    "     [1., 0., 0., 0., 0., 0., 0., 1., 0., 0.,],\n",
    "     [0., 0., 0., 0., 0., 1., 1., 0., 0., 0.,],\n",
    "     [0., 0., 1., 0., 1., 1., 0., 0., 0., 1.,],\n",
    "     [1., 0., 0., 1., 1., 0., 0., 0., 1., 0.,]]\n",
    ")\n",
    "ans_test_corpus_words = sorted([START_TOKEN, \"All\", \"ends\", \"that\", \"gold\", \"All's\", \"glitters\", \"isn't\", \"well\", END_TOKEN])\n",
    "word2ind_ans = dict(zip(ans_test_corpus_words, range(len(ans_test_corpus_words))))\n",
    "\n",
    "# Test correct word2ind\n",
    "assert (word2ind_ans == word2ind_test), \"Your word2ind is incorrect:\\nCorrect: {}\\nYours: {}\".format(word2ind_ans, word2ind_test)\n",
    "\n",
    "# Test correct M shape\n",
    "assert (M_test.shape == M_test_ans.shape), \"M matrix has incorrect shape.\\nCorrect: {}\\nYours: {}\".format(M_test.shape, M_test_ans.shape)\n",
    "\n",
    "# Test correct M values\n",
    "for w1 in word2ind_ans.keys():\n",
    "    idx1 = word2ind_ans[w1]\n",
    "    for w2 in word2ind_ans.keys():\n",
    "        idx2 = word2ind_ans[w2]\n",
    "        student = M_test[idx1, idx2]\n",
    "        correct = M_test_ans[idx1, idx2]\n",
    "        if student != correct:\n",
    "            print(\"Correct M:\")\n",
    "            print(M_test_ans)\n",
    "            print(\"Your M: \")\n",
    "            print(M_test)\n",
    "            raise AssertionError(\"Incorrect count at index ({}, {})=({}, {}) in matrix M. Yours has {} but should have {}.\".format(idx1, idx2, w1, w2, student, correct))\n",
    "\n",
    "# Print Success\n",
    "print (\"-\" * 80)\n",
    "print(\"Passed All Tests!\")\n",
    "print (\"-\" * 80)"
   ]
  },
  {
   "cell_type": "markdown",
   "metadata": {},
   "source": [
    "### Question 1.3: Implement `reduce_to_k_dim` [code] (1 point)\n",
    "\n",
    "Construct a method that performs dimensionality reduction on the matrix to produce k-dimensional embeddings. Use SVD to take the top k components and produce a new matrix of k-dimensional embeddings. \n",
    "\n",
    "**Note:** All of numpy, scipy, and scikit-learn (`sklearn`) provide *some* implementation of SVD, but only scipy and sklearn provide an implementation of Truncated SVD, and only sklearn provides an efficient randomized algorithm for calculating large-scale Truncated SVD. So please use [sklearn.decomposition.TruncatedSVD](https://scikit-learn.org/stable/modules/generated/sklearn.decomposition.TruncatedSVD.html)."
   ]
  },
  {
   "cell_type": "code",
   "execution_count": 291,
   "metadata": {},
   "outputs": [
    {
     "name": "stdout",
     "output_type": "stream",
     "text": [
      "Help on class TruncatedSVD in module sklearn.decomposition._truncated_svd:\n",
      "\n",
      "class TruncatedSVD(sklearn.base.TransformerMixin, sklearn.base.BaseEstimator)\n",
      " |  TruncatedSVD(n_components=2, *, algorithm='randomized', n_iter=5, random_state=None, tol=0.0)\n",
      " |  \n",
      " |  Dimensionality reduction using truncated SVD (aka LSA).\n",
      " |  \n",
      " |  This transformer performs linear dimensionality reduction by means of\n",
      " |  truncated singular value decomposition (SVD). Contrary to PCA, this\n",
      " |  estimator does not center the data before computing the singular value\n",
      " |  decomposition. This means it can work with sparse matrices\n",
      " |  efficiently.\n",
      " |  \n",
      " |  In particular, truncated SVD works on term count/tf-idf matrices as\n",
      " |  returned by the vectorizers in :mod:`sklearn.feature_extraction.text`. In\n",
      " |  that context, it is known as latent semantic analysis (LSA).\n",
      " |  \n",
      " |  This estimator supports two algorithms: a fast randomized SVD solver, and\n",
      " |  a \"naive\" algorithm that uses ARPACK as an eigensolver on `X * X.T` or\n",
      " |  `X.T * X`, whichever is more efficient.\n",
      " |  \n",
      " |  Read more in the :ref:`User Guide <LSA>`.\n",
      " |  \n",
      " |  Parameters\n",
      " |  ----------\n",
      " |  n_components : int, default=2\n",
      " |      Desired dimensionality of output data.\n",
      " |      Must be strictly less than the number of features.\n",
      " |      The default value is useful for visualisation. For LSA, a value of\n",
      " |      100 is recommended.\n",
      " |  \n",
      " |  algorithm : {'arpack', 'randomized'}, default='randomized'\n",
      " |      SVD solver to use. Either \"arpack\" for the ARPACK wrapper in SciPy\n",
      " |      (scipy.sparse.linalg.svds), or \"randomized\" for the randomized\n",
      " |      algorithm due to Halko (2009).\n",
      " |  \n",
      " |  n_iter : int, default=5\n",
      " |      Number of iterations for randomized SVD solver. Not used by ARPACK. The\n",
      " |      default is larger than the default in\n",
      " |      :func:`~sklearn.utils.extmath.randomized_svd` to handle sparse\n",
      " |      matrices that may have large slowly decaying spectrum.\n",
      " |  \n",
      " |  random_state : int, RandomState instance or None, default=None\n",
      " |      Used during randomized svd. Pass an int for reproducible results across\n",
      " |      multiple function calls.\n",
      " |      See :term:`Glossary <random_state>`.\n",
      " |  \n",
      " |  tol : float, default=0.\n",
      " |      Tolerance for ARPACK. 0 means machine precision. Ignored by randomized\n",
      " |      SVD solver.\n",
      " |  \n",
      " |  Attributes\n",
      " |  ----------\n",
      " |  components_ : ndarray of shape (n_components, n_features)\n",
      " |  \n",
      " |  explained_variance_ : ndarray of shape (n_components,)\n",
      " |      The variance of the training samples transformed by a projection to\n",
      " |      each component.\n",
      " |  \n",
      " |  explained_variance_ratio_ : ndarray of shape (n_components,)\n",
      " |      Percentage of variance explained by each of the selected components.\n",
      " |  \n",
      " |  singular_values_ : ndarray od shape (n_components,)\n",
      " |      The singular values corresponding to each of the selected components.\n",
      " |      The singular values are equal to the 2-norms of the ``n_components``\n",
      " |      variables in the lower-dimensional space.\n",
      " |  \n",
      " |  Examples\n",
      " |  --------\n",
      " |  >>> from sklearn.decomposition import TruncatedSVD\n",
      " |  >>> from scipy.sparse import random as sparse_random\n",
      " |  >>> X = sparse_random(100, 100, density=0.01, format='csr',\n",
      " |  ...                   random_state=42)\n",
      " |  >>> svd = TruncatedSVD(n_components=5, n_iter=7, random_state=42)\n",
      " |  >>> svd.fit(X)\n",
      " |  TruncatedSVD(n_components=5, n_iter=7, random_state=42)\n",
      " |  >>> print(svd.explained_variance_ratio_)\n",
      " |  [0.0646... 0.0633... 0.0639... 0.0535... 0.0406...]\n",
      " |  >>> print(svd.explained_variance_ratio_.sum())\n",
      " |  0.286...\n",
      " |  >>> print(svd.singular_values_)\n",
      " |  [1.553... 1.512...  1.510... 1.370... 1.199...]\n",
      " |  \n",
      " |  See Also\n",
      " |  --------\n",
      " |  PCA\n",
      " |  \n",
      " |  References\n",
      " |  ----------\n",
      " |  Finding structure with randomness: Stochastic algorithms for constructing\n",
      " |  approximate matrix decompositions\n",
      " |  Halko, et al., 2009 (arXiv:909) https://arxiv.org/pdf/0909.4061.pdf\n",
      " |  \n",
      " |  Notes\n",
      " |  -----\n",
      " |  SVD suffers from a problem called \"sign indeterminacy\", which means the\n",
      " |  sign of the ``components_`` and the output from transform depend on the\n",
      " |  algorithm and random state. To work around this, fit instances of this\n",
      " |  class to data once, then keep the instance around to do transformations.\n",
      " |  \n",
      " |  Method resolution order:\n",
      " |      TruncatedSVD\n",
      " |      sklearn.base.TransformerMixin\n",
      " |      sklearn.base.BaseEstimator\n",
      " |      builtins.object\n",
      " |  \n",
      " |  Methods defined here:\n",
      " |  \n",
      " |  __init__(self, n_components=2, *, algorithm='randomized', n_iter=5, random_state=None, tol=0.0)\n",
      " |      Initialize self.  See help(type(self)) for accurate signature.\n",
      " |  \n",
      " |  fit(self, X, y=None)\n",
      " |      Fit model on training data X.\n",
      " |      \n",
      " |      Parameters\n",
      " |      ----------\n",
      " |      X : {array-like, sparse matrix} of shape (n_samples, n_features)\n",
      " |          Training data.\n",
      " |      \n",
      " |      y : Ignored\n",
      " |      \n",
      " |      Returns\n",
      " |      -------\n",
      " |      self : object\n",
      " |          Returns the transformer object.\n",
      " |  \n",
      " |  fit_transform(self, X, y=None)\n",
      " |      Fit model to X and perform dimensionality reduction on X.\n",
      " |      \n",
      " |      Parameters\n",
      " |      ----------\n",
      " |      X : {array-like, sparse matrix} of shape (n_samples, n_features)\n",
      " |          Training data.\n",
      " |      \n",
      " |      y : Ignored\n",
      " |      \n",
      " |      Returns\n",
      " |      -------\n",
      " |      X_new : ndarray of shape (n_samples, n_components)\n",
      " |          Reduced version of X. This will always be a dense array.\n",
      " |  \n",
      " |  inverse_transform(self, X)\n",
      " |      Transform X back to its original space.\n",
      " |      \n",
      " |      Returns an array X_original whose transform would be X.\n",
      " |      \n",
      " |      Parameters\n",
      " |      ----------\n",
      " |      X : array-like of shape (n_samples, n_components)\n",
      " |          New data.\n",
      " |      \n",
      " |      Returns\n",
      " |      -------\n",
      " |      X_original : ndarray of shape (n_samples, n_features)\n",
      " |          Note that this is always a dense array.\n",
      " |  \n",
      " |  transform(self, X)\n",
      " |      Perform dimensionality reduction on X.\n",
      " |      \n",
      " |      Parameters\n",
      " |      ----------\n",
      " |      X : {array-like, sparse matrix} of shape (n_samples, n_features)\n",
      " |          New data.\n",
      " |      \n",
      " |      Returns\n",
      " |      -------\n",
      " |      X_new : ndarray of shape (n_samples, n_components)\n",
      " |          Reduced version of X. This will always be a dense array.\n",
      " |  \n",
      " |  ----------------------------------------------------------------------\n",
      " |  Data descriptors inherited from sklearn.base.TransformerMixin:\n",
      " |  \n",
      " |  __dict__\n",
      " |      dictionary for instance variables (if defined)\n",
      " |  \n",
      " |  __weakref__\n",
      " |      list of weak references to the object (if defined)\n",
      " |  \n",
      " |  ----------------------------------------------------------------------\n",
      " |  Methods inherited from sklearn.base.BaseEstimator:\n",
      " |  \n",
      " |  __getstate__(self)\n",
      " |  \n",
      " |  __repr__(self, N_CHAR_MAX=700)\n",
      " |      Return repr(self).\n",
      " |  \n",
      " |  __setstate__(self, state)\n",
      " |  \n",
      " |  get_params(self, deep=True)\n",
      " |      Get parameters for this estimator.\n",
      " |      \n",
      " |      Parameters\n",
      " |      ----------\n",
      " |      deep : bool, default=True\n",
      " |          If True, will return the parameters for this estimator and\n",
      " |          contained subobjects that are estimators.\n",
      " |      \n",
      " |      Returns\n",
      " |      -------\n",
      " |      params : dict\n",
      " |          Parameter names mapped to their values.\n",
      " |  \n",
      " |  set_params(self, **params)\n",
      " |      Set the parameters of this estimator.\n",
      " |      \n",
      " |      The method works on simple estimators as well as on nested objects\n",
      " |      (such as :class:`~sklearn.pipeline.Pipeline`). The latter have\n",
      " |      parameters of the form ``<component>__<parameter>`` so that it's\n",
      " |      possible to update each component of a nested object.\n",
      " |      \n",
      " |      Parameters\n",
      " |      ----------\n",
      " |      **params : dict\n",
      " |          Estimator parameters.\n",
      " |      \n",
      " |      Returns\n",
      " |      -------\n",
      " |      self : estimator instance\n",
      " |          Estimator instance.\n",
      "\n"
     ]
    }
   ],
   "source": [
    "help(TruncatedSVD)"
   ]
  },
  {
   "cell_type": "code",
   "execution_count": 292,
   "metadata": {},
   "outputs": [],
   "source": [
    "def reduce_to_k_dim(M, k=2):\n",
    "    \"\"\" Reduce a co-occurence count matrix of dimensionality (num_corpus_words, num_corpus_words)\n",
    "        to a matrix of dimensionality (num_corpus_words, k) using the following SVD function from Scikit-Learn:\n",
    "            - http://scikit-learn.org/stable/modules/generated/sklearn.decomposition.TruncatedSVD.html\n",
    "    \n",
    "        Params:\n",
    "            M (numpy matrix of shape (number of unique words in the corpus , number of unique words in the corpus)): co-occurence matrix of word counts\n",
    "            k (int): embedding size of each word after dimension reduction\n",
    "        Return:\n",
    "            M_reduced (numpy matrix of shape (number of corpus words, k)): matrix of k-dimensioal word embeddings.\n",
    "                    In terms of the SVD from math class, this actually returns U * S\n",
    "    \"\"\"    \n",
    "    n_iters = 10     # Use this parameter in your call to `TruncatedSVD`\n",
    "    M_reduced = None\n",
    "    print(\"Running Truncated SVD over %i words...\" % (M.shape[0]))\n",
    "    \n",
    "    # ------------------\n",
    "    # Write your implementation here.\n",
    "    svd = TruncatedSVD(n_components=k,n_iter=n_iters,random_state=42)   # n_iter是和randomnize配套的\n",
    "    svd.fit(M)   \n",
    "    M_reduced = svd.transform(M)   # 需要先fit模型再transform\n",
    "    # ------------------\n",
    "\n",
    "    print(\"Done.\")\n",
    "    return M_reduced"
   ]
  },
  {
   "cell_type": "code",
   "execution_count": 293,
   "metadata": {},
   "outputs": [
    {
     "name": "stdout",
     "output_type": "stream",
     "text": [
      "Running Truncated SVD over 10 words...\n",
      "Done.\n",
      "--------------------------------------------------------------------------------\n",
      "Passed All Tests!\n",
      "--------------------------------------------------------------------------------\n"
     ]
    }
   ],
   "source": [
    "# ---------------------\n",
    "# Run this sanity check\n",
    "# Note that this is not an exhaustive check for correctness \n",
    "# In fact we only check that your M_reduced has the right dimensions.\n",
    "# ---------------------\n",
    "\n",
    "# Define toy corpus and run student code\n",
    "test_corpus = [\"{} All that glitters isn't gold {}\".format(START_TOKEN, END_TOKEN).split(\" \"), \"{} All's well that ends well {}\".format(START_TOKEN, END_TOKEN).split(\" \")]\n",
    "M_test, word2ind_test = compute_co_occurrence_matrix(test_corpus, window_size=1)\n",
    "M_test_reduced = reduce_to_k_dim(M_test, k=2)\n",
    "\n",
    "# Test proper dimensions\n",
    "assert (M_test_reduced.shape[0] == 10), \"M_reduced has {} rows; should have {}\".format(M_test_reduced.shape[0], 10)\n",
    "assert (M_test_reduced.shape[1] == 2), \"M_reduced has {} columns; should have {}\".format(M_test_reduced.shape[1], 2)\n",
    "\n",
    "# Print Success\n",
    "print (\"-\" * 80)\n",
    "print(\"Passed All Tests!\")\n",
    "print (\"-\" * 80)"
   ]
  },
  {
   "cell_type": "markdown",
   "metadata": {},
   "source": [
    "### Question 1.4: Implement `plot_embeddings` [code] (1 point)\n",
    "\n",
    "Here you will write a function to plot a set of 2D vectors in 2D space. For graphs, we will use Matplotlib (`plt`).\n",
    "\n",
    "For this example, you may find it useful to adapt [this code](http://web.archive.org/web/20190924160434/https://www.pythonmembers.club/2018/05/08/matplotlib-scatter-plot-annotate-set-text-at-label-each-point/). In the future, a good way to make a plot is to look at [the Matplotlib gallery](https://matplotlib.org/gallery/index.html), find a plot that looks somewhat like what you want, and adapt the code they give."
   ]
  },
  {
   "cell_type": "code",
   "execution_count": 294,
   "metadata": {},
   "outputs": [
    {
     "data": {
      "image/png": "[encoded data removed]",
      "text/plain": [
       "<Figure size 720x360 with 1 Axes>"
      ]
     },
     "metadata": {
      "needs_background": "light"
     },
     "output_type": "display_data"
    }
   ],
   "source": [
    "# simulating a pandas df['type'] column\n",
    "types = ['apple', 'orange', 'apple', 'pear', 'apple', 'orange', 'apple', 'pear']\n",
    "x_coords = [10, 10, 5, 4, 3, 20, 19, 21]\n",
    "y_coords = [21, 23, 12, 21, 10, 20, 14, 2]\n",
    "\n",
    "for i,type in enumerate(types):\n",
    "    x = x_coords[i]\n",
    "    y = y_coords[i]\n",
    "    plt.scatter(x, y, marker='x', color='red')\n",
    "    plt.text(x+0.3, y+0.3, type, fontsize=9)\n",
    "plt.show()"
   ]
  },
  {
   "cell_type": "code",
   "execution_count": 295,
   "metadata": {},
   "outputs": [],
   "source": [
    "def plot_embeddings(M_reduced, word2ind, words):\n",
    "    \"\"\" Plot in a scatterplot the embeddings of the words specified in the list \"words\".\n",
    "        NOTE: do not plot all the words listed in M_reduced / word2ind.\n",
    "        Include a label next to each point.\n",
    "        \n",
    "        Params:\n",
    "            M_reduced (numpy matrix of shape (number of unique words in the corpus , 2)): matrix of 2-dimensioal word embeddings\n",
    "            word2ind (dict): dictionary that maps word to indices for matrix M\n",
    "            words (list of strings): words whose embeddings we want to visualize\n",
    "    \"\"\"\n",
    "\n",
    "    # ------------------\n",
    "    # Write your implementation here.\n",
    "    \n",
    "    x_coords = M_reduced[:,0]   # 横坐标\n",
    "    y_coords = M_reduced[:,1]   # 纵坐标\n",
    "    for word in words:    # 画出words中的词向量表示\n",
    "        i = word2ind[word]\n",
    "        x = x_coords[i]\n",
    "        y = y_coords[i]\n",
    "        plt.scatter(x, y, marker='x', color='red')\n",
    "        plt.text(x, y, word, fontsize=9)\n",
    "    plt.show()\n",
    "\n",
    "    # ------------------"
   ]
  },
  {
   "cell_type": "code",
   "execution_count": 296,
   "metadata": {},
   "outputs": [
    {
     "name": "stdout",
     "output_type": "stream",
     "text": [
      "--------------------------------------------------------------------------------\n",
      "Outputted Plot:\n"
     ]
    },
    {
     "data": {
      "image/png": "[encoded data removed]",
      "text/plain": [
       "<Figure size 720x360 with 1 Axes>"
      ]
     },
     "metadata": {
      "needs_background": "light"
     },
     "output_type": "display_data"
    },
    {
     "name": "stdout",
     "output_type": "stream",
     "text": [
      "--------------------------------------------------------------------------------\n"
     ]
    }
   ],
   "source": [
    "# ---------------------\n",
    "# Run this sanity check\n",
    "# Note that this is not an exhaustive check for correctness.\n",
    "# The plot produced should look like the \"test solution plot\" depicted below. \n",
    "# ---------------------\n",
    "\n",
    "print (\"-\" * 80)\n",
    "print (\"Outputted Plot:\")\n",
    "\n",
    "M_reduced_plot_test = np.array([[1, 1], [-1, -1], [1, -1], [-1, 1], [0, 0]])\n",
    "word2ind_plot_test = {'test1': 0, 'test2': 1, 'test3': 2, 'test4': 3, 'test5': 4}\n",
    "words = ['test1', 'test2', 'test3', 'test4', 'test5']\n",
    "plot_embeddings(M_reduced_plot_test, word2ind_plot_test, words)\n",
    "\n",
    "print (\"-\" * 80)"
   ]
  },
  {
   "cell_type": "markdown",
   "metadata": {},
   "source": [
    "<font color=red>**Test Plot Solution**</font>\n",
    "<br>\n",
    "<img src=\"./imgs/test_plot.png\" width=40% style=\"float: left;\"> </img>\n"
   ]
  },
  {
   "cell_type": "markdown",
   "metadata": {},
   "source": [
    "### Question 1.5: Co-Occurrence Plot Analysis [written] (3 points)\n",
    "\n",
    "Now we will put together all the parts you have written! We will compute the co-occurrence matrix with fixed window of 4 (the default window size), over the Reuters \"crude\" (oil) corpus. Then we will use TruncatedSVD to compute 2-dimensional embeddings of each word. TruncatedSVD returns U\\*S, so we need to normalize the returned vectors, so that all the vectors will appear around the unit circle (therefore closeness is directional closeness). **Note**: The line of code below that does the normalizing uses the NumPy concept of *broadcasting*. If you don't know about broadcasting, check out\n",
    "[Computation on Arrays: Broadcasting by Jake VanderPlas](https://jakevdp.github.io/PythonDataScienceHandbook/02.05-computation-on-arrays-broadcasting.html).\n",
    "\n",
    "Run the below cell to produce the plot. It'll probably take a few seconds to run. What clusters together in 2-dimensional embedding space? What doesn't cluster together that you might think should have?  **Note:** \"bpd\" stands for \"barrels per day\" and is a commonly used abbreviation in crude oil topic articles."
   ]
  },
  {
   "cell_type": "code",
   "execution_count": 297,
   "metadata": {},
   "outputs": [
    {
     "name": "stdout",
     "output_type": "stream",
     "text": [
      "Running Truncated SVD over 8185 words...\n",
      "Done.\n"
     ]
    },
    {
     "data": {
      "image/png": "[encoded data removed]",
      "text/plain": [
       "<Figure size 720x360 with 1 Axes>"
      ]
     },
     "metadata": {
      "needs_background": "light"
     },
     "output_type": "display_data"
    }
   ],
   "source": [
    "# -----------------------------\n",
    "# Run This Cell to Produce Your Plot\n",
    "# ------------------------------\n",
    "reuters_corpus = read_corpus()\n",
    "M_co_occurrence, word2ind_co_occurrence = compute_co_occurrence_matrix(reuters_corpus)\n",
    "M_reduced_co_occurrence = reduce_to_k_dim(M_co_occurrence, k=2)\n",
    "\n",
    "# Rescale (normalize) the rows to make them each of unit-length\n",
    "M_lengths = np.linalg.norm(M_reduced_co_occurrence, axis=1)\n",
    "M_normalized = M_reduced_co_occurrence / M_lengths[:, np.newaxis] # broadcasting\n",
    "\n",
    "words = ['barrels', 'bpd', 'ecuador', 'energy', 'industry', 'kuwait', 'oil', 'output', 'petroleum', 'iraq']\n",
    "\n",
    "plot_embeddings(M_normalized, word2ind_co_occurrence, words)"
   ]
  },
  {
   "cell_type": "markdown",
   "metadata": {},
   "source": [
    "#### <font color=\"red\">Write your answer here.</font>\n",
    "1. What clusters together in 2-dimensional embedding space?\n",
    "   \n",
    "   从图上看，iraq,ecuador,kuwait相邻最近。三者都是国家。\n",
    "\n",
    "\n",
    "2. What doesn't cluster together that you might think should have?\n",
    "    \n",
    "   bpd和barrels应该相邻近一些，因为两者都与barrels有关。同样petroleum应该和energy，oil，以及iraq，ecuador,kuwait相邻更近，因为这些国家和石油产出有关，并且石油也属于能源的一种，和油也应当相近。"
   ]
  },
  {
   "cell_type": "markdown",
   "metadata": {},
   "source": [
    "## Part 2: Prediction-Based Word Vectors (15 points)\n",
    "\n",
    "As discussed in class, more recently prediction-based word vectors have demonstrated better performance, such as word2vec and GloVe (which also utilizes the benefit of counts). Here, we shall explore the embeddings produced by GloVe. Please revisit the class notes and lecture slides for more details on the word2vec and GloVe algorithms. If you're feeling adventurous, challenge yourself and try reading [GloVe's original paper](https://nlp.stanford.edu/pubs/glove.pdf).\n",
    "\n",
    "Then run the following cells to load the GloVe vectors into memory. **Note**: If this is your first time to run these cells, i.e. download the embedding model, it will take a couple minutes to run. If you've run these cells before, rerunning them will load the model without redownloading it, which will take about 1 to 2 minutes."
   ]
  },
  {
   "cell_type": "code",
   "execution_count": 298,
   "metadata": {},
   "outputs": [],
   "source": [
    "def load_embedding_model():\n",
    "    \"\"\" Load GloVe Vectors\n",
    "        Return:\n",
    "            wv_from_bin: All 400000 embeddings, each lengh 200\n",
    "    \"\"\"\n",
    "    import gensim.downloader as api\n",
    "    wv_from_bin = api.load(\"glove-wiki-gigaword-200\")\n",
    "    print(\"Loaded vocab size %i\" % len(wv_from_bin.vocab.keys()))\n",
    "    return wv_from_bin"
   ]
  },
  {
   "cell_type": "code",
   "execution_count": 299,
   "metadata": {},
   "outputs": [
    {
     "name": "stdout",
     "output_type": "stream",
     "text": [
      "Loaded vocab size 400000\n"
     ]
    }
   ],
   "source": [
    "# -----------------------------------\n",
    "# Run Cell to Load Word Vectors\n",
    "# Note: This will take a couple minutes\n",
    "# -----------------------------------\n",
    "wv_from_bin = load_embedding_model()"
   ]
  },
  {
   "cell_type": "markdown",
   "metadata": {},
   "source": [
    "#### Note: If you are receiving a \"reset by peer\" error, rerun the cell to restart the download. "
   ]
  },
  {
   "cell_type": "markdown",
   "metadata": {},
   "source": [
    "### Reducing dimensionality of Word Embeddings\n",
    "Let's directly compare the GloVe embeddings to those of the co-occurrence matrix. In order to avoid running out of memory, we will work with a sample of 10000 GloVe vectors instead.\n",
    "Run the following cells to:\n",
    "\n",
    "1. Put 10000 Glove vectors into a matrix M\n",
    "2. Run `reduce_to_k_dim` (your Truncated SVD function) to reduce the vectors from 200-dimensional to 2-dimensional."
   ]
  },
  {
   "cell_type": "code",
   "execution_count": 300,
   "metadata": {},
   "outputs": [],
   "source": [
    "def get_matrix_of_vectors(wv_from_bin, required_words=['barrels', 'bpd', 'ecuador', 'energy', 'industry', 'kuwait', 'oil', 'output', 'petroleum', 'iraq']):\n",
    "    \"\"\" Put the GloVe vectors into a matrix M.\n",
    "        Param:\n",
    "            wv_from_bin: KeyedVectors object; the 400000 GloVe vectors loaded from file\n",
    "        Return:\n",
    "            M: numpy matrix shape (num words, 200) containing the vectors\n",
    "            word2ind: dictionary mapping each word to its row number in M\n",
    "    \"\"\"\n",
    "    import random\n",
    "    words = list(wv_from_bin.vocab.keys())\n",
    "    print(\"Shuffling words ...\")\n",
    "    random.seed(224)\n",
    "    random.shuffle(words)\n",
    "    words = words[:10000]\n",
    "    print(\"Putting %i words into word2ind and matrix M...\" % len(words))\n",
    "    word2ind = {}\n",
    "    M = []\n",
    "    curInd = 0\n",
    "    for w in words:\n",
    "        try:\n",
    "            M.append(wv_from_bin.word_vec(w))\n",
    "            word2ind[w] = curInd\n",
    "            curInd += 1\n",
    "        except KeyError:\n",
    "            continue\n",
    "    for w in required_words:\n",
    "        if w in words:\n",
    "            continue\n",
    "        try:\n",
    "            M.append(wv_from_bin.word_vec(w))\n",
    "            word2ind[w] = curInd\n",
    "            curInd += 1\n",
    "        except KeyError:\n",
    "            continue\n",
    "    M = np.stack(M)\n",
    "    print(\"Done.\")\n",
    "    return M, word2ind"
   ]
  },
  {
   "cell_type": "code",
   "execution_count": 301,
   "metadata": {},
   "outputs": [
    {
     "name": "stdout",
     "output_type": "stream",
     "text": [
      "Shuffling words ...\n",
      "Putting 10000 words into word2ind and matrix M...\n",
      "Done.\n",
      "Running Truncated SVD over 10010 words...\n",
      "Done.\n"
     ]
    }
   ],
   "source": [
    "# -----------------------------------------------------------------\n",
    "# Run Cell to Reduce 200-Dimensional Word Embeddings to k Dimensions\n",
    "# Note: This should be quick to run\n",
    "# -----------------------------------------------------------------\n",
    "M, word2ind = get_matrix_of_vectors(wv_from_bin)\n",
    "M_reduced = reduce_to_k_dim(M, k=2)\n",
    "\n",
    "# Rescale (normalize) the rows to make them each of unit-length\n",
    "M_lengths = np.linalg.norm(M_reduced, axis=1)\n",
    "M_reduced_normalized = M_reduced / M_lengths[:, np.newaxis] # broadcasting"
   ]
  },
  {
   "cell_type": "markdown",
   "metadata": {},
   "source": [
    "**Note: If you are receiving out of memory issues on your local machine, try closing other applications to free more memory on your device. You may want to try restarting your machine so that you can free up extra memory. Then immediately run the jupyter notebook and see if you can load the word vectors properly. If you still have problems with loading the embeddings onto your local machine after this, please go to office hours or contact course staff.**"
   ]
  },
  {
   "cell_type": "markdown",
   "metadata": {},
   "source": [
    "### Question 2.1: GloVe Plot Analysis [written] (3 points)\n",
    "\n",
    "Run the cell below to plot the 2D GloVe embeddings for `['barrels', 'bpd', 'ecuador', 'energy', 'industry', 'kuwait', 'oil', 'output', 'petroleum', 'iraq']`.\n",
    "\n",
    "What clusters together in 2-dimensional embedding space? What doesn't cluster together that you think should have? How is the plot different from the one generated earlier from the co-occurrence matrix? What is a possible cause for the difference?"
   ]
  },
  {
   "cell_type": "code",
   "execution_count": 302,
   "metadata": {
    "scrolled": true
   },
   "outputs": [
    {
     "data": {
      "image/png": "[encoded data removed]",
      "text/plain": [
       "<Figure size 720x360 with 1 Axes>"
      ]
     },
     "metadata": {
      "needs_background": "light"
     },
     "output_type": "display_data"
    }
   ],
   "source": [
    "words = ['barrels', 'bpd', 'ecuador', 'energy', 'industry', 'kuwait', 'oil', 'output', 'petroleum', 'iraq']\n",
    "plot_embeddings(M_reduced_normalized, word2ind, words)"
   ]
  },
  {
   "cell_type": "markdown",
   "metadata": {},
   "source": [
    "#### <font color=\"red\">Write your answer here.</font>\n",
    "1. What clusters together in 2-dimensional embedding space? \n",
    "    \n",
    "    这些单词聚集在了一起：ecudor,iraq,petroleum;以及industry,energy。\n",
    "    \n",
    "    \n",
    "2. What doesn't cluster together that you think should have?\n",
    "    \n",
    "    kuwait应当和ecudor，iraq距离更近，因为它们都是国家。oil应该和energy的距离更近，因为oil也可以充当能量。energy应该和petroleum距离更近，因为石油也是一种能源。bpd应当和barrels更近，因为二者相关。\n",
    "    \n",
    "    \n",
    "3. How is the plot different from the one generated earlier from the co-occurrence matrix?\n",
    "    \n",
    "    跟之前生成的图相比，这张图知道iraq和ecudor与petroleum的关系，因为它们是石油产出国。\n",
    "    \n",
    "    \n",
    "4. What is a possible cause for the difference?\n",
    "    \n",
    "    训练GloVe的语料更多，可能GloVe在训练过程中从其他的语料中找到了iraq,ecudor和petroleum的相似性。"
   ]
  },
  {
   "cell_type": "markdown",
   "metadata": {},
   "source": [
    "### Cosine Similarity\n",
    "Now that we have word vectors, we need a way to quantify the similarity between individual words, according to these vectors. One such metric is cosine-similarity. We will be using this to find words that are \"close\" and \"far\" from one another.\n",
    "\n",
    "We can think of n-dimensional vectors as points in n-dimensional space. If we take this perspective [L1](http://mathworld.wolfram.com/L1-Norm.html) and [L2](http://mathworld.wolfram.com/L2-Norm.html) Distances help quantify the amount of space \"we must travel\" to get between these two points. Another approach is to examine the angle between two vectors. From trigonometry we know that:\n",
    "\n",
    "<img src=\"./imgs/inner_product.png\" width=20% style=\"float: center;\"></img>\n",
    "\n",
    "Instead of computing the actual angle, we can leave the similarity in terms of $similarity = cos(\\Theta)$. Formally the [Cosine Similarity](https://en.wikipedia.org/wiki/Cosine_similarity) $s$ between two vectors $p$ and $q$ is defined as:\n",
    "\n",
    "$$s = \\frac{p \\cdot q}{||p|| ||q||}, \\textrm{ where } s \\in [-1, 1] $$ "
   ]
  },
  {
   "cell_type": "markdown",
   "metadata": {},
   "source": [
    "### Question 2.2: Words with Multiple Meanings (1.5 points) [code + written] \n",
    "Polysemes and homonyms are words that have more than one meaning (see this [wiki page](https://en.wikipedia.org/wiki/Polysemy) to learn more about the difference between polysemes and homonyms ). Find a word with *at least two different meanings* such that the top-10 most similar words (according to cosine similarity) contain related words from *both* meanings. For example, \"leaves\" has both \"go_away\" and \"a_structure_of_a_plant\" meaning in the top 10, and \"scoop\" has both \"handed_waffle_cone\" and \"lowdown\". You will probably need to try several polysemous or homonymic words before you find one. \n",
    "\n",
    "Please state the word you discover and the multiple meanings that occur in the top 10. Why do you think many of the polysemous or homonymic words you tried didn't work (i.e. the top-10 most similar words only contain **one** of the meanings of the words)?\n",
    "\n",
    "**Note**: You should use the `wv_from_bin.most_similar(word)` function to get the top 10 similar words. This function ranks all other words in the vocabulary with respect to their cosine similarity to the given word. For further assistance, please check the __[GenSim documentation](https://radimrehurek.com/gensim/models/keyedvectors.html#gensim.models.keyedvectors.FastTextKeyedVectors.most_similar)__."
   ]
  },
  {
   "cell_type": "code",
   "execution_count": 303,
   "metadata": {},
   "outputs": [
    {
     "data": {
      "text/plain": [
       "[('loans', 0.7077944278717041),\n",
       " ('banks', 0.6579417586326599),\n",
       " ('lending', 0.6542577147483826),\n",
       " ('debt', 0.6433146595954895),\n",
       " ('financial', 0.6388546824455261),\n",
       " ('lenders', 0.6341482996940613),\n",
       " ('mortgage', 0.633211612701416),\n",
       " ('card', 0.6157312393188477),\n",
       " ('loan', 0.6150013208389282),\n",
       " ('bank', 0.6049751043319702)]"
      ]
     },
     "execution_count": 303,
     "metadata": {},
     "output_type": "execute_result"
    }
   ],
   "source": [
    "    # ------------------\n",
    "    # Write your implementation here.\n",
    "    wv_from_bin.most_similar('delicate')\n",
    "    wv_from_bin.most_similar('mean')\n",
    "    wv_from_bin.most_similar('credit')\n",
    "\n",
    "    # ------------------"
   ]
  },
  {
   "cell_type": "markdown",
   "metadata": {},
   "source": [
    "#### <font color=\"red\">Write your answer here.</font>\n",
    "Why do you think many of the polysemous or homonymic words you tried didn't work (i.e. the top-10 most similar words only contain one of the meanings of the words)?\n",
    "\n",
    "我试了三个单词'delicate'，'mean'和‘credit',delicate的结果很好，包括复杂的近义词和脆弱的近义词；mean的结果有很多，有些词感觉词义并不相近，只是和mean经常一起出现的单词而已，比如you。credit的10个相近词都和借贷有关，没有体现一词多义，我觉得可能作为信任、学分、赞扬等义项时没有借贷常见于书面语？"
   ]
  },
  {
   "cell_type": "markdown",
   "metadata": {},
   "source": [
    "### Question 2.3: Synonyms & Antonyms (2 points) [code + written] \n",
    "\n",
    "When considering Cosine Similarity, it's often more convenient to think of Cosine Distance, which is simply 1 - Cosine Similarity.\n",
    "\n",
    "Find three words $(w_1,w_2,w_3)$ where $w_1$ and $w_2$ are synonyms and $w_1$ and $w_3$ are antonyms, but Cosine Distance $(w_1,w_3) <$ Cosine Distance $(w_1,w_2)$. \n",
    "\n",
    "As an example, $w_1$=\"happy\" is closer to $w_3$=\"sad\" than to $w_2$=\"cheerful\". Please find a different example that satisfies the above. Once you have found your example, please give a possible explanation for why this counter-intuitive result may have happened.\n",
    "\n",
    "You should use the the `wv_from_bin.distance(w1, w2)` function here in order to compute the cosine distance between two words. Please see the __[GenSim documentation](https://radimrehurek.com/gensim/models/keyedvectors.html#gensim.models.keyedvectors.FastTextKeyedVectors.distance)__ for further assistance."
   ]
  },
  {
   "cell_type": "code",
   "execution_count": 304,
   "metadata": {},
   "outputs": [
    {
     "name": "stdout",
     "output_type": "stream",
     "text": [
      "True\n"
     ]
    }
   ],
   "source": [
    "    # ------------------\n",
    "    # Write your implementation here.\n",
    "    w1 = 'tall'\n",
    "    w2 = 'high'\n",
    "    w3 = 'short'\n",
    "    print(wv_from_bin.distance(w1,w3) < wv_from_bin.distance(w1,w2))\n",
    "\n",
    "    # ------------------"
   ]
  },
  {
   "cell_type": "markdown",
   "metadata": {},
   "source": [
    "#### <font color=\"red\">Write your answer here.</font>\n",
    "1. Once you have found your example, please give a possible explanation for why this counter-intuitive result may have happened.\n",
    "\n",
    "    tall和short的距离比tall和high的距离近，因为tall和short通常形容的东西是一致的，而tall和high虽然都是表示高，但是所用的语境不一样。"
   ]
  },
  {
   "cell_type": "markdown",
   "metadata": {},
   "source": [
    "### Question 2.4: Analogies with Word Vectors [written] (1.5 points)\n",
    "Word vectors have been shown to *sometimes* exhibit the ability to solve analogies. \n",
    "\n",
    "As an example, for the analogy \"man : king :: woman : x\" (read: man is to king as woman is to x), what is x?\n",
    "\n",
    "In the cell below, we show you how to use word vectors to find x using the `most_similar` function from the __[GenSim documentation](https://radimrehurek.com/gensim/models/keyedvectors.html#gensim.models.keyedvectors.KeyedVectors.most_similar)__. The function finds words that are most similar to the words in the `positive` list and most dissimilar from the words in the `negative` list (while omitting the input words, which are often the most similar; see [this paper](https://www.aclweb.org/anthology/N18-2039.pdf)). The answer to the analogy will have the highest cosine similarity (largest returned numerical value)."
   ]
  },
  {
   "cell_type": "code",
   "execution_count": 305,
   "metadata": {},
   "outputs": [
    {
     "name": "stdout",
     "output_type": "stream",
     "text": [
      "[('queen', 0.6978678703308105),\n",
      " ('princess', 0.6081745028495789),\n",
      " ('monarch', 0.5889754891395569),\n",
      " ('throne', 0.5775108933448792),\n",
      " ('prince', 0.5750998258590698),\n",
      " ('elizabeth', 0.5463595986366272),\n",
      " ('daughter', 0.5399125814437866),\n",
      " ('kingdom', 0.5318052172660828),\n",
      " ('mother', 0.5168544054031372),\n",
      " ('crown', 0.5164473056793213)]\n"
     ]
    }
   ],
   "source": [
    "# Run this cell to answer the analogy -- man : king :: woman : x\n",
    "pprint.pprint(wv_from_bin.most_similar(positive=['woman', 'king'], negative=['man']))"
   ]
  },
  {
   "cell_type": "markdown",
   "metadata": {},
   "source": [
    "Let $m$, $k$, $w$, and $x$ denote the word vectors for `man`, `king`, `woman`, and the answer, respectively. Using **only** vectors $m$, $k$, $w$, and the vector arithmetic operators $+$ and $-$ in your answer, what is the expression in which we are maximizing cosine similarity with $x$?\n",
    "\n",
    "Hint: Recall that word vectors are simply multi-dimensional vectors that represent a word. It might help to draw out a 2D example using arbitrary locations of each vector. Where would `man` and `woman` lie in the coordinate plane relative to `king` and the answer?"
   ]
  },
  {
   "cell_type": "markdown",
   "metadata": {},
   "source": [
    "#### <font color=\"red\">Write your answer here.</font>\n",
    "1. what is the expression in which we are maximizing cosine similarity with $x$?\n",
    "\n",
    "    $x$ = $m$ - $k$ + $w$"
   ]
  },
  {
   "cell_type": "markdown",
   "metadata": {},
   "source": [
    "### Question 2.5: Finding Analogies [code + written]  (1.5 points)\n",
    "Find an example of analogy that holds according to these vectors (i.e. the intended word is ranked top). In your solution please state the full analogy in the form x:y :: a:b. If you believe the analogy is complicated, explain why the analogy holds in one or two sentences.\n",
    "\n",
    "**Note**: You may have to try many analogies to find one that works!"
   ]
  },
  {
   "cell_type": "code",
   "execution_count": 306,
   "metadata": {},
   "outputs": [
    {
     "name": "stdout",
     "output_type": "stream",
     "text": [
      "[('girlfriend', 0.9004116058349609),\n",
      " ('fiancee', 0.7291214466094971),\n",
      " ('fiance', 0.7040010690689087),\n",
      " ('roommate', 0.6572763919830322),\n",
      " ('daughter', 0.6503206491470337),\n",
      " ('friend', 0.6436749696731567),\n",
      " ('fiancée', 0.6202861666679382),\n",
      " ('lover', 0.6192771792411804),\n",
      " ('mother', 0.6137216091156006),\n",
      " ('sister', 0.6130797863006592)]\n"
     ]
    }
   ],
   "source": [
    "    # ------------------\n",
    "    # Write your implementation here.\n",
    "    \n",
    "    x = 'husband'\n",
    "    y = 'wife'\n",
    "    a = 'boyfriend'\n",
    "    pprint.pprint(wv_from_bin.most_similar(positive=[a,y], negative=[x]))\n",
    "    # ------------------"
   ]
  },
  {
   "cell_type": "markdown",
   "metadata": {},
   "source": [
    "#### <font color=\"red\">Write your answer here.</font>\n",
    "\n",
    "1. If you believe the analogy is complicated, explain why the analogy holds in one or two sentences.\n",
    "\n",
    "    我举的例子不是很复杂，其中答案girlfriend远远超过别的答案。husband's lover is wife. Boyfriend's lover is girlfriend."
   ]
  },
  {
   "cell_type": "markdown",
   "metadata": {},
   "source": [
    "### Question 2.6: Incorrect Analogy [code + written] (1.5 points)\n",
    "Find an example of analogy that does *not* hold according to these vectors. In your solution, state the intended analogy in the form x:y :: a:b, and state the (incorrect) value of b according to the word vectors."
   ]
  },
  {
   "cell_type": "code",
   "execution_count": 307,
   "metadata": {},
   "outputs": [
    {
     "name": "stdout",
     "output_type": "stream",
     "text": [
      "[('shows', 0.6816157698631287),\n",
      " ('featured', 0.5979820489883423),\n",
      " ('musical', 0.5755614042282104),\n",
      " ('popular', 0.5726433992385864),\n",
      " ('artists', 0.5612326860427856),\n",
      " ('concert', 0.5576844215393066),\n",
      " ('featuring', 0.5575670003890991),\n",
      " ('songs', 0.5549471378326416),\n",
      " ('performances', 0.5548363924026489),\n",
      " ('concerts', 0.5522793531417847)]\n"
     ]
    }
   ],
   "source": [
    "    # ------------------\n",
    "    # Write your implementation here.\n",
    "    \n",
    "    x = 'ear'\n",
    "    y = 'music'\n",
    "    a = 'show'\n",
    "    pprint.pprint(wv_from_bin.most_similar(positive=[a,y], negative=[x]))\n",
    "\n",
    "    # ------------------"
   ]
  },
  {
   "cell_type": "markdown",
   "metadata": {},
   "source": [
    "#### <font color=\"red\">Write your answer here.</font>\n",
    "1. In your solution, state the intended analogy in the form x:y :: a:b, and state the (incorrect) value of b according to the word vectors.\n",
    "\n",
    "    ear-music应该对应eye-show.我觉得最终结果不好的原因一个是因为单复数的表示，另一个则是因为在语境中这两个单词很少一起出现，这个对应关系更多是概念、功能上的理解。"
   ]
  },
  {
   "cell_type": "markdown",
   "metadata": {},
   "source": [
    "### Question 2.7: Guided Analysis of Bias in Word Vectors [written] (1 point)\n",
    "\n",
    "It's important to be cognizant of the biases (gender, race, sexual orientation etc.) implicit in our word embeddings. Bias can be dangerous because it can reinforce stereotypes through applications that employ these models.\n",
    "\n",
    "Run the cell below, to examine (a) which terms are most similar to \"woman\" and \"worker\" and most dissimilar to \"man\", and (b) which terms are most similar to \"man\" and \"worker\" and most dissimilar to \"woman\". Point out the difference between the list of female-associated words and the list of male-associated words, and explain how it is reflecting gender bias."
   ]
  },
  {
   "cell_type": "code",
   "execution_count": 308,
   "metadata": {},
   "outputs": [
    {
     "name": "stdout",
     "output_type": "stream",
     "text": [
      "[('employee', 0.6375863552093506),\n",
      " ('workers', 0.6068919897079468),\n",
      " ('nurse', 0.5837947130203247),\n",
      " ('pregnant', 0.5363885760307312),\n",
      " ('mother', 0.5321309566497803),\n",
      " ('employer', 0.5127025842666626),\n",
      " ('teacher', 0.5099577307701111),\n",
      " ('child', 0.5096741914749146),\n",
      " ('homemaker', 0.5019455552101135),\n",
      " ('nurses', 0.4970571994781494)]\n",
      "\n",
      "[('workers', 0.611325740814209),\n",
      " ('employee', 0.5983108878135681),\n",
      " ('working', 0.5615329742431641),\n",
      " ('laborer', 0.5442320108413696),\n",
      " ('unemployed', 0.5368517637252808),\n",
      " ('job', 0.5278826951980591),\n",
      " ('work', 0.5223963260650635),\n",
      " ('mechanic', 0.5088937282562256),\n",
      " ('worked', 0.5054520964622498),\n",
      " ('factory', 0.4940453767776489)]\n"
     ]
    }
   ],
   "source": [
    "# Run this cell\n",
    "# Here `positive` indicates the list of words to be similar to and `negative` indicates the list of words to be\n",
    "# most dissimilar from.\n",
    "pprint.pprint(wv_from_bin.most_similar(positive=['woman', 'worker'], negative=['man']))\n",
    "print()\n",
    "pprint.pprint(wv_from_bin.most_similar(positive=['man', 'worker'], negative=['woman']))"
   ]
  },
  {
   "cell_type": "markdown",
   "metadata": {},
   "source": [
    "#### <font color=\"red\">Write your answer here.</font>\n",
    "1. which terms are most similar to \"woman\" and \"worker\" and most dissimilar to \"man\"\n",
    "\n",
    "    emplyee.\n",
    "    \n",
    "    \n",
    "2. which terms are most similar to \"man\" and \"worker\" and most dissimilar to \"woman\". \n",
    "\n",
    "    workers.\n",
    "    \n",
    "    \n",
    "3. Point out the difference between the list of female-associated words and the list of male-associated words, and explain how it is reflecting gender bias.\n",
    "\n",
    "    employee是不区分男女的，在第一个问题中，与man最不相似的是employee，说明女性没有专属的类似称谓。第二个问题与woman最不相似的是workers，去掉单复数的影响也是employee，就明白employee这个词指向男性。这些职业词汇只考虑了男性，没有考虑女性在职场上的位置，忽视了女性的贡献，这就是现在的性别偏见，worker和employee通常指男性。"
   ]
  },
  {
   "cell_type": "markdown",
   "metadata": {},
   "source": [
    "### Question 2.8: Independent Analysis of Bias in Word Vectors [code + written]  (1 point)\n",
    "\n",
    "Use the `most_similar` function to find another case where some bias is exhibited by the vectors. Please briefly explain the example of bias that you discover."
   ]
  },
  {
   "cell_type": "code",
   "execution_count": 309,
   "metadata": {},
   "outputs": [
    {
     "name": "stdout",
     "output_type": "stream",
     "text": [
      "[('male', 0.5519737005233765),\n",
      " ('breadwinners', 0.5386138558387756),\n",
      " ('nonwhite', 0.44267794489860535),\n",
      " ('cross-dressers', 0.4274864196777344),\n",
      " ('miscreant', 0.41178470849990845),\n",
      " ('public-sector', 0.408683180809021),\n",
      " ('non-white', 0.4073066711425781),\n",
      " ('determinant', 0.4069772958755493),\n",
      " ('working-age', 0.40603742003440857),\n",
      " ('dynasts', 0.4030470848083496)]\n"
     ]
    }
   ],
   "source": [
    "    # ------------------\n",
    "    # Write your implementation here.\n",
    "\n",
    "    pprint.pprint(wv_from_bin.most_similar(positive=['breadwinner', 'female'], negative=['wife']))\n",
    "    # ------------------"
   ]
  },
  {
   "cell_type": "markdown",
   "metadata": {},
   "source": [
    "#### <font color=\"red\">Write your answer here.</font>\n",
    "1. Please briefly explain the example of bias that you discover.\n",
    "\n",
    "    就像妻子的性别是女，breadwinner性别对应为男，由此可见社会分工传统男主外女主内的偏见。"
   ]
  },
  {
   "cell_type": "markdown",
   "metadata": {},
   "source": [
    "### Question 2.9: Thinking About Bias [written] (2 points)\n",
    "\n",
    "Give one explanation of how bias gets into the word vectors. What is an experiment that you could do to test for or to measure this source of bias?"
   ]
  },
  {
   "cell_type": "markdown",
   "metadata": {},
   "source": [
    "#### <font color=\"red\">Write your answer here.</font>\n",
    "\n",
    "偏见就是由收集的语料里人类本身的偏见带入到了词向量中。想要测量这种偏见，需要按照几个偏见常发生的分类：性别、种族等等来判断在一个类别中存在的关系，在另一个类别中是否存在两个对应的词向量。"
   ]
  },
  {
   "cell_type": "markdown",
   "metadata": {},
   "source": [
    "# <font color=\"blue\"> Submission Instructions</font>\n",
    "\n",
    "1. Click the Save button at the top of the Jupyter Notebook.\n",
    "2. Select Cell -> All Output -> Clear. This will clear all the outputs from all cells (but will keep the content of all cells). \n",
    "2. Select Cell -> Run All. This will run all the cells in order, and will take several minutes.\n",
    "3. Once you've rerun everything, select File -> Download as -> PDF via LaTeX (If you have trouble using \"PDF via LaTex\", you can also save the webpage as pdf. <font color='blue'> Make sure all your solutions especially the coding parts are displayed in the pdf</font>, it's okay if the provided codes get cut off because lines are not wrapped in code cells).\n",
    "4. Look at the PDF file and make sure all your solutions are there, displayed correctly. The PDF is the only thing your graders will see!\n",
    "5. Submit your PDF on Gradescope."
   ]
  }
 ],
 "metadata": {
  "anaconda-cloud": {},
  "kernelspec": {
   "display_name": "cs224n",
   "language": "python",
   "name": "cs224n"
  },
  "language_info": {
   "codemirror_mode": {
    "name": "ipython",
    "version": 3
   },
   "file_extension": ".py",
   "mimetype": "text/x-python",
   "name": "python",
   "nbconvert_exporter": "python",
   "pygments_lexer": "ipython3",
   "version": "3.7.10"
  },
  "toc": {
   "base_numbering": 1,
   "nav_menu": {},
   "number_sections": false,
   "sideBar": true,
   "skip_h1_title": false,
   "title_cell": "Table of Contents",
   "title_sidebar": "Contents",
   "toc_cell": false,
   "toc_position": {},
   "toc_section_display": true,
   "toc_window_display": true
  }
 },
 "nbformat": 4,
 "nbformat_minor": 2
}
